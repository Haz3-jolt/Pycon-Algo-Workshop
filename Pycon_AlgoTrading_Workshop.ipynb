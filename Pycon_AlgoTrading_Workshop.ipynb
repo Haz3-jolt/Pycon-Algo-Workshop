{
  "cells": [
    {
      "cell_type": "markdown",
      "metadata": {
        "id": "view-in-github",
        "colab_type": "text"
      },
      "source": [
        "<a href=\"https://colab.research.google.com/github/Haz3-jolt/Pycon-Algo-Workshop/blob/main/Pycon_AlgoTrading_Workshop.ipynb\" target=\"_parent\"><img src=\"https://colab.research.google.com/assets/colab-badge.svg\" alt=\"Open In Colab\"/></a>"
      ]
    },
    {
      "cell_type": "markdown",
      "metadata": {
        "id": "SsgZmxYXpQUA"
      },
      "source": [
        "# Python-Powered Algorithmic Trading: From Theory to Practice"
      ]
    },
    {
      "cell_type": "markdown",
      "metadata": {
        "id": "i1dATioXroHH"
      },
      "source": [
        "## Introduction\n"
      ]
    },
    {
      "cell_type": "markdown",
      "metadata": {
        "id": "V_RumFUErnoO"
      },
      "source": [
        "### Algorithmic Trading\n",
        "\n",
        "Algorithmic trading uses computer algorithms to automatically execute trades based on predefined criteria, such as price, volume, or timing.\n",
        "\n",
        "It aims to optimize trading strategies, minimize human error, and capitalize on market opportunities quickly.\n",
        "\n",
        "By analyzing vast amounts of data and executing trades at high speeds, algo trading enhances efficiency and can lead to more precise and profitable trading decisions.\n"
      ]
    },
    {
      "cell_type": "markdown",
      "metadata": {
        "id": "HBB1krXxCYlh"
      },
      "source": [
        "## Installation"
      ]
    },
    {
      "cell_type": "markdown",
      "metadata": {
        "id": "220-Kz9E5isH"
      },
      "source": [
        "### Configurations"
      ]
    },
    {
      "cell_type": "code",
      "execution_count": 1,
      "metadata": {
        "id": "T_ZPvG4KPsXB"
      },
      "outputs": [],
      "source": [
        "# Set Configurations\n",
        "\n",
        "# Matplotlib configuration\n",
        "%matplotlib inline\n",
        "\n",
        "# Suppress future warning messages\n",
        "import warnings\n",
        "warnings.simplefilter(\"ignore\", category=FutureWarning)"
      ]
    },
    {
      "cell_type": "markdown",
      "metadata": {
        "id": "9ns-qZczCeDw"
      },
      "source": [
        "### TA-Lib C Module\n",
        "\n",
        "[TA-Lib](https://ta-lib.org/) (Technical Analysis Library) is widely used by developers in finance and trading for performing technical analysis on market data.\n",
        "\n",
        "- Provides over 200+ indicators such as ADX, MACD, RSI, Stochastic, Bollinger Bands, and more.\n",
        "- Supports candlestick pattern recognition for identifying trading signals.\n",
        "- Released in 2001, TA-Lib implements well-established algorithms that are still popular over 20 years later.\n",
        "- Provides Open-source API for Python, but requires installation of a C module dependency for proper functionality.\n",
        "\n",
        "Installation:\n",
        "To install the required C module for TA-Lib, specific commands are needed.\n",
        "For installation in Google Colab, refer to a [Stackoverflow answer](https://stackoverflow.com/questions/49648391/how-to-install-ta-lib-in-google-colab) that provides step-by-step guidance."
      ]
    },
    {
      "cell_type": "code",
      "execution_count": 2,
      "metadata": {
        "colab": {
          "base_uri": "https://localhost:8080/"
        },
        "id": "U7nVxRVmI0Kw",
        "outputId": "76753144-1e60-4e67-f112-50d58f3507f5"
      },
      "outputs": [
        {
          "output_type": "stream",
          "name": "stdout",
          "text": [
            "Selecting previously unselected package libta-lib0.\n",
            "(Reading database ... 123599 files and directories currently installed.)\n",
            "Preparing to unpack libta.deb ...\n",
            "Unpacking libta-lib0 (0.4.0-oneiric1) ...\n",
            "Selecting previously unselected package ta-lib0-dev.\n",
            "Preparing to unpack ta.deb ...\n",
            "Unpacking ta-lib0-dev (0.4.0-oneiric1) ...\n",
            "Setting up libta-lib0 (0.4.0-oneiric1) ...\n",
            "Setting up ta-lib0-dev (0.4.0-oneiric1) ...\n",
            "Processing triggers for man-db (2.10.2-1) ...\n",
            "Processing triggers for libc-bin (2.35-0ubuntu3.4) ...\n",
            "/sbin/ldconfig.real: /usr/local/lib/libtbbbind.so.3 is not a symbolic link\n",
            "\n",
            "/sbin/ldconfig.real: /usr/local/lib/libur_adapter_level_zero.so.0 is not a symbolic link\n",
            "\n",
            "/sbin/ldconfig.real: /usr/local/lib/libtbbbind_2_0.so.3 is not a symbolic link\n",
            "\n",
            "/sbin/ldconfig.real: /usr/local/lib/libur_loader.so.0 is not a symbolic link\n",
            "\n",
            "/sbin/ldconfig.real: /usr/local/lib/libtbbmalloc_proxy.so.2 is not a symbolic link\n",
            "\n",
            "/sbin/ldconfig.real: /usr/local/lib/libtbb.so.12 is not a symbolic link\n",
            "\n",
            "/sbin/ldconfig.real: /usr/local/lib/libtbbbind_2_5.so.3 is not a symbolic link\n",
            "\n",
            "/sbin/ldconfig.real: /usr/local/lib/libur_adapter_opencl.so.0 is not a symbolic link\n",
            "\n",
            "/sbin/ldconfig.real: /usr/local/lib/libtbbmalloc.so.2 is not a symbolic link\n",
            "\n"
          ]
        }
      ],
      "source": [
        "url = 'https://launchpad.net/~mario-mariomedina/+archive/ubuntu/talib/+files'\n",
        "!wget $url/libta-lib0_0.4.0-oneiric1_amd64.deb -qO libta.deb\n",
        "!wget $url/ta-lib0-dev_0.4.0-oneiric1_amd64.deb -qO ta.deb\n",
        "!dpkg -i libta.deb ta.deb"
      ]
    },
    {
      "cell_type": "markdown",
      "metadata": {
        "id": "nB-GOTc-C5GX"
      },
      "source": [
        "### TA-Lib Python Package\n",
        "\n",
        "The original Python bindings for TA-Lib were created using **SWIG** (Simplified Wrapper and Interface Generator). However, these bindings can be challenging to install and are not as optimized in terms of performance as they could be.\n",
        "\n",
        "To address these limitations, we will use a different [Python package](https://github.com/TA-Lib/ta-lib-python) that serves as a **Cython-based wrapper** for TA-Lib. Cython provides a more streamlined and efficient way to interface with the underlying C library, making it easier to install and faster in execution compared to the SWIG-based implementation.\n",
        "\n",
        "This alternative package ensures better performance and ease of use, making it a preferred choice for developers working with TA-Lib in Python."
      ]
    },
    {
      "cell_type": "code",
      "execution_count": 3,
      "metadata": {
        "colab": {
          "base_uri": "https://localhost:8080/"
        },
        "id": "RnxlHoCMC4sG",
        "outputId": "2f2446f1-8ad3-42b8-e52d-5dba9fc829b2"
      },
      "outputs": [
        {
          "output_type": "stream",
          "name": "stdout",
          "text": [
            "Collecting TA-Lib\n",
            "  Downloading TA-Lib-0.4.32.tar.gz (368 kB)\n",
            "\u001b[?25l     \u001b[90m━━━━━━━━━━━━━━━━━━━━━━━━━━━━━━━━━━━━━━━━\u001b[0m \u001b[32m0.0/368.5 kB\u001b[0m \u001b[31m?\u001b[0m eta \u001b[36m-:--:--\u001b[0m\r\u001b[2K     \u001b[91m━━━━━━━━━━━━━━━━━━━━━━━━━━━━━━━━━━━━━━\u001b[0m\u001b[91m╸\u001b[0m\u001b[90m━\u001b[0m \u001b[32m358.4/368.5 kB\u001b[0m \u001b[31m13.7 MB/s\u001b[0m eta \u001b[36m0:00:01\u001b[0m\r\u001b[2K     \u001b[90m━━━━━━━━━━━━━━━━━━━━━━━━━━━━━━━━━━━━━━━━\u001b[0m \u001b[32m368.5/368.5 kB\u001b[0m \u001b[31m9.0 MB/s\u001b[0m eta \u001b[36m0:00:00\u001b[0m\n",
            "\u001b[?25h  Installing build dependencies ... \u001b[?25l\u001b[?25hdone\n",
            "  Getting requirements to build wheel ... \u001b[?25l\u001b[?25hdone\n",
            "  Preparing metadata (pyproject.toml) ... \u001b[?25l\u001b[?25hdone\n",
            "Requirement already satisfied: numpy in /usr/local/lib/python3.10/dist-packages (from TA-Lib) (1.26.4)\n",
            "Building wheels for collected packages: TA-Lib\n",
            "  Building wheel for TA-Lib (pyproject.toml) ... \u001b[?25l\u001b[?25hdone\n",
            "  Created wheel for TA-Lib: filename=TA_Lib-0.4.32-cp310-cp310-linux_x86_64.whl size=2063399 sha256=1c27d847cbe85c77eac2cb7199b848bec42c870d6e179fa6872b3d7e3ac83374\n",
            "  Stored in directory: /root/.cache/pip/wheels/c3/21/bd/ca95eb09997c2a18fce271b98b10ffa9fcafbaa161be864dd7\n",
            "Successfully built TA-Lib\n",
            "Installing collected packages: TA-Lib\n",
            "Successfully installed TA-Lib-0.4.32\n"
          ]
        }
      ],
      "source": [
        "!pip install TA-Lib"
      ]
    },
    {
      "cell_type": "markdown",
      "metadata": {
        "id": "rpAM5RfOHjpn"
      },
      "source": [
        "### Yfinance\n",
        "[yfinance](https://github.com/ranaroussi/yfinance) provides a Pythonic and efficient way to download market data, making it easy to access historical and real-time financial information."
      ]
    },
    {
      "cell_type": "code",
      "execution_count": 4,
      "metadata": {
        "colab": {
          "base_uri": "https://localhost:8080/"
        },
        "id": "f1la4Te3O7vv",
        "outputId": "63d61169-0e2e-4339-c581-579fbff6155c"
      },
      "outputs": [
        {
          "output_type": "stream",
          "name": "stdout",
          "text": [
            "Requirement already satisfied: yfinance in /usr/local/lib/python3.10/dist-packages (0.2.43)\n",
            "Requirement already satisfied: pandas>=1.3.0 in /usr/local/lib/python3.10/dist-packages (from yfinance) (2.1.4)\n",
            "Requirement already satisfied: numpy>=1.16.5 in /usr/local/lib/python3.10/dist-packages (from yfinance) (1.26.4)\n",
            "Requirement already satisfied: requests>=2.31 in /usr/local/lib/python3.10/dist-packages (from yfinance) (2.32.3)\n",
            "Requirement already satisfied: multitasking>=0.0.7 in /usr/local/lib/python3.10/dist-packages (from yfinance) (0.0.11)\n",
            "Requirement already satisfied: lxml>=4.9.1 in /usr/local/lib/python3.10/dist-packages (from yfinance) (4.9.4)\n",
            "Requirement already satisfied: platformdirs>=2.0.0 in /usr/local/lib/python3.10/dist-packages (from yfinance) (4.3.4)\n",
            "Requirement already satisfied: pytz>=2022.5 in /usr/local/lib/python3.10/dist-packages (from yfinance) (2024.2)\n",
            "Requirement already satisfied: frozendict>=2.3.4 in /usr/local/lib/python3.10/dist-packages (from yfinance) (2.4.4)\n",
            "Requirement already satisfied: peewee>=3.16.2 in /usr/local/lib/python3.10/dist-packages (from yfinance) (3.17.6)\n",
            "Requirement already satisfied: beautifulsoup4>=4.11.1 in /usr/local/lib/python3.10/dist-packages (from yfinance) (4.12.3)\n",
            "Requirement already satisfied: html5lib>=1.1 in /usr/local/lib/python3.10/dist-packages (from yfinance) (1.1)\n",
            "Requirement already satisfied: soupsieve>1.2 in /usr/local/lib/python3.10/dist-packages (from beautifulsoup4>=4.11.1->yfinance) (2.6)\n",
            "Requirement already satisfied: six>=1.9 in /usr/local/lib/python3.10/dist-packages (from html5lib>=1.1->yfinance) (1.16.0)\n",
            "Requirement already satisfied: webencodings in /usr/local/lib/python3.10/dist-packages (from html5lib>=1.1->yfinance) (0.5.1)\n",
            "Requirement already satisfied: python-dateutil>=2.8.2 in /usr/local/lib/python3.10/dist-packages (from pandas>=1.3.0->yfinance) (2.8.2)\n",
            "Requirement already satisfied: tzdata>=2022.1 in /usr/local/lib/python3.10/dist-packages (from pandas>=1.3.0->yfinance) (2024.1)\n",
            "Requirement already satisfied: charset-normalizer<4,>=2 in /usr/local/lib/python3.10/dist-packages (from requests>=2.31->yfinance) (3.3.2)\n",
            "Requirement already satisfied: idna<4,>=2.5 in /usr/local/lib/python3.10/dist-packages (from requests>=2.31->yfinance) (3.10)\n",
            "Requirement already satisfied: urllib3<3,>=1.21.1 in /usr/local/lib/python3.10/dist-packages (from requests>=2.31->yfinance) (2.0.7)\n",
            "Requirement already satisfied: certifi>=2017.4.17 in /usr/local/lib/python3.10/dist-packages (from requests>=2.31->yfinance) (2024.8.30)\n"
          ]
        }
      ],
      "source": [
        "!pip install yfinance"
      ]
    },
    {
      "cell_type": "markdown",
      "metadata": {
        "id": "1_Ken_6VHbzC"
      },
      "source": [
        "### Backtrader\n",
        "[Backtrader](https://github.com/mementum/backtrader) is a popular open-source Python library designed for backtesting trading strategies.\n",
        "\n",
        "It allows traders and developers to test and analyze their trading ideas using historical data before applying them in real-world markets."
      ]
    },
    {
      "cell_type": "code",
      "execution_count": 5,
      "metadata": {
        "colab": {
          "base_uri": "https://localhost:8080/"
        },
        "id": "ZaXIxvuLLMqu",
        "outputId": "3e8bbd96-c53a-4837-a924-c3ccc41041d4"
      },
      "outputs": [
        {
          "output_type": "stream",
          "name": "stdout",
          "text": [
            "Collecting backtrader\n",
            "  Downloading backtrader-1.9.78.123-py2.py3-none-any.whl.metadata (6.8 kB)\n",
            "Downloading backtrader-1.9.78.123-py2.py3-none-any.whl (419 kB)\n",
            "\u001b[?25l   \u001b[90m━━━━━━━━━━━━━━━━━━━━━━━━━━━━━━━━━━━━━━━━\u001b[0m \u001b[32m0.0/419.5 kB\u001b[0m \u001b[31m?\u001b[0m eta \u001b[36m-:--:--\u001b[0m\r\u001b[2K   \u001b[91m━━━━━━━━━━━━━━━━━━━━━━━━━━━━━━━━━━━━━━━\u001b[0m\u001b[90m╺\u001b[0m \u001b[32m409.6/419.5 kB\u001b[0m \u001b[31m14.1 MB/s\u001b[0m eta \u001b[36m0:00:01\u001b[0m\r\u001b[2K   \u001b[90m━━━━━━━━━━━━━━━━━━━━━━━━━━━━━━━━━━━━━━━━\u001b[0m \u001b[32m419.5/419.5 kB\u001b[0m \u001b[31m9.6 MB/s\u001b[0m eta \u001b[36m0:00:00\u001b[0m\n",
            "\u001b[?25hInstalling collected packages: backtrader\n",
            "Successfully installed backtrader-1.9.78.123\n",
            "Requirement already satisfied: backtrader[plotting] in /usr/local/lib/python3.10/dist-packages (1.9.78.123)\n",
            "Requirement already satisfied: matplotlib in /usr/local/lib/python3.10/dist-packages (from backtrader[plotting]) (3.7.1)\n",
            "Requirement already satisfied: contourpy>=1.0.1 in /usr/local/lib/python3.10/dist-packages (from matplotlib->backtrader[plotting]) (1.3.0)\n",
            "Requirement already satisfied: cycler>=0.10 in /usr/local/lib/python3.10/dist-packages (from matplotlib->backtrader[plotting]) (0.12.1)\n",
            "Requirement already satisfied: fonttools>=4.22.0 in /usr/local/lib/python3.10/dist-packages (from matplotlib->backtrader[plotting]) (4.53.1)\n",
            "Requirement already satisfied: kiwisolver>=1.0.1 in /usr/local/lib/python3.10/dist-packages (from matplotlib->backtrader[plotting]) (1.4.7)\n",
            "Requirement already satisfied: numpy>=1.20 in /usr/local/lib/python3.10/dist-packages (from matplotlib->backtrader[plotting]) (1.26.4)\n",
            "Requirement already satisfied: packaging>=20.0 in /usr/local/lib/python3.10/dist-packages (from matplotlib->backtrader[plotting]) (24.1)\n",
            "Requirement already satisfied: pillow>=6.2.0 in /usr/local/lib/python3.10/dist-packages (from matplotlib->backtrader[plotting]) (10.4.0)\n",
            "Requirement already satisfied: pyparsing>=2.3.1 in /usr/local/lib/python3.10/dist-packages (from matplotlib->backtrader[plotting]) (3.1.4)\n",
            "Requirement already satisfied: python-dateutil>=2.7 in /usr/local/lib/python3.10/dist-packages (from matplotlib->backtrader[plotting]) (2.8.2)\n",
            "Requirement already satisfied: six>=1.5 in /usr/local/lib/python3.10/dist-packages (from python-dateutil>=2.7->matplotlib->backtrader[plotting]) (1.16.0)\n"
          ]
        }
      ],
      "source": [
        "!pip install backtrader\n",
        "!pip install backtrader[plotting]"
      ]
    },
    {
      "cell_type": "markdown",
      "metadata": {
        "id": "xWiY06oCJGC0"
      },
      "source": [
        "### Import Packages"
      ]
    },
    {
      "cell_type": "code",
      "execution_count": 6,
      "metadata": {
        "id": "fgMY4-NLPa4K"
      },
      "outputs": [],
      "source": [
        "import talib\n",
        "import yfinance\n",
        "import backtrader as bt\n",
        "import pytz\n",
        "import pandas as pd\n",
        "import matplotlib.pyplot as plt\n",
        "import plotly.express as px\n",
        "import plotly.graph_objects as go"
      ]
    },
    {
      "cell_type": "markdown",
      "metadata": {
        "id": "TeQBJgYvJ87Y"
      },
      "source": [
        "## Get Instrument Data"
      ]
    },
    {
      "cell_type": "code",
      "execution_count": 7,
      "metadata": {
        "id": "VxQ65cGpQrsh"
      },
      "outputs": [],
      "source": [
        "def get_instrument_data(symbol: str, period=\"1mo\", interval=\"1d\") -> pd.DataFrame:\n",
        "    \"\"\"\n",
        "    Fetches historical instrument data for a given symbol within a specified period.\n",
        "\n",
        "    Args:\n",
        "        symbol (str): The instrument ticker symbol (e.g., 'AAPL' for Apple).\n",
        "        period (str): Valid periods: 1d,5d,1mo,3mo,6mo,1y,2y,5y,10y,ytd,max\n",
        "        interval (str): Valid intervals: 1m,2m,5m,15m,30m,60m,90m,1h,1d,5d,1wk,1mo,3mo\n",
        "                        Intraday data cannot extend last 60 days\n",
        "\n",
        "    Returns:\n",
        "        pd.DataFrame: DataFrame with columns: 'Open', 'Close', 'High', 'Low' and 'Volume'.\n",
        "    \"\"\"\n",
        "    # Create a Ticker object for the given symbol\n",
        "    ticker = yfinance.Ticker(symbol)\n",
        "\n",
        "    # Fetch historical data\n",
        "    instrument_data_df = ticker.history(period, interval, auto_adjust=False,\n",
        "                                        rounding=True, actions=False)\n",
        "\n",
        "    return instrument_data_df\n"
      ]
    },
    {
      "cell_type": "code",
      "execution_count": 8,
      "metadata": {
        "id": "L6hSJifsSRHK"
      },
      "outputs": [],
      "source": [
        "data = get_instrument_data(\"^NSEI\", \"5y\", \"1d\")"
      ]
    },
    {
      "cell_type": "markdown",
      "metadata": {
        "id": "3D1N8gUGPI_e"
      },
      "source": [
        "### Ticker Symbols\n",
        "\n",
        "\n",
        "| Category     | Instrument   | Symbol      |\n",
        "|--------------|--------------|-------------|\n",
        "| Stock        | RELIANCE     | RELIANCE.NS |\n",
        "|              | HDFC         | HDFCBANK.NS |\n",
        "|              |              |             |\n",
        "| Index        | Nifty50      | ^NSEI       |\n",
        "|              | Bank Nifty   | ^NSEBANK    |\n",
        "|              |              |             |\n",
        "| Crypto       | Bitcoin      | BTC-INR     |\n",
        "|              | Ethereum     | ETH-INR     |\n",
        "|              |              |             |\n",
        "\n",
        "\n",
        "You can search for the symbol of any instrument on [Yahoo's website](https://finance.yahoo.com/lookup/).\n"
      ]
    },
    {
      "cell_type": "markdown",
      "metadata": {
        "id": "5Gkn-NKuSuS0"
      },
      "source": [
        "### Preview Stock Data"
      ]
    },
    {
      "cell_type": "code",
      "execution_count": 9,
      "metadata": {
        "colab": {
          "base_uri": "https://localhost:8080/",
          "height": 238
        },
        "id": "IQz4-aLiL4V1",
        "outputId": "0b1032e1-9493-415b-d289-9a56ee9102e2"
      },
      "outputs": [
        {
          "output_type": "execute_result",
          "data": {
            "text/plain": [
              "                               Open      High       Low     Close  Adj Close  \\\n",
              "Date                                                                           \n",
              "2024-09-16 00:00:00+05:30  25406.65  25445.70  25336.20  25383.75   25383.75   \n",
              "2024-09-17 00:00:00+05:30  25416.90  25441.65  25352.25  25418.55   25418.55   \n",
              "2024-09-18 00:00:00+05:30  25402.40  25482.20  25285.55  25377.55   25377.55   \n",
              "2024-09-19 00:00:00+05:30  25487.05  25611.95  25376.05  25415.80   25415.80   \n",
              "2024-09-20 00:00:00+05:30  25525.95  25726.65  25426.60  25702.30   25702.30   \n",
              "\n",
              "                           Volume  \n",
              "Date                               \n",
              "2024-09-16 00:00:00+05:30  168700  \n",
              "2024-09-17 00:00:00+05:30  216000  \n",
              "2024-09-18 00:00:00+05:30  215700  \n",
              "2024-09-19 00:00:00+05:30  314500  \n",
              "2024-09-20 00:00:00+05:30       0  "
            ],
            "text/html": [
              "\n",
              "  <div id=\"df-c5ab33ae-55f7-4049-98c0-22d6e9313815\" class=\"colab-df-container\">\n",
              "    <div>\n",
              "<style scoped>\n",
              "    .dataframe tbody tr th:only-of-type {\n",
              "        vertical-align: middle;\n",
              "    }\n",
              "\n",
              "    .dataframe tbody tr th {\n",
              "        vertical-align: top;\n",
              "    }\n",
              "\n",
              "    .dataframe thead th {\n",
              "        text-align: right;\n",
              "    }\n",
              "</style>\n",
              "<table border=\"1\" class=\"dataframe\">\n",
              "  <thead>\n",
              "    <tr style=\"text-align: right;\">\n",
              "      <th></th>\n",
              "      <th>Open</th>\n",
              "      <th>High</th>\n",
              "      <th>Low</th>\n",
              "      <th>Close</th>\n",
              "      <th>Adj Close</th>\n",
              "      <th>Volume</th>\n",
              "    </tr>\n",
              "    <tr>\n",
              "      <th>Date</th>\n",
              "      <th></th>\n",
              "      <th></th>\n",
              "      <th></th>\n",
              "      <th></th>\n",
              "      <th></th>\n",
              "      <th></th>\n",
              "    </tr>\n",
              "  </thead>\n",
              "  <tbody>\n",
              "    <tr>\n",
              "      <th>2024-09-16 00:00:00+05:30</th>\n",
              "      <td>25406.65</td>\n",
              "      <td>25445.70</td>\n",
              "      <td>25336.20</td>\n",
              "      <td>25383.75</td>\n",
              "      <td>25383.75</td>\n",
              "      <td>168700</td>\n",
              "    </tr>\n",
              "    <tr>\n",
              "      <th>2024-09-17 00:00:00+05:30</th>\n",
              "      <td>25416.90</td>\n",
              "      <td>25441.65</td>\n",
              "      <td>25352.25</td>\n",
              "      <td>25418.55</td>\n",
              "      <td>25418.55</td>\n",
              "      <td>216000</td>\n",
              "    </tr>\n",
              "    <tr>\n",
              "      <th>2024-09-18 00:00:00+05:30</th>\n",
              "      <td>25402.40</td>\n",
              "      <td>25482.20</td>\n",
              "      <td>25285.55</td>\n",
              "      <td>25377.55</td>\n",
              "      <td>25377.55</td>\n",
              "      <td>215700</td>\n",
              "    </tr>\n",
              "    <tr>\n",
              "      <th>2024-09-19 00:00:00+05:30</th>\n",
              "      <td>25487.05</td>\n",
              "      <td>25611.95</td>\n",
              "      <td>25376.05</td>\n",
              "      <td>25415.80</td>\n",
              "      <td>25415.80</td>\n",
              "      <td>314500</td>\n",
              "    </tr>\n",
              "    <tr>\n",
              "      <th>2024-09-20 00:00:00+05:30</th>\n",
              "      <td>25525.95</td>\n",
              "      <td>25726.65</td>\n",
              "      <td>25426.60</td>\n",
              "      <td>25702.30</td>\n",
              "      <td>25702.30</td>\n",
              "      <td>0</td>\n",
              "    </tr>\n",
              "  </tbody>\n",
              "</table>\n",
              "</div>\n",
              "    <div class=\"colab-df-buttons\">\n",
              "\n",
              "  <div class=\"colab-df-container\">\n",
              "    <button class=\"colab-df-convert\" onclick=\"convertToInteractive('df-c5ab33ae-55f7-4049-98c0-22d6e9313815')\"\n",
              "            title=\"Convert this dataframe to an interactive table.\"\n",
              "            style=\"display:none;\">\n",
              "\n",
              "  <svg xmlns=\"http://www.w3.org/2000/svg\" height=\"24px\" viewBox=\"0 -960 960 960\">\n",
              "    <path d=\"M120-120v-720h720v720H120Zm60-500h600v-160H180v160Zm220 220h160v-160H400v160Zm0 220h160v-160H400v160ZM180-400h160v-160H180v160Zm440 0h160v-160H620v160ZM180-180h160v-160H180v160Zm440 0h160v-160H620v160Z\"/>\n",
              "  </svg>\n",
              "    </button>\n",
              "\n",
              "  <style>\n",
              "    .colab-df-container {\n",
              "      display:flex;\n",
              "      gap: 12px;\n",
              "    }\n",
              "\n",
              "    .colab-df-convert {\n",
              "      background-color: #E8F0FE;\n",
              "      border: none;\n",
              "      border-radius: 50%;\n",
              "      cursor: pointer;\n",
              "      display: none;\n",
              "      fill: #1967D2;\n",
              "      height: 32px;\n",
              "      padding: 0 0 0 0;\n",
              "      width: 32px;\n",
              "    }\n",
              "\n",
              "    .colab-df-convert:hover {\n",
              "      background-color: #E2EBFA;\n",
              "      box-shadow: 0px 1px 2px rgba(60, 64, 67, 0.3), 0px 1px 3px 1px rgba(60, 64, 67, 0.15);\n",
              "      fill: #174EA6;\n",
              "    }\n",
              "\n",
              "    .colab-df-buttons div {\n",
              "      margin-bottom: 4px;\n",
              "    }\n",
              "\n",
              "    [theme=dark] .colab-df-convert {\n",
              "      background-color: #3B4455;\n",
              "      fill: #D2E3FC;\n",
              "    }\n",
              "\n",
              "    [theme=dark] .colab-df-convert:hover {\n",
              "      background-color: #434B5C;\n",
              "      box-shadow: 0px 1px 3px 1px rgba(0, 0, 0, 0.15);\n",
              "      filter: drop-shadow(0px 1px 2px rgba(0, 0, 0, 0.3));\n",
              "      fill: #FFFFFF;\n",
              "    }\n",
              "  </style>\n",
              "\n",
              "    <script>\n",
              "      const buttonEl =\n",
              "        document.querySelector('#df-c5ab33ae-55f7-4049-98c0-22d6e9313815 button.colab-df-convert');\n",
              "      buttonEl.style.display =\n",
              "        google.colab.kernel.accessAllowed ? 'block' : 'none';\n",
              "\n",
              "      async function convertToInteractive(key) {\n",
              "        const element = document.querySelector('#df-c5ab33ae-55f7-4049-98c0-22d6e9313815');\n",
              "        const dataTable =\n",
              "          await google.colab.kernel.invokeFunction('convertToInteractive',\n",
              "                                                    [key], {});\n",
              "        if (!dataTable) return;\n",
              "\n",
              "        const docLinkHtml = 'Like what you see? Visit the ' +\n",
              "          '<a target=\"_blank\" href=https://colab.research.google.com/notebooks/data_table.ipynb>data table notebook</a>'\n",
              "          + ' to learn more about interactive tables.';\n",
              "        element.innerHTML = '';\n",
              "        dataTable['output_type'] = 'display_data';\n",
              "        await google.colab.output.renderOutput(dataTable, element);\n",
              "        const docLink = document.createElement('div');\n",
              "        docLink.innerHTML = docLinkHtml;\n",
              "        element.appendChild(docLink);\n",
              "      }\n",
              "    </script>\n",
              "  </div>\n",
              "\n",
              "\n",
              "<div id=\"df-d42cd842-7bad-437b-ac62-0355c0e463ee\">\n",
              "  <button class=\"colab-df-quickchart\" onclick=\"quickchart('df-d42cd842-7bad-437b-ac62-0355c0e463ee')\"\n",
              "            title=\"Suggest charts\"\n",
              "            style=\"display:none;\">\n",
              "\n",
              "<svg xmlns=\"http://www.w3.org/2000/svg\" height=\"24px\"viewBox=\"0 0 24 24\"\n",
              "     width=\"24px\">\n",
              "    <g>\n",
              "        <path d=\"M19 3H5c-1.1 0-2 .9-2 2v14c0 1.1.9 2 2 2h14c1.1 0 2-.9 2-2V5c0-1.1-.9-2-2-2zM9 17H7v-7h2v7zm4 0h-2V7h2v10zm4 0h-2v-4h2v4z\"/>\n",
              "    </g>\n",
              "</svg>\n",
              "  </button>\n",
              "\n",
              "<style>\n",
              "  .colab-df-quickchart {\n",
              "      --bg-color: #E8F0FE;\n",
              "      --fill-color: #1967D2;\n",
              "      --hover-bg-color: #E2EBFA;\n",
              "      --hover-fill-color: #174EA6;\n",
              "      --disabled-fill-color: #AAA;\n",
              "      --disabled-bg-color: #DDD;\n",
              "  }\n",
              "\n",
              "  [theme=dark] .colab-df-quickchart {\n",
              "      --bg-color: #3B4455;\n",
              "      --fill-color: #D2E3FC;\n",
              "      --hover-bg-color: #434B5C;\n",
              "      --hover-fill-color: #FFFFFF;\n",
              "      --disabled-bg-color: #3B4455;\n",
              "      --disabled-fill-color: #666;\n",
              "  }\n",
              "\n",
              "  .colab-df-quickchart {\n",
              "    background-color: var(--bg-color);\n",
              "    border: none;\n",
              "    border-radius: 50%;\n",
              "    cursor: pointer;\n",
              "    display: none;\n",
              "    fill: var(--fill-color);\n",
              "    height: 32px;\n",
              "    padding: 0;\n",
              "    width: 32px;\n",
              "  }\n",
              "\n",
              "  .colab-df-quickchart:hover {\n",
              "    background-color: var(--hover-bg-color);\n",
              "    box-shadow: 0 1px 2px rgba(60, 64, 67, 0.3), 0 1px 3px 1px rgba(60, 64, 67, 0.15);\n",
              "    fill: var(--button-hover-fill-color);\n",
              "  }\n",
              "\n",
              "  .colab-df-quickchart-complete:disabled,\n",
              "  .colab-df-quickchart-complete:disabled:hover {\n",
              "    background-color: var(--disabled-bg-color);\n",
              "    fill: var(--disabled-fill-color);\n",
              "    box-shadow: none;\n",
              "  }\n",
              "\n",
              "  .colab-df-spinner {\n",
              "    border: 2px solid var(--fill-color);\n",
              "    border-color: transparent;\n",
              "    border-bottom-color: var(--fill-color);\n",
              "    animation:\n",
              "      spin 1s steps(1) infinite;\n",
              "  }\n",
              "\n",
              "  @keyframes spin {\n",
              "    0% {\n",
              "      border-color: transparent;\n",
              "      border-bottom-color: var(--fill-color);\n",
              "      border-left-color: var(--fill-color);\n",
              "    }\n",
              "    20% {\n",
              "      border-color: transparent;\n",
              "      border-left-color: var(--fill-color);\n",
              "      border-top-color: var(--fill-color);\n",
              "    }\n",
              "    30% {\n",
              "      border-color: transparent;\n",
              "      border-left-color: var(--fill-color);\n",
              "      border-top-color: var(--fill-color);\n",
              "      border-right-color: var(--fill-color);\n",
              "    }\n",
              "    40% {\n",
              "      border-color: transparent;\n",
              "      border-right-color: var(--fill-color);\n",
              "      border-top-color: var(--fill-color);\n",
              "    }\n",
              "    60% {\n",
              "      border-color: transparent;\n",
              "      border-right-color: var(--fill-color);\n",
              "    }\n",
              "    80% {\n",
              "      border-color: transparent;\n",
              "      border-right-color: var(--fill-color);\n",
              "      border-bottom-color: var(--fill-color);\n",
              "    }\n",
              "    90% {\n",
              "      border-color: transparent;\n",
              "      border-bottom-color: var(--fill-color);\n",
              "    }\n",
              "  }\n",
              "</style>\n",
              "\n",
              "  <script>\n",
              "    async function quickchart(key) {\n",
              "      const quickchartButtonEl =\n",
              "        document.querySelector('#' + key + ' button');\n",
              "      quickchartButtonEl.disabled = true;  // To prevent multiple clicks.\n",
              "      quickchartButtonEl.classList.add('colab-df-spinner');\n",
              "      try {\n",
              "        const charts = await google.colab.kernel.invokeFunction(\n",
              "            'suggestCharts', [key], {});\n",
              "      } catch (error) {\n",
              "        console.error('Error during call to suggestCharts:', error);\n",
              "      }\n",
              "      quickchartButtonEl.classList.remove('colab-df-spinner');\n",
              "      quickchartButtonEl.classList.add('colab-df-quickchart-complete');\n",
              "    }\n",
              "    (() => {\n",
              "      let quickchartButtonEl =\n",
              "        document.querySelector('#df-d42cd842-7bad-437b-ac62-0355c0e463ee button');\n",
              "      quickchartButtonEl.style.display =\n",
              "        google.colab.kernel.accessAllowed ? 'block' : 'none';\n",
              "    })();\n",
              "  </script>\n",
              "</div>\n",
              "\n",
              "    </div>\n",
              "  </div>\n"
            ],
            "application/vnd.google.colaboratory.intrinsic+json": {
              "type": "dataframe",
              "summary": "{\n  \"name\": \"data\",\n  \"rows\": 5,\n  \"fields\": [\n    {\n      \"column\": \"Date\",\n      \"properties\": {\n        \"dtype\": \"date\",\n        \"min\": \"2024-09-16 00:00:00+05:30\",\n        \"max\": \"2024-09-20 00:00:00+05:30\",\n        \"num_unique_values\": 5,\n        \"samples\": [\n          \"2024-09-17 00:00:00+05:30\",\n          \"2024-09-20 00:00:00+05:30\",\n          \"2024-09-18 00:00:00+05:30\"\n        ],\n        \"semantic_type\": \"\",\n        \"description\": \"\"\n      }\n    },\n    {\n      \"column\": \"Open\",\n      \"properties\": {\n        \"dtype\": \"number\",\n        \"std\": 55.5816449018912,\n        \"min\": 25402.4,\n        \"max\": 25525.95,\n        \"num_unique_values\": 5,\n        \"samples\": [\n          25416.9,\n          25525.95,\n          25402.4\n        ],\n        \"semantic_type\": \"\",\n        \"description\": \"\"\n      }\n    },\n    {\n      \"column\": \"High\",\n      \"properties\": {\n        \"dtype\": \"number\",\n        \"std\": 124.40638347769791,\n        \"min\": 25441.65,\n        \"max\": 25726.65,\n        \"num_unique_values\": 5,\n        \"samples\": [\n          25441.65,\n          25726.65,\n          25482.2\n        ],\n        \"semantic_type\": \"\",\n        \"description\": \"\"\n      }\n    },\n    {\n      \"column\": \"Low\",\n      \"properties\": {\n        \"dtype\": \"number\",\n        \"std\": 51.84935631230111,\n        \"min\": 25285.55,\n        \"max\": 25426.6,\n        \"num_unique_values\": 5,\n        \"samples\": [\n          25352.25,\n          25426.6,\n          25285.55\n        ],\n        \"semantic_type\": \"\",\n        \"description\": \"\"\n      }\n    },\n    {\n      \"column\": \"Close\",\n      \"properties\": {\n        \"dtype\": \"number\",\n        \"std\": 136.92357083424304,\n        \"min\": 25377.55,\n        \"max\": 25702.3,\n        \"num_unique_values\": 5,\n        \"samples\": [\n          25418.55,\n          25702.3,\n          25377.55\n        ],\n        \"semantic_type\": \"\",\n        \"description\": \"\"\n      }\n    },\n    {\n      \"column\": \"Adj Close\",\n      \"properties\": {\n        \"dtype\": \"number\",\n        \"std\": 136.92357083424304,\n        \"min\": 25377.55,\n        \"max\": 25702.3,\n        \"num_unique_values\": 5,\n        \"samples\": [\n          25418.55,\n          25702.3,\n          25377.55\n        ],\n        \"semantic_type\": \"\",\n        \"description\": \"\"\n      }\n    },\n    {\n      \"column\": \"Volume\",\n      \"properties\": {\n        \"dtype\": \"number\",\n        \"std\": 115264,\n        \"min\": 0,\n        \"max\": 314500,\n        \"num_unique_values\": 5,\n        \"samples\": [\n          216000,\n          0,\n          215700\n        ],\n        \"semantic_type\": \"\",\n        \"description\": \"\"\n      }\n    }\n  ]\n}"
            }
          },
          "metadata": {},
          "execution_count": 9
        }
      ],
      "source": [
        "data.tail()"
      ]
    },
    {
      "cell_type": "markdown",
      "metadata": {
        "id": "vw3-NzfFURMF"
      },
      "source": [
        "## Visualize Stock Data"
      ]
    },
    {
      "cell_type": "markdown",
      "metadata": {
        "id": "VEauubeTVXIu"
      },
      "source": [
        "### Line Chart\n",
        "A line chart displays the stock's closing price over time, offering a clear view of overall trends. It is a simple yet effective way to track price movements and identify upward or downward trends."
      ]
    },
    {
      "cell_type": "code",
      "execution_count": 10,
      "metadata": {
        "id": "PQ_kI9GUVGYI"
      },
      "outputs": [],
      "source": [
        "def display_line_chart(data):\n",
        "  fig = px.line(data, x=data.index, y=\"Close\")\n",
        "  fig.show()"
      ]
    },
    {
      "cell_type": "code",
      "execution_count": 11,
      "metadata": {
        "colab": {
          "base_uri": "https://localhost:8080/",
          "height": 542
        },
        "id": "vuHo1mthVCyR",
        "outputId": "733fc1bb-8428-4936-c4f9-2d9dd8724e23"
      },
      "outputs": [
        {
          "output_type": "display_data",
          "data": {
            "text/html": [
              "<html>\n",
              "<head><meta charset=\"utf-8\" /></head>\n",
              "<body>\n",
              "    <div>            <script src=\"https://cdnjs.cloudflare.com/ajax/libs/mathjax/2.7.5/MathJax.js?config=TeX-AMS-MML_SVG\"></script><script type=\"text/javascript\">if (window.MathJax && window.MathJax.Hub && window.MathJax.Hub.Config) {window.MathJax.Hub.Config({SVG: {font: \"STIX-Web\"}});}</script>                <script type=\"text/javascript\">window.PlotlyConfig = {MathJaxConfig: 'local'};</script>\n",
              "        <script charset=\"utf-8\" src=\"https://cdn.plot.ly/plotly-2.24.1.min.js\"></script>                <div id=\"1ba2def4-de9f-4fce-a556-2682384a2c29\" class=\"plotly-graph-div\" style=\"height:525px; width:100%;\"></div>            <script type=\"text/javascript\">                                    window.PLOTLYENV=window.PLOTLYENV || {};                                    if (document.getElementById(\"1ba2def4-de9f-4fce-a556-2682384a2c29\")) {                    Plotly.newPlot(                        \"1ba2def4-de9f-4fce-a556-2682384a2c29\",                        [{\"hovertemplate\":\"Date=%{x}\\u003cbr\\u003eClose=%{y}\\u003cextra\\u003e\\u003c\\u002fextra\\u003e\",\"legendgroup\":\"\",\"line\":{\"color\":\"#636efa\",\"dash\":\"solid\"},\"marker\":{\"symbol\":\"circle\"},\"mode\":\"lines\",\"name\":\"\",\"showlegend\":false,\"x\":[\"2019-09-20T00:00:00+05:30\",\"2019-09-23T00:00:00+05:30\",\"2019-09-24T00:00:00+05:30\",\"2019-09-25T00:00:00+05:30\",\"2019-09-26T00:00:00+05:30\",\"2019-09-27T00:00:00+05:30\",\"2019-09-30T00:00:00+05:30\",\"2019-10-01T00:00:00+05:30\",\"2019-10-03T00:00:00+05:30\",\"2019-10-04T00:00:00+05:30\",\"2019-10-07T00:00:00+05:30\",\"2019-10-09T00:00:00+05:30\",\"2019-10-10T00:00:00+05:30\",\"2019-10-11T00:00:00+05:30\",\"2019-10-14T00:00:00+05:30\",\"2019-10-15T00:00:00+05:30\",\"2019-10-16T00:00:00+05:30\",\"2019-10-17T00:00:00+05:30\",\"2019-10-18T00:00:00+05:30\",\"2019-10-22T00:00:00+05:30\",\"2019-10-23T00:00:00+05:30\",\"2019-10-24T00:00:00+05:30\",\"2019-10-25T00:00:00+05:30\",\"2019-10-29T00:00:00+05:30\",\"2019-10-30T00:00:00+05:30\",\"2019-10-31T00:00:00+05:30\",\"2019-11-01T00:00:00+05:30\",\"2019-11-04T00:00:00+05:30\",\"2019-11-05T00:00:00+05:30\",\"2019-11-06T00:00:00+05:30\",\"2019-11-07T00:00:00+05:30\",\"2019-11-08T00:00:00+05:30\",\"2019-11-11T00:00:00+05:30\",\"2019-11-13T00:00:00+05:30\",\"2019-11-14T00:00:00+05:30\",\"2019-11-15T00:00:00+05:30\",\"2019-11-18T00:00:00+05:30\",\"2019-11-19T00:00:00+05:30\",\"2019-11-20T00:00:00+05:30\",\"2019-11-21T00:00:00+05:30\",\"2019-11-22T00:00:00+05:30\",\"2019-11-25T00:00:00+05:30\",\"2019-11-26T00:00:00+05:30\",\"2019-11-27T00:00:00+05:30\",\"2019-11-28T00:00:00+05:30\",\"2019-11-29T00:00:00+05:30\",\"2019-12-02T00:00:00+05:30\",\"2019-12-03T00:00:00+05:30\",\"2019-12-04T00:00:00+05:30\",\"2019-12-05T00:00:00+05:30\",\"2019-12-06T00:00:00+05:30\",\"2019-12-09T00:00:00+05:30\",\"2019-12-10T00:00:00+05:30\",\"2019-12-11T00:00:00+05:30\",\"2019-12-12T00:00:00+05:30\",\"2019-12-13T00:00:00+05:30\",\"2019-12-16T00:00:00+05:30\",\"2019-12-17T00:00:00+05:30\",\"2019-12-18T00:00:00+05:30\",\"2019-12-19T00:00:00+05:30\",\"2019-12-20T00:00:00+05:30\",\"2019-12-23T00:00:00+05:30\",\"2019-12-24T00:00:00+05:30\",\"2019-12-26T00:00:00+05:30\",\"2019-12-27T00:00:00+05:30\",\"2019-12-30T00:00:00+05:30\",\"2019-12-31T00:00:00+05:30\",\"2020-01-01T00:00:00+05:30\",\"2020-01-02T00:00:00+05:30\",\"2020-01-03T00:00:00+05:30\",\"2020-01-06T00:00:00+05:30\",\"2020-01-07T00:00:00+05:30\",\"2020-01-08T00:00:00+05:30\",\"2020-01-09T00:00:00+05:30\",\"2020-01-10T00:00:00+05:30\",\"2020-01-13T00:00:00+05:30\",\"2020-01-14T00:00:00+05:30\",\"2020-01-15T00:00:00+05:30\",\"2020-01-16T00:00:00+05:30\",\"2020-01-17T00:00:00+05:30\",\"2020-01-20T00:00:00+05:30\",\"2020-01-21T00:00:00+05:30\",\"2020-01-22T00:00:00+05:30\",\"2020-01-23T00:00:00+05:30\",\"2020-01-24T00:00:00+05:30\",\"2020-01-27T00:00:00+05:30\",\"2020-01-28T00:00:00+05:30\",\"2020-01-29T00:00:00+05:30\",\"2020-01-30T00:00:00+05:30\",\"2020-01-31T00:00:00+05:30\",\"2020-02-03T00:00:00+05:30\",\"2020-02-04T00:00:00+05:30\",\"2020-02-05T00:00:00+05:30\",\"2020-02-06T00:00:00+05:30\",\"2020-02-07T00:00:00+05:30\",\"2020-02-10T00:00:00+05:30\",\"2020-02-11T00:00:00+05:30\",\"2020-02-12T00:00:00+05:30\",\"2020-02-13T00:00:00+05:30\",\"2020-02-14T00:00:00+05:30\",\"2020-02-17T00:00:00+05:30\",\"2020-02-18T00:00:00+05:30\",\"2020-02-19T00:00:00+05:30\",\"2020-02-20T00:00:00+05:30\",\"2020-02-24T00:00:00+05:30\",\"2020-02-25T00:00:00+05:30\",\"2020-02-26T00:00:00+05:30\",\"2020-02-27T00:00:00+05:30\",\"2020-02-28T00:00:00+05:30\",\"2020-03-02T00:00:00+05:30\",\"2020-03-03T00:00:00+05:30\",\"2020-03-04T00:00:00+05:30\",\"2020-03-05T00:00:00+05:30\",\"2020-03-06T00:00:00+05:30\",\"2020-03-09T00:00:00+05:30\",\"2020-03-11T00:00:00+05:30\",\"2020-03-12T00:00:00+05:30\",\"2020-03-13T00:00:00+05:30\",\"2020-03-16T00:00:00+05:30\",\"2020-03-17T00:00:00+05:30\",\"2020-03-18T00:00:00+05:30\",\"2020-03-19T00:00:00+05:30\",\"2020-03-20T00:00:00+05:30\",\"2020-03-23T00:00:00+05:30\",\"2020-03-24T00:00:00+05:30\",\"2020-03-25T00:00:00+05:30\",\"2020-03-26T00:00:00+05:30\",\"2020-03-27T00:00:00+05:30\",\"2020-03-30T00:00:00+05:30\",\"2020-03-31T00:00:00+05:30\",\"2020-04-01T00:00:00+05:30\",\"2020-04-03T00:00:00+05:30\",\"2020-04-07T00:00:00+05:30\",\"2020-04-08T00:00:00+05:30\",\"2020-04-09T00:00:00+05:30\",\"2020-04-13T00:00:00+05:30\",\"2020-04-15T00:00:00+05:30\",\"2020-04-16T00:00:00+05:30\",\"2020-04-17T00:00:00+05:30\",\"2020-04-20T00:00:00+05:30\",\"2020-04-21T00:00:00+05:30\",\"2020-04-22T00:00:00+05:30\",\"2020-04-23T00:00:00+05:30\",\"2020-04-24T00:00:00+05:30\",\"2020-04-27T00:00:00+05:30\",\"2020-04-28T00:00:00+05:30\",\"2020-04-29T00:00:00+05:30\",\"2020-04-30T00:00:00+05:30\",\"2020-05-04T00:00:00+05:30\",\"2020-05-05T00:00:00+05:30\",\"2020-05-06T00:00:00+05:30\",\"2020-05-07T00:00:00+05:30\",\"2020-05-08T00:00:00+05:30\",\"2020-05-11T00:00:00+05:30\",\"2020-05-12T00:00:00+05:30\",\"2020-05-13T00:00:00+05:30\",\"2020-05-14T00:00:00+05:30\",\"2020-05-15T00:00:00+05:30\",\"2020-05-18T00:00:00+05:30\",\"2020-05-19T00:00:00+05:30\",\"2020-05-20T00:00:00+05:30\",\"2020-05-21T00:00:00+05:30\",\"2020-05-22T00:00:00+05:30\",\"2020-05-26T00:00:00+05:30\",\"2020-05-27T00:00:00+05:30\",\"2020-05-28T00:00:00+05:30\",\"2020-05-29T00:00:00+05:30\",\"2020-06-01T00:00:00+05:30\",\"2020-06-02T00:00:00+05:30\",\"2020-06-03T00:00:00+05:30\",\"2020-06-04T00:00:00+05:30\",\"2020-06-05T00:00:00+05:30\",\"2020-06-08T00:00:00+05:30\",\"2020-06-09T00:00:00+05:30\",\"2020-06-10T00:00:00+05:30\",\"2020-06-11T00:00:00+05:30\",\"2020-06-12T00:00:00+05:30\",\"2020-06-15T00:00:00+05:30\",\"2020-06-16T00:00:00+05:30\",\"2020-06-17T00:00:00+05:30\",\"2020-06-18T00:00:00+05:30\",\"2020-06-19T00:00:00+05:30\",\"2020-06-22T00:00:00+05:30\",\"2020-06-23T00:00:00+05:30\",\"2020-06-24T00:00:00+05:30\",\"2020-06-25T00:00:00+05:30\",\"2020-06-26T00:00:00+05:30\",\"2020-06-29T00:00:00+05:30\",\"2020-06-30T00:00:00+05:30\",\"2020-07-01T00:00:00+05:30\",\"2020-07-02T00:00:00+05:30\",\"2020-07-03T00:00:00+05:30\",\"2020-07-06T00:00:00+05:30\",\"2020-07-07T00:00:00+05:30\",\"2020-07-08T00:00:00+05:30\",\"2020-07-09T00:00:00+05:30\",\"2020-07-10T00:00:00+05:30\",\"2020-07-13T00:00:00+05:30\",\"2020-07-14T00:00:00+05:30\",\"2020-07-15T00:00:00+05:30\",\"2020-07-16T00:00:00+05:30\",\"2020-07-17T00:00:00+05:30\",\"2020-07-20T00:00:00+05:30\",\"2020-07-21T00:00:00+05:30\",\"2020-07-22T00:00:00+05:30\",\"2020-07-23T00:00:00+05:30\",\"2020-07-24T00:00:00+05:30\",\"2020-07-27T00:00:00+05:30\",\"2020-07-28T00:00:00+05:30\",\"2020-07-29T00:00:00+05:30\",\"2020-07-30T00:00:00+05:30\",\"2020-07-31T00:00:00+05:30\",\"2020-08-03T00:00:00+05:30\",\"2020-08-04T00:00:00+05:30\",\"2020-08-05T00:00:00+05:30\",\"2020-08-06T00:00:00+05:30\",\"2020-08-07T00:00:00+05:30\",\"2020-08-10T00:00:00+05:30\",\"2020-08-11T00:00:00+05:30\",\"2020-08-12T00:00:00+05:30\",\"2020-08-13T00:00:00+05:30\",\"2020-08-14T00:00:00+05:30\",\"2020-08-17T00:00:00+05:30\",\"2020-08-18T00:00:00+05:30\",\"2020-08-19T00:00:00+05:30\",\"2020-08-20T00:00:00+05:30\",\"2020-08-21T00:00:00+05:30\",\"2020-08-24T00:00:00+05:30\",\"2020-08-25T00:00:00+05:30\",\"2020-08-26T00:00:00+05:30\",\"2020-08-27T00:00:00+05:30\",\"2020-08-28T00:00:00+05:30\",\"2020-08-31T00:00:00+05:30\",\"2020-09-01T00:00:00+05:30\",\"2020-09-02T00:00:00+05:30\",\"2020-09-03T00:00:00+05:30\",\"2020-09-04T00:00:00+05:30\",\"2020-09-07T00:00:00+05:30\",\"2020-09-08T00:00:00+05:30\",\"2020-09-09T00:00:00+05:30\",\"2020-09-10T00:00:00+05:30\",\"2020-09-11T00:00:00+05:30\",\"2020-09-14T00:00:00+05:30\",\"2020-09-15T00:00:00+05:30\",\"2020-09-16T00:00:00+05:30\",\"2020-09-17T00:00:00+05:30\",\"2020-09-18T00:00:00+05:30\",\"2020-09-21T00:00:00+05:30\",\"2020-09-22T00:00:00+05:30\",\"2020-09-23T00:00:00+05:30\",\"2020-09-24T00:00:00+05:30\",\"2020-09-25T00:00:00+05:30\",\"2020-09-28T00:00:00+05:30\",\"2020-09-29T00:00:00+05:30\",\"2020-09-30T00:00:00+05:30\",\"2020-10-01T00:00:00+05:30\",\"2020-10-05T00:00:00+05:30\",\"2020-10-06T00:00:00+05:30\",\"2020-10-07T00:00:00+05:30\",\"2020-10-08T00:00:00+05:30\",\"2020-10-09T00:00:00+05:30\",\"2020-10-12T00:00:00+05:30\",\"2020-10-13T00:00:00+05:30\",\"2020-10-14T00:00:00+05:30\",\"2020-10-15T00:00:00+05:30\",\"2020-10-16T00:00:00+05:30\",\"2020-10-19T00:00:00+05:30\",\"2020-10-20T00:00:00+05:30\",\"2020-10-21T00:00:00+05:30\",\"2020-10-22T00:00:00+05:30\",\"2020-10-23T00:00:00+05:30\",\"2020-10-26T00:00:00+05:30\",\"2020-10-27T00:00:00+05:30\",\"2020-10-28T00:00:00+05:30\",\"2020-10-29T00:00:00+05:30\",\"2020-10-30T00:00:00+05:30\",\"2020-11-02T00:00:00+05:30\",\"2020-11-03T00:00:00+05:30\",\"2020-11-04T00:00:00+05:30\",\"2020-11-05T00:00:00+05:30\",\"2020-11-06T00:00:00+05:30\",\"2020-11-09T00:00:00+05:30\",\"2020-11-10T00:00:00+05:30\",\"2020-11-11T00:00:00+05:30\",\"2020-11-12T00:00:00+05:30\",\"2020-11-13T00:00:00+05:30\",\"2020-11-17T00:00:00+05:30\",\"2020-11-18T00:00:00+05:30\",\"2020-11-19T00:00:00+05:30\",\"2020-11-20T00:00:00+05:30\",\"2020-11-23T00:00:00+05:30\",\"2020-11-24T00:00:00+05:30\",\"2020-11-25T00:00:00+05:30\",\"2020-11-26T00:00:00+05:30\",\"2020-11-27T00:00:00+05:30\",\"2020-12-01T00:00:00+05:30\",\"2020-12-02T00:00:00+05:30\",\"2020-12-03T00:00:00+05:30\",\"2020-12-04T00:00:00+05:30\",\"2020-12-07T00:00:00+05:30\",\"2020-12-08T00:00:00+05:30\",\"2020-12-09T00:00:00+05:30\",\"2020-12-10T00:00:00+05:30\",\"2020-12-11T00:00:00+05:30\",\"2020-12-14T00:00:00+05:30\",\"2020-12-15T00:00:00+05:30\",\"2020-12-16T00:00:00+05:30\",\"2020-12-17T00:00:00+05:30\",\"2020-12-18T00:00:00+05:30\",\"2020-12-21T00:00:00+05:30\",\"2020-12-22T00:00:00+05:30\",\"2020-12-23T00:00:00+05:30\",\"2020-12-24T00:00:00+05:30\",\"2020-12-28T00:00:00+05:30\",\"2020-12-29T00:00:00+05:30\",\"2020-12-30T00:00:00+05:30\",\"2020-12-31T00:00:00+05:30\",\"2021-01-01T00:00:00+05:30\",\"2021-01-04T00:00:00+05:30\",\"2021-01-05T00:00:00+05:30\",\"2021-01-06T00:00:00+05:30\",\"2021-01-07T00:00:00+05:30\",\"2021-01-08T00:00:00+05:30\",\"2021-01-11T00:00:00+05:30\",\"2021-01-12T00:00:00+05:30\",\"2021-01-13T00:00:00+05:30\",\"2021-01-14T00:00:00+05:30\",\"2021-01-15T00:00:00+05:30\",\"2021-01-18T00:00:00+05:30\",\"2021-01-19T00:00:00+05:30\",\"2021-01-20T00:00:00+05:30\",\"2021-01-21T00:00:00+05:30\",\"2021-01-22T00:00:00+05:30\",\"2021-01-25T00:00:00+05:30\",\"2021-01-27T00:00:00+05:30\",\"2021-01-28T00:00:00+05:30\",\"2021-01-29T00:00:00+05:30\",\"2021-02-01T00:00:00+05:30\",\"2021-02-02T00:00:00+05:30\",\"2021-02-03T00:00:00+05:30\",\"2021-02-04T00:00:00+05:30\",\"2021-02-05T00:00:00+05:30\",\"2021-02-08T00:00:00+05:30\",\"2021-02-09T00:00:00+05:30\",\"2021-02-10T00:00:00+05:30\",\"2021-02-11T00:00:00+05:30\",\"2021-02-12T00:00:00+05:30\",\"2021-02-15T00:00:00+05:30\",\"2021-02-16T00:00:00+05:30\",\"2021-02-17T00:00:00+05:30\",\"2021-02-18T00:00:00+05:30\",\"2021-02-19T00:00:00+05:30\",\"2021-02-22T00:00:00+05:30\",\"2021-02-23T00:00:00+05:30\",\"2021-02-24T00:00:00+05:30\",\"2021-02-25T00:00:00+05:30\",\"2021-02-26T00:00:00+05:30\",\"2021-03-01T00:00:00+05:30\",\"2021-03-02T00:00:00+05:30\",\"2021-03-03T00:00:00+05:30\",\"2021-03-04T00:00:00+05:30\",\"2021-03-05T00:00:00+05:30\",\"2021-03-08T00:00:00+05:30\",\"2021-03-09T00:00:00+05:30\",\"2021-03-10T00:00:00+05:30\",\"2021-03-12T00:00:00+05:30\",\"2021-03-15T00:00:00+05:30\",\"2021-03-16T00:00:00+05:30\",\"2021-03-17T00:00:00+05:30\",\"2021-03-18T00:00:00+05:30\",\"2021-03-19T00:00:00+05:30\",\"2021-03-22T00:00:00+05:30\",\"2021-03-23T00:00:00+05:30\",\"2021-03-24T00:00:00+05:30\",\"2021-03-25T00:00:00+05:30\",\"2021-03-26T00:00:00+05:30\",\"2021-03-30T00:00:00+05:30\",\"2021-03-31T00:00:00+05:30\",\"2021-04-01T00:00:00+05:30\",\"2021-04-05T00:00:00+05:30\",\"2021-04-06T00:00:00+05:30\",\"2021-04-07T00:00:00+05:30\",\"2021-04-08T00:00:00+05:30\",\"2021-04-09T00:00:00+05:30\",\"2021-04-12T00:00:00+05:30\",\"2021-04-13T00:00:00+05:30\",\"2021-04-15T00:00:00+05:30\",\"2021-04-16T00:00:00+05:30\",\"2021-04-19T00:00:00+05:30\",\"2021-04-20T00:00:00+05:30\",\"2021-04-22T00:00:00+05:30\",\"2021-04-23T00:00:00+05:30\",\"2021-04-26T00:00:00+05:30\",\"2021-04-27T00:00:00+05:30\",\"2021-04-28T00:00:00+05:30\",\"2021-04-29T00:00:00+05:30\",\"2021-04-30T00:00:00+05:30\",\"2021-05-03T00:00:00+05:30\",\"2021-05-04T00:00:00+05:30\",\"2021-05-05T00:00:00+05:30\",\"2021-05-06T00:00:00+05:30\",\"2021-05-07T00:00:00+05:30\",\"2021-05-10T00:00:00+05:30\",\"2021-05-11T00:00:00+05:30\",\"2021-05-12T00:00:00+05:30\",\"2021-05-14T00:00:00+05:30\",\"2021-05-17T00:00:00+05:30\",\"2021-05-18T00:00:00+05:30\",\"2021-05-19T00:00:00+05:30\",\"2021-05-20T00:00:00+05:30\",\"2021-05-21T00:00:00+05:30\",\"2021-05-24T00:00:00+05:30\",\"2021-05-25T00:00:00+05:30\",\"2021-05-26T00:00:00+05:30\",\"2021-05-27T00:00:00+05:30\",\"2021-05-28T00:00:00+05:30\",\"2021-05-31T00:00:00+05:30\",\"2021-06-01T00:00:00+05:30\",\"2021-06-02T00:00:00+05:30\",\"2021-06-03T00:00:00+05:30\",\"2021-06-04T00:00:00+05:30\",\"2021-06-07T00:00:00+05:30\",\"2021-06-08T00:00:00+05:30\",\"2021-06-09T00:00:00+05:30\",\"2021-06-10T00:00:00+05:30\",\"2021-06-11T00:00:00+05:30\",\"2021-06-14T00:00:00+05:30\",\"2021-06-15T00:00:00+05:30\",\"2021-06-16T00:00:00+05:30\",\"2021-06-17T00:00:00+05:30\",\"2021-06-18T00:00:00+05:30\",\"2021-06-21T00:00:00+05:30\",\"2021-06-22T00:00:00+05:30\",\"2021-06-23T00:00:00+05:30\",\"2021-06-24T00:00:00+05:30\",\"2021-06-25T00:00:00+05:30\",\"2021-06-28T00:00:00+05:30\",\"2021-06-29T00:00:00+05:30\",\"2021-06-30T00:00:00+05:30\",\"2021-07-01T00:00:00+05:30\",\"2021-07-02T00:00:00+05:30\",\"2021-07-05T00:00:00+05:30\",\"2021-07-06T00:00:00+05:30\",\"2021-07-07T00:00:00+05:30\",\"2021-07-08T00:00:00+05:30\",\"2021-07-09T00:00:00+05:30\",\"2021-07-12T00:00:00+05:30\",\"2021-07-13T00:00:00+05:30\",\"2021-07-14T00:00:00+05:30\",\"2021-07-15T00:00:00+05:30\",\"2021-07-16T00:00:00+05:30\",\"2021-07-19T00:00:00+05:30\",\"2021-07-20T00:00:00+05:30\",\"2021-07-22T00:00:00+05:30\",\"2021-07-23T00:00:00+05:30\",\"2021-07-26T00:00:00+05:30\",\"2021-07-27T00:00:00+05:30\",\"2021-07-28T00:00:00+05:30\",\"2021-07-29T00:00:00+05:30\",\"2021-07-30T00:00:00+05:30\",\"2021-08-02T00:00:00+05:30\",\"2021-08-03T00:00:00+05:30\",\"2021-08-04T00:00:00+05:30\",\"2021-08-05T00:00:00+05:30\",\"2021-08-06T00:00:00+05:30\",\"2021-08-09T00:00:00+05:30\",\"2021-08-10T00:00:00+05:30\",\"2021-08-11T00:00:00+05:30\",\"2021-08-12T00:00:00+05:30\",\"2021-08-13T00:00:00+05:30\",\"2021-08-16T00:00:00+05:30\",\"2021-08-17T00:00:00+05:30\",\"2021-08-18T00:00:00+05:30\",\"2021-08-20T00:00:00+05:30\",\"2021-08-23T00:00:00+05:30\",\"2021-08-24T00:00:00+05:30\",\"2021-08-25T00:00:00+05:30\",\"2021-08-26T00:00:00+05:30\",\"2021-08-27T00:00:00+05:30\",\"2021-08-30T00:00:00+05:30\",\"2021-08-31T00:00:00+05:30\",\"2021-09-01T00:00:00+05:30\",\"2021-09-02T00:00:00+05:30\",\"2021-09-03T00:00:00+05:30\",\"2021-09-06T00:00:00+05:30\",\"2021-09-07T00:00:00+05:30\",\"2021-09-08T00:00:00+05:30\",\"2021-09-09T00:00:00+05:30\",\"2021-09-13T00:00:00+05:30\",\"2021-09-14T00:00:00+05:30\",\"2021-09-15T00:00:00+05:30\",\"2021-09-16T00:00:00+05:30\",\"2021-09-17T00:00:00+05:30\",\"2021-09-20T00:00:00+05:30\",\"2021-09-21T00:00:00+05:30\",\"2021-09-22T00:00:00+05:30\",\"2021-09-23T00:00:00+05:30\",\"2021-09-24T00:00:00+05:30\",\"2021-09-27T00:00:00+05:30\",\"2021-09-28T00:00:00+05:30\",\"2021-09-29T00:00:00+05:30\",\"2021-09-30T00:00:00+05:30\",\"2021-10-01T00:00:00+05:30\",\"2021-10-04T00:00:00+05:30\",\"2021-10-05T00:00:00+05:30\",\"2021-10-06T00:00:00+05:30\",\"2021-10-07T00:00:00+05:30\",\"2021-10-08T00:00:00+05:30\",\"2021-10-11T00:00:00+05:30\",\"2021-10-12T00:00:00+05:30\",\"2021-10-13T00:00:00+05:30\",\"2021-10-14T00:00:00+05:30\",\"2021-10-18T00:00:00+05:30\",\"2021-10-19T00:00:00+05:30\",\"2021-10-20T00:00:00+05:30\",\"2021-10-21T00:00:00+05:30\",\"2021-10-22T00:00:00+05:30\",\"2021-10-25T00:00:00+05:30\",\"2021-10-26T00:00:00+05:30\",\"2021-10-27T00:00:00+05:30\",\"2021-10-28T00:00:00+05:30\",\"2021-10-29T00:00:00+05:30\",\"2021-11-01T00:00:00+05:30\",\"2021-11-02T00:00:00+05:30\",\"2021-11-03T00:00:00+05:30\",\"2021-11-04T00:00:00+05:30\",\"2021-11-08T00:00:00+05:30\",\"2021-11-09T00:00:00+05:30\",\"2021-11-10T00:00:00+05:30\",\"2021-11-11T00:00:00+05:30\",\"2021-11-12T00:00:00+05:30\",\"2021-11-15T00:00:00+05:30\",\"2021-11-16T00:00:00+05:30\",\"2021-11-17T00:00:00+05:30\",\"2021-11-18T00:00:00+05:30\",\"2021-11-22T00:00:00+05:30\",\"2021-11-23T00:00:00+05:30\",\"2021-11-24T00:00:00+05:30\",\"2021-11-25T00:00:00+05:30\",\"2021-11-26T00:00:00+05:30\",\"2021-11-29T00:00:00+05:30\",\"2021-11-30T00:00:00+05:30\",\"2021-12-01T00:00:00+05:30\",\"2021-12-02T00:00:00+05:30\",\"2021-12-03T00:00:00+05:30\",\"2021-12-06T00:00:00+05:30\",\"2021-12-07T00:00:00+05:30\",\"2021-12-08T00:00:00+05:30\",\"2021-12-09T00:00:00+05:30\",\"2021-12-10T00:00:00+05:30\",\"2021-12-13T00:00:00+05:30\",\"2021-12-14T00:00:00+05:30\",\"2021-12-15T00:00:00+05:30\",\"2021-12-16T00:00:00+05:30\",\"2021-12-17T00:00:00+05:30\",\"2021-12-20T00:00:00+05:30\",\"2021-12-21T00:00:00+05:30\",\"2021-12-22T00:00:00+05:30\",\"2021-12-23T00:00:00+05:30\",\"2021-12-24T00:00:00+05:30\",\"2021-12-27T00:00:00+05:30\",\"2021-12-28T00:00:00+05:30\",\"2021-12-29T00:00:00+05:30\",\"2021-12-30T00:00:00+05:30\",\"2021-12-31T00:00:00+05:30\",\"2022-01-03T00:00:00+05:30\",\"2022-01-04T00:00:00+05:30\",\"2022-01-05T00:00:00+05:30\",\"2022-01-06T00:00:00+05:30\",\"2022-01-07T00:00:00+05:30\",\"2022-01-10T00:00:00+05:30\",\"2022-01-11T00:00:00+05:30\",\"2022-01-12T00:00:00+05:30\",\"2022-01-13T00:00:00+05:30\",\"2022-01-14T00:00:00+05:30\",\"2022-01-17T00:00:00+05:30\",\"2022-01-18T00:00:00+05:30\",\"2022-01-19T00:00:00+05:30\",\"2022-01-20T00:00:00+05:30\",\"2022-01-21T00:00:00+05:30\",\"2022-01-24T00:00:00+05:30\",\"2022-01-25T00:00:00+05:30\",\"2022-01-27T00:00:00+05:30\",\"2022-01-28T00:00:00+05:30\",\"2022-01-31T00:00:00+05:30\",\"2022-02-01T00:00:00+05:30\",\"2022-02-02T00:00:00+05:30\",\"2022-02-03T00:00:00+05:30\",\"2022-02-04T00:00:00+05:30\",\"2022-02-07T00:00:00+05:30\",\"2022-02-08T00:00:00+05:30\",\"2022-02-09T00:00:00+05:30\",\"2022-02-10T00:00:00+05:30\",\"2022-02-11T00:00:00+05:30\",\"2022-02-14T00:00:00+05:30\",\"2022-02-15T00:00:00+05:30\",\"2022-02-16T00:00:00+05:30\",\"2022-02-17T00:00:00+05:30\",\"2022-02-18T00:00:00+05:30\",\"2022-02-21T00:00:00+05:30\",\"2022-02-22T00:00:00+05:30\",\"2022-02-23T00:00:00+05:30\",\"2022-02-24T00:00:00+05:30\",\"2022-02-25T00:00:00+05:30\",\"2022-02-28T00:00:00+05:30\",\"2022-03-02T00:00:00+05:30\",\"2022-03-03T00:00:00+05:30\",\"2022-03-04T00:00:00+05:30\",\"2022-03-07T00:00:00+05:30\",\"2022-03-08T00:00:00+05:30\",\"2022-03-09T00:00:00+05:30\",\"2022-03-10T00:00:00+05:30\",\"2022-03-11T00:00:00+05:30\",\"2022-03-14T00:00:00+05:30\",\"2022-03-15T00:00:00+05:30\",\"2022-03-16T00:00:00+05:30\",\"2022-03-17T00:00:00+05:30\",\"2022-03-21T00:00:00+05:30\",\"2022-03-22T00:00:00+05:30\",\"2022-03-23T00:00:00+05:30\",\"2022-03-24T00:00:00+05:30\",\"2022-03-25T00:00:00+05:30\",\"2022-03-28T00:00:00+05:30\",\"2022-03-29T00:00:00+05:30\",\"2022-03-30T00:00:00+05:30\",\"2022-03-31T00:00:00+05:30\",\"2022-04-01T00:00:00+05:30\",\"2022-04-04T00:00:00+05:30\",\"2022-04-05T00:00:00+05:30\",\"2022-04-06T00:00:00+05:30\",\"2022-04-07T00:00:00+05:30\",\"2022-04-08T00:00:00+05:30\",\"2022-04-11T00:00:00+05:30\",\"2022-04-12T00:00:00+05:30\",\"2022-04-13T00:00:00+05:30\",\"2022-04-18T00:00:00+05:30\",\"2022-04-19T00:00:00+05:30\",\"2022-04-20T00:00:00+05:30\",\"2022-04-21T00:00:00+05:30\",\"2022-04-22T00:00:00+05:30\",\"2022-04-25T00:00:00+05:30\",\"2022-04-26T00:00:00+05:30\",\"2022-04-27T00:00:00+05:30\",\"2022-04-28T00:00:00+05:30\",\"2022-04-29T00:00:00+05:30\",\"2022-05-02T00:00:00+05:30\",\"2022-05-04T00:00:00+05:30\",\"2022-05-05T00:00:00+05:30\",\"2022-05-06T00:00:00+05:30\",\"2022-05-09T00:00:00+05:30\",\"2022-05-10T00:00:00+05:30\",\"2022-05-11T00:00:00+05:30\",\"2022-05-12T00:00:00+05:30\",\"2022-05-13T00:00:00+05:30\",\"2022-05-16T00:00:00+05:30\",\"2022-05-17T00:00:00+05:30\",\"2022-05-18T00:00:00+05:30\",\"2022-05-19T00:00:00+05:30\",\"2022-05-20T00:00:00+05:30\",\"2022-05-23T00:00:00+05:30\",\"2022-05-24T00:00:00+05:30\",\"2022-05-25T00:00:00+05:30\",\"2022-05-26T00:00:00+05:30\",\"2022-05-27T00:00:00+05:30\",\"2022-05-30T00:00:00+05:30\",\"2022-05-31T00:00:00+05:30\",\"2022-06-01T00:00:00+05:30\",\"2022-06-02T00:00:00+05:30\",\"2022-06-03T00:00:00+05:30\",\"2022-06-06T00:00:00+05:30\",\"2022-06-07T00:00:00+05:30\",\"2022-06-08T00:00:00+05:30\",\"2022-06-09T00:00:00+05:30\",\"2022-06-10T00:00:00+05:30\",\"2022-06-13T00:00:00+05:30\",\"2022-06-14T00:00:00+05:30\",\"2022-06-15T00:00:00+05:30\",\"2022-06-16T00:00:00+05:30\",\"2022-06-17T00:00:00+05:30\",\"2022-06-20T00:00:00+05:30\",\"2022-06-21T00:00:00+05:30\",\"2022-06-22T00:00:00+05:30\",\"2022-06-23T00:00:00+05:30\",\"2022-06-24T00:00:00+05:30\",\"2022-06-27T00:00:00+05:30\",\"2022-06-28T00:00:00+05:30\",\"2022-06-29T00:00:00+05:30\",\"2022-06-30T00:00:00+05:30\",\"2022-07-01T00:00:00+05:30\",\"2022-07-04T00:00:00+05:30\",\"2022-07-05T00:00:00+05:30\",\"2022-07-06T00:00:00+05:30\",\"2022-07-07T00:00:00+05:30\",\"2022-07-08T00:00:00+05:30\",\"2022-07-11T00:00:00+05:30\",\"2022-07-12T00:00:00+05:30\",\"2022-07-13T00:00:00+05:30\",\"2022-07-14T00:00:00+05:30\",\"2022-07-15T00:00:00+05:30\",\"2022-07-18T00:00:00+05:30\",\"2022-07-19T00:00:00+05:30\",\"2022-07-20T00:00:00+05:30\",\"2022-07-21T00:00:00+05:30\",\"2022-07-22T00:00:00+05:30\",\"2022-07-25T00:00:00+05:30\",\"2022-07-26T00:00:00+05:30\",\"2022-07-27T00:00:00+05:30\",\"2022-07-28T00:00:00+05:30\",\"2022-07-29T00:00:00+05:30\",\"2022-08-01T00:00:00+05:30\",\"2022-08-02T00:00:00+05:30\",\"2022-08-03T00:00:00+05:30\",\"2022-08-04T00:00:00+05:30\",\"2022-08-05T00:00:00+05:30\",\"2022-08-08T00:00:00+05:30\",\"2022-08-10T00:00:00+05:30\",\"2022-08-11T00:00:00+05:30\",\"2022-08-12T00:00:00+05:30\",\"2022-08-16T00:00:00+05:30\",\"2022-08-17T00:00:00+05:30\",\"2022-08-18T00:00:00+05:30\",\"2022-08-19T00:00:00+05:30\",\"2022-08-22T00:00:00+05:30\",\"2022-08-23T00:00:00+05:30\",\"2022-08-24T00:00:00+05:30\",\"2022-08-25T00:00:00+05:30\",\"2022-08-26T00:00:00+05:30\",\"2022-08-29T00:00:00+05:30\",\"2022-08-30T00:00:00+05:30\",\"2022-09-01T00:00:00+05:30\",\"2022-09-02T00:00:00+05:30\",\"2022-09-05T00:00:00+05:30\",\"2022-09-06T00:00:00+05:30\",\"2022-09-07T00:00:00+05:30\",\"2022-09-08T00:00:00+05:30\",\"2022-09-09T00:00:00+05:30\",\"2022-09-12T00:00:00+05:30\",\"2022-09-13T00:00:00+05:30\",\"2022-09-14T00:00:00+05:30\",\"2022-09-15T00:00:00+05:30\",\"2022-09-16T00:00:00+05:30\",\"2022-09-19T00:00:00+05:30\",\"2022-09-20T00:00:00+05:30\",\"2022-09-21T00:00:00+05:30\",\"2022-09-22T00:00:00+05:30\",\"2022-09-23T00:00:00+05:30\",\"2022-09-26T00:00:00+05:30\",\"2022-09-27T00:00:00+05:30\",\"2022-09-28T00:00:00+05:30\",\"2022-09-29T00:00:00+05:30\",\"2022-09-30T00:00:00+05:30\",\"2022-10-03T00:00:00+05:30\",\"2022-10-04T00:00:00+05:30\",\"2022-10-06T00:00:00+05:30\",\"2022-10-07T00:00:00+05:30\",\"2022-10-10T00:00:00+05:30\",\"2022-10-11T00:00:00+05:30\",\"2022-10-12T00:00:00+05:30\",\"2022-10-13T00:00:00+05:30\",\"2022-10-14T00:00:00+05:30\",\"2022-10-17T00:00:00+05:30\",\"2022-10-18T00:00:00+05:30\",\"2022-10-19T00:00:00+05:30\",\"2022-10-20T00:00:00+05:30\",\"2022-10-21T00:00:00+05:30\",\"2022-10-24T00:00:00+05:30\",\"2022-10-25T00:00:00+05:30\",\"2022-10-27T00:00:00+05:30\",\"2022-10-28T00:00:00+05:30\",\"2022-10-31T00:00:00+05:30\",\"2022-11-01T00:00:00+05:30\",\"2022-11-02T00:00:00+05:30\",\"2022-11-03T00:00:00+05:30\",\"2022-11-04T00:00:00+05:30\",\"2022-11-07T00:00:00+05:30\",\"2022-11-09T00:00:00+05:30\",\"2022-11-10T00:00:00+05:30\",\"2022-11-11T00:00:00+05:30\",\"2022-11-14T00:00:00+05:30\",\"2022-11-15T00:00:00+05:30\",\"2022-11-16T00:00:00+05:30\",\"2022-11-17T00:00:00+05:30\",\"2022-11-18T00:00:00+05:30\",\"2022-11-21T00:00:00+05:30\",\"2022-11-22T00:00:00+05:30\",\"2022-11-23T00:00:00+05:30\",\"2022-11-24T00:00:00+05:30\",\"2022-11-25T00:00:00+05:30\",\"2022-11-28T00:00:00+05:30\",\"2022-11-29T00:00:00+05:30\",\"2022-11-30T00:00:00+05:30\",\"2022-12-01T00:00:00+05:30\",\"2022-12-02T00:00:00+05:30\",\"2022-12-05T00:00:00+05:30\",\"2022-12-06T00:00:00+05:30\",\"2022-12-07T00:00:00+05:30\",\"2022-12-08T00:00:00+05:30\",\"2022-12-09T00:00:00+05:30\",\"2022-12-12T00:00:00+05:30\",\"2022-12-13T00:00:00+05:30\",\"2022-12-14T00:00:00+05:30\",\"2022-12-15T00:00:00+05:30\",\"2022-12-16T00:00:00+05:30\",\"2022-12-19T00:00:00+05:30\",\"2022-12-20T00:00:00+05:30\",\"2022-12-21T00:00:00+05:30\",\"2022-12-22T00:00:00+05:30\",\"2022-12-23T00:00:00+05:30\",\"2022-12-26T00:00:00+05:30\",\"2022-12-27T00:00:00+05:30\",\"2022-12-28T00:00:00+05:30\",\"2022-12-29T00:00:00+05:30\",\"2022-12-30T00:00:00+05:30\",\"2023-01-02T00:00:00+05:30\",\"2023-01-03T00:00:00+05:30\",\"2023-01-04T00:00:00+05:30\",\"2023-01-05T00:00:00+05:30\",\"2023-01-06T00:00:00+05:30\",\"2023-01-09T00:00:00+05:30\",\"2023-01-10T00:00:00+05:30\",\"2023-01-11T00:00:00+05:30\",\"2023-01-12T00:00:00+05:30\",\"2023-01-13T00:00:00+05:30\",\"2023-01-16T00:00:00+05:30\",\"2023-01-17T00:00:00+05:30\",\"2023-01-18T00:00:00+05:30\",\"2023-01-19T00:00:00+05:30\",\"2023-01-20T00:00:00+05:30\",\"2023-01-23T00:00:00+05:30\",\"2023-01-24T00:00:00+05:30\",\"2023-01-25T00:00:00+05:30\",\"2023-01-27T00:00:00+05:30\",\"2023-01-30T00:00:00+05:30\",\"2023-01-31T00:00:00+05:30\",\"2023-02-01T00:00:00+05:30\",\"2023-02-02T00:00:00+05:30\",\"2023-02-03T00:00:00+05:30\",\"2023-02-06T00:00:00+05:30\",\"2023-02-07T00:00:00+05:30\",\"2023-02-08T00:00:00+05:30\",\"2023-02-09T00:00:00+05:30\",\"2023-02-10T00:00:00+05:30\",\"2023-02-13T00:00:00+05:30\",\"2023-02-14T00:00:00+05:30\",\"2023-02-15T00:00:00+05:30\",\"2023-02-16T00:00:00+05:30\",\"2023-02-17T00:00:00+05:30\",\"2023-02-20T00:00:00+05:30\",\"2023-02-21T00:00:00+05:30\",\"2023-02-22T00:00:00+05:30\",\"2023-02-23T00:00:00+05:30\",\"2023-02-24T00:00:00+05:30\",\"2023-02-27T00:00:00+05:30\",\"2023-02-28T00:00:00+05:30\",\"2023-03-01T00:00:00+05:30\",\"2023-03-02T00:00:00+05:30\",\"2023-03-03T00:00:00+05:30\",\"2023-03-06T00:00:00+05:30\",\"2023-03-08T00:00:00+05:30\",\"2023-03-09T00:00:00+05:30\",\"2023-03-10T00:00:00+05:30\",\"2023-03-13T00:00:00+05:30\",\"2023-03-14T00:00:00+05:30\",\"2023-03-15T00:00:00+05:30\",\"2023-03-16T00:00:00+05:30\",\"2023-03-17T00:00:00+05:30\",\"2023-03-20T00:00:00+05:30\",\"2023-03-21T00:00:00+05:30\",\"2023-03-22T00:00:00+05:30\",\"2023-03-23T00:00:00+05:30\",\"2023-03-24T00:00:00+05:30\",\"2023-03-27T00:00:00+05:30\",\"2023-03-28T00:00:00+05:30\",\"2023-03-29T00:00:00+05:30\",\"2023-03-31T00:00:00+05:30\",\"2023-04-03T00:00:00+05:30\",\"2023-04-05T00:00:00+05:30\",\"2023-04-06T00:00:00+05:30\",\"2023-04-10T00:00:00+05:30\",\"2023-04-11T00:00:00+05:30\",\"2023-04-12T00:00:00+05:30\",\"2023-04-13T00:00:00+05:30\",\"2023-04-17T00:00:00+05:30\",\"2023-04-18T00:00:00+05:30\",\"2023-04-19T00:00:00+05:30\",\"2023-04-20T00:00:00+05:30\",\"2023-04-21T00:00:00+05:30\",\"2023-04-24T00:00:00+05:30\",\"2023-04-25T00:00:00+05:30\",\"2023-04-26T00:00:00+05:30\",\"2023-04-27T00:00:00+05:30\",\"2023-04-28T00:00:00+05:30\",\"2023-05-02T00:00:00+05:30\",\"2023-05-03T00:00:00+05:30\",\"2023-05-04T00:00:00+05:30\",\"2023-05-05T00:00:00+05:30\",\"2023-05-08T00:00:00+05:30\",\"2023-05-09T00:00:00+05:30\",\"2023-05-10T00:00:00+05:30\",\"2023-05-11T00:00:00+05:30\",\"2023-05-12T00:00:00+05:30\",\"2023-05-15T00:00:00+05:30\",\"2023-05-16T00:00:00+05:30\",\"2023-05-17T00:00:00+05:30\",\"2023-05-18T00:00:00+05:30\",\"2023-05-19T00:00:00+05:30\",\"2023-05-22T00:00:00+05:30\",\"2023-05-23T00:00:00+05:30\",\"2023-05-24T00:00:00+05:30\",\"2023-05-25T00:00:00+05:30\",\"2023-05-26T00:00:00+05:30\",\"2023-05-29T00:00:00+05:30\",\"2023-05-30T00:00:00+05:30\",\"2023-05-31T00:00:00+05:30\",\"2023-06-01T00:00:00+05:30\",\"2023-06-02T00:00:00+05:30\",\"2023-06-05T00:00:00+05:30\",\"2023-06-06T00:00:00+05:30\",\"2023-06-07T00:00:00+05:30\",\"2023-06-08T00:00:00+05:30\",\"2023-06-09T00:00:00+05:30\",\"2023-06-12T00:00:00+05:30\",\"2023-06-13T00:00:00+05:30\",\"2023-06-14T00:00:00+05:30\",\"2023-06-15T00:00:00+05:30\",\"2023-06-16T00:00:00+05:30\",\"2023-06-19T00:00:00+05:30\",\"2023-06-20T00:00:00+05:30\",\"2023-06-21T00:00:00+05:30\",\"2023-06-22T00:00:00+05:30\",\"2023-06-23T00:00:00+05:30\",\"2023-06-26T00:00:00+05:30\",\"2023-06-27T00:00:00+05:30\",\"2023-06-28T00:00:00+05:30\",\"2023-06-30T00:00:00+05:30\",\"2023-07-03T00:00:00+05:30\",\"2023-07-04T00:00:00+05:30\",\"2023-07-05T00:00:00+05:30\",\"2023-07-06T00:00:00+05:30\",\"2023-07-07T00:00:00+05:30\",\"2023-07-10T00:00:00+05:30\",\"2023-07-11T00:00:00+05:30\",\"2023-07-12T00:00:00+05:30\",\"2023-07-13T00:00:00+05:30\",\"2023-07-14T00:00:00+05:30\",\"2023-07-17T00:00:00+05:30\",\"2023-07-18T00:00:00+05:30\",\"2023-07-19T00:00:00+05:30\",\"2023-07-20T00:00:00+05:30\",\"2023-07-21T00:00:00+05:30\",\"2023-07-24T00:00:00+05:30\",\"2023-07-25T00:00:00+05:30\",\"2023-07-26T00:00:00+05:30\",\"2023-07-27T00:00:00+05:30\",\"2023-07-28T00:00:00+05:30\",\"2023-07-31T00:00:00+05:30\",\"2023-08-01T00:00:00+05:30\",\"2023-08-02T00:00:00+05:30\",\"2023-08-03T00:00:00+05:30\",\"2023-08-04T00:00:00+05:30\",\"2023-08-07T00:00:00+05:30\",\"2023-08-08T00:00:00+05:30\",\"2023-08-09T00:00:00+05:30\",\"2023-08-10T00:00:00+05:30\",\"2023-08-11T00:00:00+05:30\",\"2023-08-14T00:00:00+05:30\",\"2023-08-16T00:00:00+05:30\",\"2023-08-17T00:00:00+05:30\",\"2023-08-18T00:00:00+05:30\",\"2023-08-21T00:00:00+05:30\",\"2023-08-22T00:00:00+05:30\",\"2023-08-23T00:00:00+05:30\",\"2023-08-24T00:00:00+05:30\",\"2023-08-25T00:00:00+05:30\",\"2023-08-28T00:00:00+05:30\",\"2023-08-29T00:00:00+05:30\",\"2023-08-30T00:00:00+05:30\",\"2023-08-31T00:00:00+05:30\",\"2023-09-01T00:00:00+05:30\",\"2023-09-04T00:00:00+05:30\",\"2023-09-05T00:00:00+05:30\",\"2023-09-06T00:00:00+05:30\",\"2023-09-07T00:00:00+05:30\",\"2023-09-08T00:00:00+05:30\",\"2023-09-11T00:00:00+05:30\",\"2023-09-12T00:00:00+05:30\",\"2023-09-13T00:00:00+05:30\",\"2023-09-14T00:00:00+05:30\",\"2023-09-15T00:00:00+05:30\",\"2023-09-18T00:00:00+05:30\",\"2023-09-20T00:00:00+05:30\",\"2023-09-21T00:00:00+05:30\",\"2023-09-22T00:00:00+05:30\",\"2023-09-25T00:00:00+05:30\",\"2023-09-26T00:00:00+05:30\",\"2023-09-27T00:00:00+05:30\",\"2023-09-28T00:00:00+05:30\",\"2023-09-29T00:00:00+05:30\",\"2023-10-03T00:00:00+05:30\",\"2023-10-04T00:00:00+05:30\",\"2023-10-05T00:00:00+05:30\",\"2023-10-06T00:00:00+05:30\",\"2023-10-09T00:00:00+05:30\",\"2023-10-10T00:00:00+05:30\",\"2023-10-11T00:00:00+05:30\",\"2023-10-12T00:00:00+05:30\",\"2023-10-13T00:00:00+05:30\",\"2023-10-16T00:00:00+05:30\",\"2023-10-17T00:00:00+05:30\",\"2023-10-18T00:00:00+05:30\",\"2023-10-19T00:00:00+05:30\",\"2023-10-20T00:00:00+05:30\",\"2023-10-23T00:00:00+05:30\",\"2023-10-25T00:00:00+05:30\",\"2023-10-26T00:00:00+05:30\",\"2023-10-27T00:00:00+05:30\",\"2023-10-30T00:00:00+05:30\",\"2023-10-31T00:00:00+05:30\",\"2023-11-01T00:00:00+05:30\",\"2023-11-02T00:00:00+05:30\",\"2023-11-03T00:00:00+05:30\",\"2023-11-06T00:00:00+05:30\",\"2023-11-07T00:00:00+05:30\",\"2023-11-08T00:00:00+05:30\",\"2023-11-09T00:00:00+05:30\",\"2023-11-10T00:00:00+05:30\",\"2023-11-13T00:00:00+05:30\",\"2023-11-15T00:00:00+05:30\",\"2023-11-16T00:00:00+05:30\",\"2023-11-17T00:00:00+05:30\",\"2023-11-20T00:00:00+05:30\",\"2023-11-21T00:00:00+05:30\",\"2023-11-22T00:00:00+05:30\",\"2023-11-23T00:00:00+05:30\",\"2023-11-24T00:00:00+05:30\",\"2023-11-28T00:00:00+05:30\",\"2023-11-29T00:00:00+05:30\",\"2023-11-30T00:00:00+05:30\",\"2023-12-01T00:00:00+05:30\",\"2023-12-04T00:00:00+05:30\",\"2023-12-05T00:00:00+05:30\",\"2023-12-06T00:00:00+05:30\",\"2023-12-07T00:00:00+05:30\",\"2023-12-08T00:00:00+05:30\",\"2023-12-11T00:00:00+05:30\",\"2023-12-12T00:00:00+05:30\",\"2023-12-13T00:00:00+05:30\",\"2023-12-14T00:00:00+05:30\",\"2023-12-15T00:00:00+05:30\",\"2023-12-18T00:00:00+05:30\",\"2023-12-19T00:00:00+05:30\",\"2023-12-20T00:00:00+05:30\",\"2023-12-21T00:00:00+05:30\",\"2023-12-22T00:00:00+05:30\",\"2023-12-26T00:00:00+05:30\",\"2023-12-27T00:00:00+05:30\",\"2023-12-28T00:00:00+05:30\",\"2023-12-29T00:00:00+05:30\",\"2024-01-01T00:00:00+05:30\",\"2024-01-02T00:00:00+05:30\",\"2024-01-03T00:00:00+05:30\",\"2024-01-04T00:00:00+05:30\",\"2024-01-05T00:00:00+05:30\",\"2024-01-08T00:00:00+05:30\",\"2024-01-09T00:00:00+05:30\",\"2024-01-10T00:00:00+05:30\",\"2024-01-11T00:00:00+05:30\",\"2024-01-12T00:00:00+05:30\",\"2024-01-15T00:00:00+05:30\",\"2024-01-16T00:00:00+05:30\",\"2024-01-17T00:00:00+05:30\",\"2024-01-18T00:00:00+05:30\",\"2024-01-19T00:00:00+05:30\",\"2024-01-23T00:00:00+05:30\",\"2024-01-24T00:00:00+05:30\",\"2024-01-25T00:00:00+05:30\",\"2024-01-29T00:00:00+05:30\",\"2024-01-30T00:00:00+05:30\",\"2024-01-31T00:00:00+05:30\",\"2024-02-01T00:00:00+05:30\",\"2024-02-02T00:00:00+05:30\",\"2024-02-05T00:00:00+05:30\",\"2024-02-06T00:00:00+05:30\",\"2024-02-07T00:00:00+05:30\",\"2024-02-08T00:00:00+05:30\",\"2024-02-09T00:00:00+05:30\",\"2024-02-12T00:00:00+05:30\",\"2024-02-13T00:00:00+05:30\",\"2024-02-14T00:00:00+05:30\",\"2024-02-15T00:00:00+05:30\",\"2024-02-16T00:00:00+05:30\",\"2024-02-19T00:00:00+05:30\",\"2024-02-20T00:00:00+05:30\",\"2024-02-21T00:00:00+05:30\",\"2024-02-22T00:00:00+05:30\",\"2024-02-23T00:00:00+05:30\",\"2024-02-26T00:00:00+05:30\",\"2024-02-27T00:00:00+05:30\",\"2024-02-28T00:00:00+05:30\",\"2024-02-29T00:00:00+05:30\",\"2024-03-01T00:00:00+05:30\",\"2024-03-04T00:00:00+05:30\",\"2024-03-05T00:00:00+05:30\",\"2024-03-06T00:00:00+05:30\",\"2024-03-07T00:00:00+05:30\",\"2024-03-11T00:00:00+05:30\",\"2024-03-12T00:00:00+05:30\",\"2024-03-13T00:00:00+05:30\",\"2024-03-14T00:00:00+05:30\",\"2024-03-15T00:00:00+05:30\",\"2024-03-18T00:00:00+05:30\",\"2024-03-19T00:00:00+05:30\",\"2024-03-20T00:00:00+05:30\",\"2024-03-21T00:00:00+05:30\",\"2024-03-22T00:00:00+05:30\",\"2024-03-26T00:00:00+05:30\",\"2024-03-27T00:00:00+05:30\",\"2024-03-28T00:00:00+05:30\",\"2024-04-01T00:00:00+05:30\",\"2024-04-02T00:00:00+05:30\",\"2024-04-03T00:00:00+05:30\",\"2024-04-04T00:00:00+05:30\",\"2024-04-05T00:00:00+05:30\",\"2024-04-08T00:00:00+05:30\",\"2024-04-09T00:00:00+05:30\",\"2024-04-10T00:00:00+05:30\",\"2024-04-12T00:00:00+05:30\",\"2024-04-15T00:00:00+05:30\",\"2024-04-16T00:00:00+05:30\",\"2024-04-18T00:00:00+05:30\",\"2024-04-19T00:00:00+05:30\",\"2024-04-22T00:00:00+05:30\",\"2024-04-23T00:00:00+05:30\",\"2024-04-24T00:00:00+05:30\",\"2024-04-25T00:00:00+05:30\",\"2024-04-26T00:00:00+05:30\",\"2024-04-29T00:00:00+05:30\",\"2024-04-30T00:00:00+05:30\",\"2024-05-02T00:00:00+05:30\",\"2024-05-03T00:00:00+05:30\",\"2024-05-06T00:00:00+05:30\",\"2024-05-07T00:00:00+05:30\",\"2024-05-08T00:00:00+05:30\",\"2024-05-09T00:00:00+05:30\",\"2024-05-10T00:00:00+05:30\",\"2024-05-13T00:00:00+05:30\",\"2024-05-14T00:00:00+05:30\",\"2024-05-15T00:00:00+05:30\",\"2024-05-16T00:00:00+05:30\",\"2024-05-17T00:00:00+05:30\",\"2024-05-21T00:00:00+05:30\",\"2024-05-22T00:00:00+05:30\",\"2024-05-23T00:00:00+05:30\",\"2024-05-24T00:00:00+05:30\",\"2024-05-27T00:00:00+05:30\",\"2024-05-28T00:00:00+05:30\",\"2024-05-29T00:00:00+05:30\",\"2024-05-30T00:00:00+05:30\",\"2024-05-31T00:00:00+05:30\",\"2024-06-03T00:00:00+05:30\",\"2024-06-04T00:00:00+05:30\",\"2024-06-05T00:00:00+05:30\",\"2024-06-06T00:00:00+05:30\",\"2024-06-07T00:00:00+05:30\",\"2024-06-10T00:00:00+05:30\",\"2024-06-11T00:00:00+05:30\",\"2024-06-12T00:00:00+05:30\",\"2024-06-13T00:00:00+05:30\",\"2024-06-14T00:00:00+05:30\",\"2024-06-18T00:00:00+05:30\",\"2024-06-19T00:00:00+05:30\",\"2024-06-20T00:00:00+05:30\",\"2024-06-21T00:00:00+05:30\",\"2024-06-24T00:00:00+05:30\",\"2024-06-25T00:00:00+05:30\",\"2024-06-26T00:00:00+05:30\",\"2024-06-27T00:00:00+05:30\",\"2024-06-28T00:00:00+05:30\",\"2024-07-01T00:00:00+05:30\",\"2024-07-02T00:00:00+05:30\",\"2024-07-03T00:00:00+05:30\",\"2024-07-04T00:00:00+05:30\",\"2024-07-05T00:00:00+05:30\",\"2024-07-08T00:00:00+05:30\",\"2024-07-09T00:00:00+05:30\",\"2024-07-10T00:00:00+05:30\",\"2024-07-11T00:00:00+05:30\",\"2024-07-12T00:00:00+05:30\",\"2024-07-15T00:00:00+05:30\",\"2024-07-16T00:00:00+05:30\",\"2024-07-18T00:00:00+05:30\",\"2024-07-19T00:00:00+05:30\",\"2024-07-22T00:00:00+05:30\",\"2024-07-23T00:00:00+05:30\",\"2024-07-24T00:00:00+05:30\",\"2024-07-25T00:00:00+05:30\",\"2024-07-26T00:00:00+05:30\",\"2024-07-29T00:00:00+05:30\",\"2024-07-30T00:00:00+05:30\",\"2024-07-31T00:00:00+05:30\",\"2024-08-01T00:00:00+05:30\",\"2024-08-02T00:00:00+05:30\",\"2024-08-05T00:00:00+05:30\",\"2024-08-06T00:00:00+05:30\",\"2024-08-07T00:00:00+05:30\",\"2024-08-08T00:00:00+05:30\",\"2024-08-09T00:00:00+05:30\",\"2024-08-12T00:00:00+05:30\",\"2024-08-13T00:00:00+05:30\",\"2024-08-14T00:00:00+05:30\",\"2024-08-16T00:00:00+05:30\",\"2024-08-19T00:00:00+05:30\",\"2024-08-20T00:00:00+05:30\",\"2024-08-21T00:00:00+05:30\",\"2024-08-22T00:00:00+05:30\",\"2024-08-23T00:00:00+05:30\",\"2024-08-26T00:00:00+05:30\",\"2024-08-27T00:00:00+05:30\",\"2024-08-28T00:00:00+05:30\",\"2024-08-29T00:00:00+05:30\",\"2024-08-30T00:00:00+05:30\",\"2024-09-02T00:00:00+05:30\",\"2024-09-03T00:00:00+05:30\",\"2024-09-04T00:00:00+05:30\",\"2024-09-05T00:00:00+05:30\",\"2024-09-06T00:00:00+05:30\",\"2024-09-09T00:00:00+05:30\",\"2024-09-10T00:00:00+05:30\",\"2024-09-11T00:00:00+05:30\",\"2024-09-12T00:00:00+05:30\",\"2024-09-13T00:00:00+05:30\",\"2024-09-16T00:00:00+05:30\",\"2024-09-17T00:00:00+05:30\",\"2024-09-18T00:00:00+05:30\",\"2024-09-19T00:00:00+05:30\",\"2024-09-20T00:00:00+05:30\"],\"xaxis\":\"x\",\"y\":[11274.2,11600.2,11588.2,11440.2,11571.2,11512.4,11474.45,11359.9,11314.0,11174.75,11126.4,11313.3,11234.55,11305.05,11341.15,11428.3,11464.0,11586.35,11661.85,11588.35,11604.1,11582.6,11583.9,11786.85,11844.1,11877.45,11890.6,11941.3,11917.2,11966.05,12012.05,11908.15,11913.45,11840.45,11872.1,11895.45,11884.5,11940.1,11999.1,11968.4,11914.4,12073.75,12037.7,12100.7,12151.15,12056.05,12048.2,11994.2,12043.2,12018.4,11921.5,11937.5,11856.8,11910.15,11971.8,12086.7,12053.95,12165.0,12221.65,12259.7,12271.8,12262.75,12214.55,12126.55,12245.8,12255.85,12168.45,12182.5,12282.2,12226.65,11993.05,12052.95,12025.35,12215.9,12256.8,12329.55,12362.3,12343.3,12355.5,12352.35,12224.55,12169.85,12106.9,12180.35,12248.25,12119.0,12055.8,12129.5,12035.8,11962.1,11707.9,11979.65,12089.15,12137.95,12098.35,12031.5,12107.9,12201.2,12174.65,12113.45,12045.8,11992.5,12125.9,12080.85,11829.4,11797.9,11678.5,11633.3,11201.75,11132.75,11303.3,11251.0,11269.0,10989.45,10451.45,10458.4,9590.15,9955.2,9197.4,8967.05,8468.8,8263.45,8745.45,7610.25,7801.05,8317.85,8641.45,8660.25,8281.1,8597.75,8253.8,8083.8,8792.2,8748.75,9111.9,8993.85,8925.3,8992.8,9266.75,9261.85,8981.45,9187.3,9313.9,9154.4,9282.3,9380.9,9553.35,9859.9,9293.5,9205.6,9270.9,9199.05,9251.5,9239.2,9196.55,9383.55,9142.75,9136.85,8823.25,8879.1,9066.55,9106.25,9039.25,9029.05,9314.95,9490.1,9580.3,9826.15,9979.1,10061.55,10029.1,10142.15,10167.45,10046.65,10116.15,9902.0,9972.9,9813.7,9914.0,9881.15,10091.65,10244.4,10311.2,10471.0,10305.3,10288.9,10383.0,10312.4,10302.1,10430.05,10551.7,10607.35,10763.65,10799.65,10705.75,10813.45,10768.05,10802.7,10607.35,10618.2,10739.95,10901.7,11022.2,11162.25,11132.6,11215.45,11194.15,11131.8,11300.55,11202.85,11102.15,11073.45,10891.6,11095.25,11101.65,11200.15,11214.05,11270.15,11322.5,11308.4,11300.45,11178.4,11247.1,11385.35,11408.4,11312.2,11371.6,11466.45,11472.25,11549.6,11559.25,11647.6,11387.5,11470.25,11535.0,11527.45,11333.85,11355.05,11317.35,11278.0,11449.25,11464.45,11440.05,11521.8,11604.55,11516.1,11504.95,11250.55,11153.65,11131.85,10805.55,11050.25,11227.55,11222.4,11247.55,11416.95,11503.35,11662.4,11738.85,11834.6,11914.2,11930.95,11934.5,11971.05,11680.35,11762.45,11873.05,11896.8,11937.65,11896.45,11930.35,11767.75,11889.4,11729.6,11670.8,11642.4,11669.15,11813.5,11908.5,12120.3,12263.55,12461.05,12631.1,12749.15,12690.8,12719.95,12874.2,12938.25,12771.7,12859.05,12926.45,13055.15,12858.4,12987.0,12968.95,13109.05,13113.75,13133.9,13258.55,13355.75,13392.95,13529.1,13478.3,13513.85,13558.15,13567.85,13682.7,13740.7,13760.55,13328.4,13466.3,13601.1,13749.25,13873.2,13932.6,13981.95,13981.75,14018.5,14132.9,14199.5,14146.25,14137.35,14347.25,14484.75,14563.45,14564.85,14595.6,14433.7,14281.3,14521.15,14644.7,14590.35,14371.9,14238.9,13967.5,13817.55,13634.6,14281.2,14647.85,14789.95,14895.65,14924.25,15115.8,15109.3,15106.5,15173.3,15163.3,15314.7,15313.45,15208.9,15118.95,14981.75,14675.7,14707.8,14982.0,15097.35,14529.15,14761.55,14919.1,15245.6,15080.75,14938.1,14956.2,15098.4,15174.8,15030.95,14929.5,14910.45,14721.3,14557.85,14744.0,14736.4,14814.75,14549.4,14324.9,14507.3,14845.1,14690.7,14867.35,14637.8,14683.5,14819.05,14873.8,14834.85,14310.8,14504.8,14581.45,14617.85,14359.45,14296.4,14406.15,14341.35,14485.0,14653.05,14864.55,14894.9,14631.1,14634.15,14496.5,14617.85,14724.8,14823.15,14942.35,14850.75,14696.5,14677.8,14923.15,15108.1,15030.15,14906.05,15175.3,15197.7,15208.45,15301.45,15337.85,15435.65,15582.8,15574.85,15576.2,15690.35,15670.25,15751.65,15740.1,15635.35,15737.75,15799.35,15811.85,15869.25,15767.55,15691.4,15683.35,15746.5,15772.75,15686.95,15790.45,15860.35,15814.7,15748.45,15721.5,15680.0,15722.2,15834.35,15818.25,15879.65,15727.9,15689.8,15692.6,15812.35,15853.95,15924.2,15923.4,15752.4,15632.1,15824.05,15856.05,15824.45,15746.45,15709.4,15778.45,15763.05,15885.15,16130.75,16258.8,16294.6,16238.2,16258.25,16280.1,16282.25,16364.4,16529.1,16563.05,16614.6,16568.85,16450.5,16496.45,16624.6,16634.65,16636.9,16705.2,16931.05,17132.2,17076.25,17234.15,17323.6,17377.8,17362.1,17353.5,17369.25,17355.3,17380.0,17519.45,17629.5,17585.15,17396.9,17562.0,17546.65,17822.95,17853.2,17855.1,17748.6,17711.3,17618.15,17532.05,17691.25,17822.3,17646.0,17790.35,17895.2,17945.95,17991.95,18161.75,18338.55,18477.05,18418.75,18266.6,18178.1,18114.9,18125.4,18268.4,18210.95,17857.25,17671.65,17929.65,17888.95,17829.2,17916.8,18068.55,18044.25,18017.2,17873.6,18102.75,18109.45,17999.2,17898.65,17764.8,17416.55,17503.35,17415.05,17536.25,17026.45,17053.95,16983.2,17166.9,17401.65,17196.7,16912.25,17176.7,17469.75,17516.85,17511.3,17368.25,17324.9,17221.4,17248.4,16985.2,16614.2,16770.85,16955.45,17072.6,17003.75,17086.25,17233.25,17213.6,17203.95,17354.05,17625.7,17805.25,17925.25,17745.9,17812.7,18003.3,18055.75,18212.35,18257.8,18255.75,18308.1,18113.05,17938.4,17757.0,17617.15,17149.1,17277.95,17110.15,17101.95,17339.85,17576.85,17780.0,17560.2,17516.3,17213.6,17266.75,17463.8,17605.85,17374.75,16842.8,17352.45,17322.2,17304.6,17276.3,17206.65,17092.2,17063.25,16247.95,16658.4,16793.9,16605.95,16498.05,16245.35,15863.15,16013.45,16345.35,16594.9,16630.45,16871.3,16663.0,16975.35,17287.05,17117.6,17315.5,17245.65,17222.75,17153.0,17222.0,17325.3,17498.25,17464.75,17670.45,18053.4,17957.4,17807.65,17639.55,17784.35,17674.95,17530.3,17475.65,17173.65,16958.65,17136.55,17392.6,17171.95,16953.95,17200.8,17038.4,17245.05,17102.55,17069.1,16677.6,16682.65,16411.25,16301.85,16240.05,16167.1,15808.0,15782.15,15842.3,16259.3,16240.3,15809.4,16266.15,16214.7,16125.15,16025.8,16170.15,16352.45,16661.4,16584.55,16522.75,16628.0,16584.3,16569.55,16416.35,16356.25,16478.1,16201.8,15774.4,15732.1,15692.15,15360.6,15293.5,15350.15,15638.8,15413.3,15556.65,15699.25,15832.05,15850.2,15799.1,15780.25,15752.05,15835.35,15810.85,15989.8,16132.9,16220.6,16216.0,16058.3,15966.65,15938.65,16049.2,16278.5,16340.55,16520.85,16605.25,16719.45,16631.0,16483.85,16641.8,16929.6,17158.25,17340.05,17345.45,17388.15,17382.0,17397.5,17525.1,17534.75,17659.0,17698.15,17825.25,17944.25,17956.5,17758.45,17490.7,17577.5,17604.95,17522.45,17558.9,17312.9,17759.3,17542.8,17539.45,17665.8,17655.6,17624.4,17798.75,17833.35,17936.35,18070.05,18003.75,17877.4,17530.85,17622.25,17816.25,17718.35,17629.8,17327.35,17016.3,17007.4,16858.6,16818.1,17094.35,16887.35,17274.3,17331.8,17314.65,17241.0,16983.55,17123.6,17014.35,17185.7,17311.8,17486.95,17512.25,17563.95,17576.3,17730.75,17656.35,17736.95,17786.8,18012.2,18145.4,18082.85,18052.7,18117.15,18202.8,18157.0,18028.2,18349.7,18329.15,18403.4,18409.65,18343.9,18307.65,18159.95,18244.2,18267.25,18484.1,18512.75,18562.75,18618.05,18758.35,18812.5,18696.1,18701.05,18642.75,18560.5,18609.35,18496.6,18497.15,18608.0,18660.3,18414.9,18269.0,18420.45,18385.3,18199.1,18127.35,17806.8,18014.6,18132.3,18122.5,18191.0,18105.3,18197.45,18232.55,18042.95,17992.15,17859.45,18101.2,17914.15,17895.7,17858.2,17956.6,17894.85,18053.3,18165.35,18107.85,18027.65,18118.55,18118.3,17891.95,17604.35,17648.95,17662.15,17616.3,17610.4,17854.05,17764.6,17721.5,17871.7,17893.45,17856.5,17770.9,17929.85,18015.85,18035.85,17944.2,17844.6,17826.7,17554.3,17511.25,17465.8,17392.7,17303.95,17450.9,17321.9,17594.35,17711.45,17754.4,17589.6,17412.9,17154.3,17043.3,16972.15,16985.6,17100.05,16988.4,17107.5,17151.9,17076.9,16945.05,16985.7,16951.7,17080.7,17359.75,17398.05,17557.05,17599.15,17624.05,17722.3,17812.4,17828.0,17706.85,17660.15,17618.75,17624.45,17624.05,17743.4,17769.25,17813.6,17915.05,18065.0,18147.65,18089.85,18255.8,18069.0,18264.4,18265.95,18315.1,18297.0,18314.8,18398.85,18286.5,18181.75,18129.95,18203.4,18314.4,18348.0,18285.4,18321.15,18499.35,18598.65,18633.85,18534.4,18487.75,18534.1,18593.85,18599.0,18726.4,18634.55,18563.4,18601.5,18716.15,18755.9,18688.1,18826.0,18755.45,18816.7,18856.85,18771.25,18665.5,18691.2,18817.4,18972.1,19189.05,19322.55,19389.0,19398.5,19497.3,19331.8,19355.9,19439.4,19384.3,19413.75,19564.5,19711.45,19749.25,19833.15,19979.15,19745.0,19672.35,19680.6,19778.3,19659.9,19646.05,19753.8,19733.55,19526.55,19381.65,19517.0,19597.3,19570.85,19632.55,19543.1,19428.3,19434.55,19465.0,19365.25,19310.15,19393.6,19396.45,19444.0,19386.7,19265.8,19306.05,19342.65,19347.45,19253.8,19435.3,19528.8,19574.9,19611.05,19727.05,19819.95,19996.35,19993.2,20070.0,20103.1,20192.35,20133.3,19901.4,19742.35,19674.25,19674.55,19664.7,19716.45,19523.55,19638.3,19528.75,19436.1,19545.75,19653.5,19512.35,19689.85,19811.35,19794.0,19751.05,19731.75,19811.5,19671.1,19624.7,19542.65,19281.75,19122.15,18857.25,19047.25,19140.9,19079.6,18989.15,19133.25,19230.6,19411.75,19406.7,19443.5,19395.3,19425.35,19443.55,19675.45,19765.2,19731.8,19694.0,19783.4,19811.85,19802.0,19794.7,19889.7,20096.6,20133.15,20267.9,20686.8,20855.1,20937.7,20901.15,20969.4,20997.1,20906.4,20926.35,21182.7,21456.65,21418.65,21453.1,21150.15,21255.05,21349.4,21441.35,21654.75,21778.7,21731.4,21741.9,21665.8,21517.35,21658.6,21710.8,21513.0,21544.85,21618.7,21647.2,21894.55,22097.45,22032.3,21571.95,21462.25,21622.4,21238.8,21453.95,21352.6,21737.6,21522.1,21725.7,21697.45,21853.8,21771.7,21929.4,21930.5,21717.95,21782.5,21616.05,21743.25,21840.05,21910.75,22040.7,22122.25,22196.95,22055.05,22217.45,22212.7,22122.05,22198.35,21951.15,21982.8,22338.75,22405.6,22356.3,22474.05,22493.55,22332.65,22335.7,21997.7,22146.65,22023.35,22055.7,21817.45,21839.1,22011.95,22096.75,22004.7,22123.65,22326.9,22462.0,22453.3,22434.65,22514.65,22513.7,22666.3,22642.75,22753.8,22519.4,22272.5,22147.9,21995.85,22147.0,22336.4,22368.0,22402.4,22570.35,22419.95,22643.4,22604.85,22648.2,22475.85,22442.7,22302.5,22302.5,21957.5,22055.2,22104.05,22217.85,22200.55,22403.85,22466.1,22529.05,22597.8,22967.65,22957.1,22932.45,22888.15,22704.7,22488.65,22530.7,23263.9,21884.5,22620.35,22821.4,23290.15,23259.2,23264.85,23322.95,23398.9,23465.6,23557.9,23516.0,23567.0,23501.1,23537.85,23721.3,23868.8,24044.5,24010.6,24141.95,24123.85,24286.5,24302.15,24323.85,24320.55,24433.2,24324.45,24315.95,24502.15,24586.7,24613.0,24800.85,24530.9,24509.25,24479.05,24413.5,24406.1,24834.85,24836.1,24857.3,24951.15,25010.9,24717.7,24055.6,23992.55,24297.5,24117.0,24367.5,24347.0,24139.0,24143.75,24541.15,24572.65,24698.85,24770.2,24811.5,24823.15,25010.6,25017.75,25052.35,25151.95,25235.9,25278.7,25279.85,25198.7,25145.1,24852.15,24936.4,25041.1,24918.45,25388.9,25356.5,25383.75,25418.55,25377.55,25415.8,25702.3],\"yaxis\":\"y\",\"type\":\"scattergl\"}],                        {\"template\":{\"data\":{\"histogram2dcontour\":[{\"type\":\"histogram2dcontour\",\"colorbar\":{\"outlinewidth\":0,\"ticks\":\"\"},\"colorscale\":[[0.0,\"#0d0887\"],[0.1111111111111111,\"#46039f\"],[0.2222222222222222,\"#7201a8\"],[0.3333333333333333,\"#9c179e\"],[0.4444444444444444,\"#bd3786\"],[0.5555555555555556,\"#d8576b\"],[0.6666666666666666,\"#ed7953\"],[0.7777777777777778,\"#fb9f3a\"],[0.8888888888888888,\"#fdca26\"],[1.0,\"#f0f921\"]]}],\"choropleth\":[{\"type\":\"choropleth\",\"colorbar\":{\"outlinewidth\":0,\"ticks\":\"\"}}],\"histogram2d\":[{\"type\":\"histogram2d\",\"colorbar\":{\"outlinewidth\":0,\"ticks\":\"\"},\"colorscale\":[[0.0,\"#0d0887\"],[0.1111111111111111,\"#46039f\"],[0.2222222222222222,\"#7201a8\"],[0.3333333333333333,\"#9c179e\"],[0.4444444444444444,\"#bd3786\"],[0.5555555555555556,\"#d8576b\"],[0.6666666666666666,\"#ed7953\"],[0.7777777777777778,\"#fb9f3a\"],[0.8888888888888888,\"#fdca26\"],[1.0,\"#f0f921\"]]}],\"heatmap\":[{\"type\":\"heatmap\",\"colorbar\":{\"outlinewidth\":0,\"ticks\":\"\"},\"colorscale\":[[0.0,\"#0d0887\"],[0.1111111111111111,\"#46039f\"],[0.2222222222222222,\"#7201a8\"],[0.3333333333333333,\"#9c179e\"],[0.4444444444444444,\"#bd3786\"],[0.5555555555555556,\"#d8576b\"],[0.6666666666666666,\"#ed7953\"],[0.7777777777777778,\"#fb9f3a\"],[0.8888888888888888,\"#fdca26\"],[1.0,\"#f0f921\"]]}],\"heatmapgl\":[{\"type\":\"heatmapgl\",\"colorbar\":{\"outlinewidth\":0,\"ticks\":\"\"},\"colorscale\":[[0.0,\"#0d0887\"],[0.1111111111111111,\"#46039f\"],[0.2222222222222222,\"#7201a8\"],[0.3333333333333333,\"#9c179e\"],[0.4444444444444444,\"#bd3786\"],[0.5555555555555556,\"#d8576b\"],[0.6666666666666666,\"#ed7953\"],[0.7777777777777778,\"#fb9f3a\"],[0.8888888888888888,\"#fdca26\"],[1.0,\"#f0f921\"]]}],\"contourcarpet\":[{\"type\":\"contourcarpet\",\"colorbar\":{\"outlinewidth\":0,\"ticks\":\"\"}}],\"contour\":[{\"type\":\"contour\",\"colorbar\":{\"outlinewidth\":0,\"ticks\":\"\"},\"colorscale\":[[0.0,\"#0d0887\"],[0.1111111111111111,\"#46039f\"],[0.2222222222222222,\"#7201a8\"],[0.3333333333333333,\"#9c179e\"],[0.4444444444444444,\"#bd3786\"],[0.5555555555555556,\"#d8576b\"],[0.6666666666666666,\"#ed7953\"],[0.7777777777777778,\"#fb9f3a\"],[0.8888888888888888,\"#fdca26\"],[1.0,\"#f0f921\"]]}],\"surface\":[{\"type\":\"surface\",\"colorbar\":{\"outlinewidth\":0,\"ticks\":\"\"},\"colorscale\":[[0.0,\"#0d0887\"],[0.1111111111111111,\"#46039f\"],[0.2222222222222222,\"#7201a8\"],[0.3333333333333333,\"#9c179e\"],[0.4444444444444444,\"#bd3786\"],[0.5555555555555556,\"#d8576b\"],[0.6666666666666666,\"#ed7953\"],[0.7777777777777778,\"#fb9f3a\"],[0.8888888888888888,\"#fdca26\"],[1.0,\"#f0f921\"]]}],\"mesh3d\":[{\"type\":\"mesh3d\",\"colorbar\":{\"outlinewidth\":0,\"ticks\":\"\"}}],\"scatter\":[{\"fillpattern\":{\"fillmode\":\"overlay\",\"size\":10,\"solidity\":0.2},\"type\":\"scatter\"}],\"parcoords\":[{\"type\":\"parcoords\",\"line\":{\"colorbar\":{\"outlinewidth\":0,\"ticks\":\"\"}}}],\"scatterpolargl\":[{\"type\":\"scatterpolargl\",\"marker\":{\"colorbar\":{\"outlinewidth\":0,\"ticks\":\"\"}}}],\"bar\":[{\"error_x\":{\"color\":\"#2a3f5f\"},\"error_y\":{\"color\":\"#2a3f5f\"},\"marker\":{\"line\":{\"color\":\"#E5ECF6\",\"width\":0.5},\"pattern\":{\"fillmode\":\"overlay\",\"size\":10,\"solidity\":0.2}},\"type\":\"bar\"}],\"scattergeo\":[{\"type\":\"scattergeo\",\"marker\":{\"colorbar\":{\"outlinewidth\":0,\"ticks\":\"\"}}}],\"scatterpolar\":[{\"type\":\"scatterpolar\",\"marker\":{\"colorbar\":{\"outlinewidth\":0,\"ticks\":\"\"}}}],\"histogram\":[{\"marker\":{\"pattern\":{\"fillmode\":\"overlay\",\"size\":10,\"solidity\":0.2}},\"type\":\"histogram\"}],\"scattergl\":[{\"type\":\"scattergl\",\"marker\":{\"colorbar\":{\"outlinewidth\":0,\"ticks\":\"\"}}}],\"scatter3d\":[{\"type\":\"scatter3d\",\"line\":{\"colorbar\":{\"outlinewidth\":0,\"ticks\":\"\"}},\"marker\":{\"colorbar\":{\"outlinewidth\":0,\"ticks\":\"\"}}}],\"scattermapbox\":[{\"type\":\"scattermapbox\",\"marker\":{\"colorbar\":{\"outlinewidth\":0,\"ticks\":\"\"}}}],\"scatterternary\":[{\"type\":\"scatterternary\",\"marker\":{\"colorbar\":{\"outlinewidth\":0,\"ticks\":\"\"}}}],\"scattercarpet\":[{\"type\":\"scattercarpet\",\"marker\":{\"colorbar\":{\"outlinewidth\":0,\"ticks\":\"\"}}}],\"carpet\":[{\"aaxis\":{\"endlinecolor\":\"#2a3f5f\",\"gridcolor\":\"white\",\"linecolor\":\"white\",\"minorgridcolor\":\"white\",\"startlinecolor\":\"#2a3f5f\"},\"baxis\":{\"endlinecolor\":\"#2a3f5f\",\"gridcolor\":\"white\",\"linecolor\":\"white\",\"minorgridcolor\":\"white\",\"startlinecolor\":\"#2a3f5f\"},\"type\":\"carpet\"}],\"table\":[{\"cells\":{\"fill\":{\"color\":\"#EBF0F8\"},\"line\":{\"color\":\"white\"}},\"header\":{\"fill\":{\"color\":\"#C8D4E3\"},\"line\":{\"color\":\"white\"}},\"type\":\"table\"}],\"barpolar\":[{\"marker\":{\"line\":{\"color\":\"#E5ECF6\",\"width\":0.5},\"pattern\":{\"fillmode\":\"overlay\",\"size\":10,\"solidity\":0.2}},\"type\":\"barpolar\"}],\"pie\":[{\"automargin\":true,\"type\":\"pie\"}]},\"layout\":{\"autotypenumbers\":\"strict\",\"colorway\":[\"#636efa\",\"#EF553B\",\"#00cc96\",\"#ab63fa\",\"#FFA15A\",\"#19d3f3\",\"#FF6692\",\"#B6E880\",\"#FF97FF\",\"#FECB52\"],\"font\":{\"color\":\"#2a3f5f\"},\"hovermode\":\"closest\",\"hoverlabel\":{\"align\":\"left\"},\"paper_bgcolor\":\"white\",\"plot_bgcolor\":\"#E5ECF6\",\"polar\":{\"bgcolor\":\"#E5ECF6\",\"angularaxis\":{\"gridcolor\":\"white\",\"linecolor\":\"white\",\"ticks\":\"\"},\"radialaxis\":{\"gridcolor\":\"white\",\"linecolor\":\"white\",\"ticks\":\"\"}},\"ternary\":{\"bgcolor\":\"#E5ECF6\",\"aaxis\":{\"gridcolor\":\"white\",\"linecolor\":\"white\",\"ticks\":\"\"},\"baxis\":{\"gridcolor\":\"white\",\"linecolor\":\"white\",\"ticks\":\"\"},\"caxis\":{\"gridcolor\":\"white\",\"linecolor\":\"white\",\"ticks\":\"\"}},\"coloraxis\":{\"colorbar\":{\"outlinewidth\":0,\"ticks\":\"\"}},\"colorscale\":{\"sequential\":[[0.0,\"#0d0887\"],[0.1111111111111111,\"#46039f\"],[0.2222222222222222,\"#7201a8\"],[0.3333333333333333,\"#9c179e\"],[0.4444444444444444,\"#bd3786\"],[0.5555555555555556,\"#d8576b\"],[0.6666666666666666,\"#ed7953\"],[0.7777777777777778,\"#fb9f3a\"],[0.8888888888888888,\"#fdca26\"],[1.0,\"#f0f921\"]],\"sequentialminus\":[[0.0,\"#0d0887\"],[0.1111111111111111,\"#46039f\"],[0.2222222222222222,\"#7201a8\"],[0.3333333333333333,\"#9c179e\"],[0.4444444444444444,\"#bd3786\"],[0.5555555555555556,\"#d8576b\"],[0.6666666666666666,\"#ed7953\"],[0.7777777777777778,\"#fb9f3a\"],[0.8888888888888888,\"#fdca26\"],[1.0,\"#f0f921\"]],\"diverging\":[[0,\"#8e0152\"],[0.1,\"#c51b7d\"],[0.2,\"#de77ae\"],[0.3,\"#f1b6da\"],[0.4,\"#fde0ef\"],[0.5,\"#f7f7f7\"],[0.6,\"#e6f5d0\"],[0.7,\"#b8e186\"],[0.8,\"#7fbc41\"],[0.9,\"#4d9221\"],[1,\"#276419\"]]},\"xaxis\":{\"gridcolor\":\"white\",\"linecolor\":\"white\",\"ticks\":\"\",\"title\":{\"standoff\":15},\"zerolinecolor\":\"white\",\"automargin\":true,\"zerolinewidth\":2},\"yaxis\":{\"gridcolor\":\"white\",\"linecolor\":\"white\",\"ticks\":\"\",\"title\":{\"standoff\":15},\"zerolinecolor\":\"white\",\"automargin\":true,\"zerolinewidth\":2},\"scene\":{\"xaxis\":{\"backgroundcolor\":\"#E5ECF6\",\"gridcolor\":\"white\",\"linecolor\":\"white\",\"showbackground\":true,\"ticks\":\"\",\"zerolinecolor\":\"white\",\"gridwidth\":2},\"yaxis\":{\"backgroundcolor\":\"#E5ECF6\",\"gridcolor\":\"white\",\"linecolor\":\"white\",\"showbackground\":true,\"ticks\":\"\",\"zerolinecolor\":\"white\",\"gridwidth\":2},\"zaxis\":{\"backgroundcolor\":\"#E5ECF6\",\"gridcolor\":\"white\",\"linecolor\":\"white\",\"showbackground\":true,\"ticks\":\"\",\"zerolinecolor\":\"white\",\"gridwidth\":2}},\"shapedefaults\":{\"line\":{\"color\":\"#2a3f5f\"}},\"annotationdefaults\":{\"arrowcolor\":\"#2a3f5f\",\"arrowhead\":0,\"arrowwidth\":1},\"geo\":{\"bgcolor\":\"white\",\"landcolor\":\"#E5ECF6\",\"subunitcolor\":\"white\",\"showland\":true,\"showlakes\":true,\"lakecolor\":\"white\"},\"title\":{\"x\":0.05},\"mapbox\":{\"style\":\"light\"}}},\"xaxis\":{\"anchor\":\"y\",\"domain\":[0.0,1.0],\"title\":{\"text\":\"Date\"}},\"yaxis\":{\"anchor\":\"x\",\"domain\":[0.0,1.0],\"title\":{\"text\":\"Close\"}},\"legend\":{\"tracegroupgap\":0},\"margin\":{\"t\":60}},                        {\"responsive\": true}                    ).then(function(){\n",
              "                            \n",
              "var gd = document.getElementById('1ba2def4-de9f-4fce-a556-2682384a2c29');\n",
              "var x = new MutationObserver(function (mutations, observer) {{\n",
              "        var display = window.getComputedStyle(gd).display;\n",
              "        if (!display || display === 'none') {{\n",
              "            console.log([gd, 'removed!']);\n",
              "            Plotly.purge(gd);\n",
              "            observer.disconnect();\n",
              "        }}\n",
              "}});\n",
              "\n",
              "// Listen for the removal of the full notebook cells\n",
              "var notebookContainer = gd.closest('#notebook-container');\n",
              "if (notebookContainer) {{\n",
              "    x.observe(notebookContainer, {childList: true});\n",
              "}}\n",
              "\n",
              "// Listen for the clearing of the current output cell\n",
              "var outputEl = gd.closest('.output');\n",
              "if (outputEl) {{\n",
              "    x.observe(outputEl, {childList: true});\n",
              "}}\n",
              "\n",
              "                        })                };                            </script>        </div>\n",
              "</body>\n",
              "</html>"
            ]
          },
          "metadata": {}
        }
      ],
      "source": [
        "display_line_chart(data)"
      ]
    },
    {
      "cell_type": "markdown",
      "metadata": {
        "id": "3IXlZT5WU4wZ"
      },
      "source": [
        "### Candlestick Chart\n",
        "A candlestick chart visually represents the stock's open, high, low, and close prices for each time period. It is commonly used in technical analysis to detect patterns and trends in market behavior."
      ]
    },
    {
      "cell_type": "code",
      "execution_count": 12,
      "metadata": {
        "id": "NaEFeOy8Vfjw"
      },
      "outputs": [],
      "source": [
        "def display_candlestick_chart(data):\n",
        "  candlestick_data = go.Candlestick(x=data.index,\n",
        "                                  open=data['Open'],\n",
        "                                  high=data['High'],\n",
        "                                  low=data['Low'],\n",
        "                                  close=data['Close'])\n",
        "  fig = go.Figure(data=[candlestick_data])\n",
        "  fig.show()"
      ]
    },
    {
      "cell_type": "code",
      "execution_count": 13,
      "metadata": {
        "colab": {
          "base_uri": "https://localhost:8080/",
          "height": 542
        },
        "id": "bW5q69dUV0Vz",
        "outputId": "66dd1a5d-d264-49e7-a581-414dcfefde9a"
      },
      "outputs": [
        {
          "output_type": "display_data",
          "data": {
            "text/html": [
              "<html>\n",
              "<head><meta charset=\"utf-8\" /></head>\n",
              "<body>\n",
              "    <div>            <script src=\"https://cdnjs.cloudflare.com/ajax/libs/mathjax/2.7.5/MathJax.js?config=TeX-AMS-MML_SVG\"></script><script type=\"text/javascript\">if (window.MathJax && window.MathJax.Hub && window.MathJax.Hub.Config) {window.MathJax.Hub.Config({SVG: {font: \"STIX-Web\"}});}</script>                <script type=\"text/javascript\">window.PlotlyConfig = {MathJaxConfig: 'local'};</script>\n",
              "        <script charset=\"utf-8\" src=\"https://cdn.plot.ly/plotly-2.24.1.min.js\"></script>                <div id=\"c800534b-7d33-409f-a04c-c4fe59e5c7c5\" class=\"plotly-graph-div\" style=\"height:525px; width:100%;\"></div>            <script type=\"text/javascript\">                                    window.PLOTLYENV=window.PLOTLYENV || {};                                    if (document.getElementById(\"c800534b-7d33-409f-a04c-c4fe59e5c7c5\")) {                    Plotly.newPlot(                        \"c800534b-7d33-409f-a04c-c4fe59e5c7c5\",                        [{\"close\":[11274.2,11600.2,11588.2,11440.2,11571.2,11512.4,11474.45,11359.9,11314.0,11174.75,11126.4,11313.3,11234.55,11305.05,11341.15,11428.3,11464.0,11586.35,11661.85,11588.35,11604.1,11582.6,11583.9,11786.85,11844.1,11877.45,11890.6,11941.3,11917.2,11966.05,12012.05,11908.15,11913.45,11840.45,11872.1,11895.45,11884.5,11940.1,11999.1,11968.4,11914.4,12073.75,12037.7,12100.7,12151.15,12056.05,12048.2,11994.2,12043.2,12018.4,11921.5,11937.5,11856.8,11910.15,11971.8,12086.7,12053.95,12165.0,12221.65,12259.7,12271.8,12262.75,12214.55,12126.55,12245.8,12255.85,12168.45,12182.5,12282.2,12226.65,11993.05,12052.95,12025.35,12215.9,12256.8,12329.55,12362.3,12343.3,12355.5,12352.35,12224.55,12169.85,12106.9,12180.35,12248.25,12119.0,12055.8,12129.5,12035.8,11962.1,11707.9,11979.65,12089.15,12137.95,12098.35,12031.5,12107.9,12201.2,12174.65,12113.45,12045.8,11992.5,12125.9,12080.85,11829.4,11797.9,11678.5,11633.3,11201.75,11132.75,11303.3,11251.0,11269.0,10989.45,10451.45,10458.4,9590.15,9955.2,9197.4,8967.05,8468.8,8263.45,8745.45,7610.25,7801.05,8317.85,8641.45,8660.25,8281.1,8597.75,8253.8,8083.8,8792.2,8748.75,9111.9,8993.85,8925.3,8992.8,9266.75,9261.85,8981.45,9187.3,9313.9,9154.4,9282.3,9380.9,9553.35,9859.9,9293.5,9205.6,9270.9,9199.05,9251.5,9239.2,9196.55,9383.55,9142.75,9136.85,8823.25,8879.1,9066.55,9106.25,9039.25,9029.05,9314.95,9490.1,9580.3,9826.15,9979.1,10061.55,10029.1,10142.15,10167.45,10046.65,10116.15,9902.0,9972.9,9813.7,9914.0,9881.15,10091.65,10244.4,10311.2,10471.0,10305.3,10288.9,10383.0,10312.4,10302.1,10430.05,10551.7,10607.35,10763.65,10799.65,10705.75,10813.45,10768.05,10802.7,10607.35,10618.2,10739.95,10901.7,11022.2,11162.25,11132.6,11215.45,11194.15,11131.8,11300.55,11202.85,11102.15,11073.45,10891.6,11095.25,11101.65,11200.15,11214.05,11270.15,11322.5,11308.4,11300.45,11178.4,11247.1,11385.35,11408.4,11312.2,11371.6,11466.45,11472.25,11549.6,11559.25,11647.6,11387.5,11470.25,11535.0,11527.45,11333.85,11355.05,11317.35,11278.0,11449.25,11464.45,11440.05,11521.8,11604.55,11516.1,11504.95,11250.55,11153.65,11131.85,10805.55,11050.25,11227.55,11222.4,11247.55,11416.95,11503.35,11662.4,11738.85,11834.6,11914.2,11930.95,11934.5,11971.05,11680.35,11762.45,11873.05,11896.8,11937.65,11896.45,11930.35,11767.75,11889.4,11729.6,11670.8,11642.4,11669.15,11813.5,11908.5,12120.3,12263.55,12461.05,12631.1,12749.15,12690.8,12719.95,12874.2,12938.25,12771.7,12859.05,12926.45,13055.15,12858.4,12987.0,12968.95,13109.05,13113.75,13133.9,13258.55,13355.75,13392.95,13529.1,13478.3,13513.85,13558.15,13567.85,13682.7,13740.7,13760.55,13328.4,13466.3,13601.1,13749.25,13873.2,13932.6,13981.95,13981.75,14018.5,14132.9,14199.5,14146.25,14137.35,14347.25,14484.75,14563.45,14564.85,14595.6,14433.7,14281.3,14521.15,14644.7,14590.35,14371.9,14238.9,13967.5,13817.55,13634.6,14281.2,14647.85,14789.95,14895.65,14924.25,15115.8,15109.3,15106.5,15173.3,15163.3,15314.7,15313.45,15208.9,15118.95,14981.75,14675.7,14707.8,14982.0,15097.35,14529.15,14761.55,14919.1,15245.6,15080.75,14938.1,14956.2,15098.4,15174.8,15030.95,14929.5,14910.45,14721.3,14557.85,14744.0,14736.4,14814.75,14549.4,14324.9,14507.3,14845.1,14690.7,14867.35,14637.8,14683.5,14819.05,14873.8,14834.85,14310.8,14504.8,14581.45,14617.85,14359.45,14296.4,14406.15,14341.35,14485.0,14653.05,14864.55,14894.9,14631.1,14634.15,14496.5,14617.85,14724.8,14823.15,14942.35,14850.75,14696.5,14677.8,14923.15,15108.1,15030.15,14906.05,15175.3,15197.7,15208.45,15301.45,15337.85,15435.65,15582.8,15574.85,15576.2,15690.35,15670.25,15751.65,15740.1,15635.35,15737.75,15799.35,15811.85,15869.25,15767.55,15691.4,15683.35,15746.5,15772.75,15686.95,15790.45,15860.35,15814.7,15748.45,15721.5,15680.0,15722.2,15834.35,15818.25,15879.65,15727.9,15689.8,15692.6,15812.35,15853.95,15924.2,15923.4,15752.4,15632.1,15824.05,15856.05,15824.45,15746.45,15709.4,15778.45,15763.05,15885.15,16130.75,16258.8,16294.6,16238.2,16258.25,16280.1,16282.25,16364.4,16529.1,16563.05,16614.6,16568.85,16450.5,16496.45,16624.6,16634.65,16636.9,16705.2,16931.05,17132.2,17076.25,17234.15,17323.6,17377.8,17362.1,17353.5,17369.25,17355.3,17380.0,17519.45,17629.5,17585.15,17396.9,17562.0,17546.65,17822.95,17853.2,17855.1,17748.6,17711.3,17618.15,17532.05,17691.25,17822.3,17646.0,17790.35,17895.2,17945.95,17991.95,18161.75,18338.55,18477.05,18418.75,18266.6,18178.1,18114.9,18125.4,18268.4,18210.95,17857.25,17671.65,17929.65,17888.95,17829.2,17916.8,18068.55,18044.25,18017.2,17873.6,18102.75,18109.45,17999.2,17898.65,17764.8,17416.55,17503.35,17415.05,17536.25,17026.45,17053.95,16983.2,17166.9,17401.65,17196.7,16912.25,17176.7,17469.75,17516.85,17511.3,17368.25,17324.9,17221.4,17248.4,16985.2,16614.2,16770.85,16955.45,17072.6,17003.75,17086.25,17233.25,17213.6,17203.95,17354.05,17625.7,17805.25,17925.25,17745.9,17812.7,18003.3,18055.75,18212.35,18257.8,18255.75,18308.1,18113.05,17938.4,17757.0,17617.15,17149.1,17277.95,17110.15,17101.95,17339.85,17576.85,17780.0,17560.2,17516.3,17213.6,17266.75,17463.8,17605.85,17374.75,16842.8,17352.45,17322.2,17304.6,17276.3,17206.65,17092.2,17063.25,16247.95,16658.4,16793.9,16605.95,16498.05,16245.35,15863.15,16013.45,16345.35,16594.9,16630.45,16871.3,16663.0,16975.35,17287.05,17117.6,17315.5,17245.65,17222.75,17153.0,17222.0,17325.3,17498.25,17464.75,17670.45,18053.4,17957.4,17807.65,17639.55,17784.35,17674.95,17530.3,17475.65,17173.65,16958.65,17136.55,17392.6,17171.95,16953.95,17200.8,17038.4,17245.05,17102.55,17069.1,16677.6,16682.65,16411.25,16301.85,16240.05,16167.1,15808.0,15782.15,15842.3,16259.3,16240.3,15809.4,16266.15,16214.7,16125.15,16025.8,16170.15,16352.45,16661.4,16584.55,16522.75,16628.0,16584.3,16569.55,16416.35,16356.25,16478.1,16201.8,15774.4,15732.1,15692.15,15360.6,15293.5,15350.15,15638.8,15413.3,15556.65,15699.25,15832.05,15850.2,15799.1,15780.25,15752.05,15835.35,15810.85,15989.8,16132.9,16220.6,16216.0,16058.3,15966.65,15938.65,16049.2,16278.5,16340.55,16520.85,16605.25,16719.45,16631.0,16483.85,16641.8,16929.6,17158.25,17340.05,17345.45,17388.15,17382.0,17397.5,17525.1,17534.75,17659.0,17698.15,17825.25,17944.25,17956.5,17758.45,17490.7,17577.5,17604.95,17522.45,17558.9,17312.9,17759.3,17542.8,17539.45,17665.8,17655.6,17624.4,17798.75,17833.35,17936.35,18070.05,18003.75,17877.4,17530.85,17622.25,17816.25,17718.35,17629.8,17327.35,17016.3,17007.4,16858.6,16818.1,17094.35,16887.35,17274.3,17331.8,17314.65,17241.0,16983.55,17123.6,17014.35,17185.7,17311.8,17486.95,17512.25,17563.95,17576.3,17730.75,17656.35,17736.95,17786.8,18012.2,18145.4,18082.85,18052.7,18117.15,18202.8,18157.0,18028.2,18349.7,18329.15,18403.4,18409.65,18343.9,18307.65,18159.95,18244.2,18267.25,18484.1,18512.75,18562.75,18618.05,18758.35,18812.5,18696.1,18701.05,18642.75,18560.5,18609.35,18496.6,18497.15,18608.0,18660.3,18414.9,18269.0,18420.45,18385.3,18199.1,18127.35,17806.8,18014.6,18132.3,18122.5,18191.0,18105.3,18197.45,18232.55,18042.95,17992.15,17859.45,18101.2,17914.15,17895.7,17858.2,17956.6,17894.85,18053.3,18165.35,18107.85,18027.65,18118.55,18118.3,17891.95,17604.35,17648.95,17662.15,17616.3,17610.4,17854.05,17764.6,17721.5,17871.7,17893.45,17856.5,17770.9,17929.85,18015.85,18035.85,17944.2,17844.6,17826.7,17554.3,17511.25,17465.8,17392.7,17303.95,17450.9,17321.9,17594.35,17711.45,17754.4,17589.6,17412.9,17154.3,17043.3,16972.15,16985.6,17100.05,16988.4,17107.5,17151.9,17076.9,16945.05,16985.7,16951.7,17080.7,17359.75,17398.05,17557.05,17599.15,17624.05,17722.3,17812.4,17828.0,17706.85,17660.15,17618.75,17624.45,17624.05,17743.4,17769.25,17813.6,17915.05,18065.0,18147.65,18089.85,18255.8,18069.0,18264.4,18265.95,18315.1,18297.0,18314.8,18398.85,18286.5,18181.75,18129.95,18203.4,18314.4,18348.0,18285.4,18321.15,18499.35,18598.65,18633.85,18534.4,18487.75,18534.1,18593.85,18599.0,18726.4,18634.55,18563.4,18601.5,18716.15,18755.9,18688.1,18826.0,18755.45,18816.7,18856.85,18771.25,18665.5,18691.2,18817.4,18972.1,19189.05,19322.55,19389.0,19398.5,19497.3,19331.8,19355.9,19439.4,19384.3,19413.75,19564.5,19711.45,19749.25,19833.15,19979.15,19745.0,19672.35,19680.6,19778.3,19659.9,19646.05,19753.8,19733.55,19526.55,19381.65,19517.0,19597.3,19570.85,19632.55,19543.1,19428.3,19434.55,19465.0,19365.25,19310.15,19393.6,19396.45,19444.0,19386.7,19265.8,19306.05,19342.65,19347.45,19253.8,19435.3,19528.8,19574.9,19611.05,19727.05,19819.95,19996.35,19993.2,20070.0,20103.1,20192.35,20133.3,19901.4,19742.35,19674.25,19674.55,19664.7,19716.45,19523.55,19638.3,19528.75,19436.1,19545.75,19653.5,19512.35,19689.85,19811.35,19794.0,19751.05,19731.75,19811.5,19671.1,19624.7,19542.65,19281.75,19122.15,18857.25,19047.25,19140.9,19079.6,18989.15,19133.25,19230.6,19411.75,19406.7,19443.5,19395.3,19425.35,19443.55,19675.45,19765.2,19731.8,19694.0,19783.4,19811.85,19802.0,19794.7,19889.7,20096.6,20133.15,20267.9,20686.8,20855.1,20937.7,20901.15,20969.4,20997.1,20906.4,20926.35,21182.7,21456.65,21418.65,21453.1,21150.15,21255.05,21349.4,21441.35,21654.75,21778.7,21731.4,21741.9,21665.8,21517.35,21658.6,21710.8,21513.0,21544.85,21618.7,21647.2,21894.55,22097.45,22032.3,21571.95,21462.25,21622.4,21238.8,21453.95,21352.6,21737.6,21522.1,21725.7,21697.45,21853.8,21771.7,21929.4,21930.5,21717.95,21782.5,21616.05,21743.25,21840.05,21910.75,22040.7,22122.25,22196.95,22055.05,22217.45,22212.7,22122.05,22198.35,21951.15,21982.8,22338.75,22405.6,22356.3,22474.05,22493.55,22332.65,22335.7,21997.7,22146.65,22023.35,22055.7,21817.45,21839.1,22011.95,22096.75,22004.7,22123.65,22326.9,22462.0,22453.3,22434.65,22514.65,22513.7,22666.3,22642.75,22753.8,22519.4,22272.5,22147.9,21995.85,22147.0,22336.4,22368.0,22402.4,22570.35,22419.95,22643.4,22604.85,22648.2,22475.85,22442.7,22302.5,22302.5,21957.5,22055.2,22104.05,22217.85,22200.55,22403.85,22466.1,22529.05,22597.8,22967.65,22957.1,22932.45,22888.15,22704.7,22488.65,22530.7,23263.9,21884.5,22620.35,22821.4,23290.15,23259.2,23264.85,23322.95,23398.9,23465.6,23557.9,23516.0,23567.0,23501.1,23537.85,23721.3,23868.8,24044.5,24010.6,24141.95,24123.85,24286.5,24302.15,24323.85,24320.55,24433.2,24324.45,24315.95,24502.15,24586.7,24613.0,24800.85,24530.9,24509.25,24479.05,24413.5,24406.1,24834.85,24836.1,24857.3,24951.15,25010.9,24717.7,24055.6,23992.55,24297.5,24117.0,24367.5,24347.0,24139.0,24143.75,24541.15,24572.65,24698.85,24770.2,24811.5,24823.15,25010.6,25017.75,25052.35,25151.95,25235.9,25278.7,25279.85,25198.7,25145.1,24852.15,24936.4,25041.1,24918.45,25388.9,25356.5,25383.75,25418.55,25377.55,25415.8,25702.3],\"high\":[11381.9,11694.85,11655.05,11564.95,11610.85,11593.6,11508.25,11554.2,11370.4,11400.3,11233.85,11321.6,11293.35,11362.9,11420.45,11462.35,11481.05,11599.1,11684.7,11714.35,11651.6,11679.6,11646.9,11809.4,11883.95,11945.0,11918.3,11989.15,11978.95,12002.9,12021.4,12034.15,11932.65,11946.8,11895.65,11973.65,11946.2,11958.85,12038.6,12028.2,11968.1,12084.5,12132.45,12114.9,12158.8,12147.4,12137.15,12068.6,12054.7,12081.2,12057.05,11981.95,11953.2,11923.2,12005.5,12098.85,12134.65,12182.75,12237.7,12268.35,12293.9,12287.15,12283.7,12221.55,12258.45,12286.45,12247.1,12222.2,12289.9,12265.6,12179.1,12152.15,12044.95,12224.05,12311.2,12337.75,12374.25,12355.15,12389.05,12385.45,12430.5,12230.05,12225.05,12189.0,12272.15,12216.6,12163.55,12169.6,12150.3,12103.55,11749.85,11986.15,12098.15,12160.6,12154.7,12103.55,12172.3,12231.75,12225.65,12246.7,12159.6,12030.75,12134.7,12152.0,12012.55,11883.05,11783.25,11663.85,11384.8,11433.0,11342.25,11356.6,11389.5,11035.1,10751.55,10545.1,10040.75,10159.4,9602.2,9403.8,9127.55,8575.45,8883.0,8159.25,8036.95,8376.75,8749.05,9038.9,8576.0,8678.3,8588.1,8356.55,8819.4,9131.7,9128.35,9112.05,9261.2,9053.75,9324.0,9390.85,9044.4,9209.75,9343.6,9296.9,9377.1,9404.4,9599.85,9889.05,9533.5,9450.9,9346.9,9277.85,9382.65,9439.9,9240.85,9584.5,9281.1,9182.4,9158.3,9030.35,9093.8,9178.55,9149.6,9161.65,9334.0,9511.25,9598.85,9931.6,9995.6,10176.2,10123.85,10177.8,10328.5,10291.15,10148.75,10112.05,9996.05,9943.35,10046.15,10003.6,10111.2,10272.4,10393.65,10484.7,10553.15,10361.8,10409.85,10337.95,10401.05,10447.05,10598.2,10631.3,10811.4,10813.8,10847.85,10836.85,10819.4,10894.05,10755.65,10827.45,10755.3,10933.45,11037.9,11179.55,11238.1,11239.8,11225.4,11225.0,11317.75,11341.4,11299.95,11150.4,11058.05,11112.25,11225.65,11256.8,11231.9,11337.3,11373.6,11322.0,11359.3,11366.25,11267.1,11401.7,11460.35,11361.45,11418.5,11497.25,11525.9,11561.75,11617.35,11686.05,11794.25,11553.55,11554.75,11584.95,11452.05,11381.15,11437.25,11298.15,11464.05,11493.5,11568.9,11535.95,11618.1,11587.2,11584.1,11535.25,11302.2,11259.55,11015.3,11072.6,11239.35,11305.4,11295.4,11428.6,11578.05,11680.3,11763.05,11905.7,11938.6,12022.05,11988.2,11997.2,12025.45,11789.75,11898.25,11949.25,12018.65,11939.55,11974.55,11942.85,11899.05,11929.4,11744.15,11748.95,11725.65,11836.2,11929.65,12131.1,12280.4,12474.05,12643.9,12769.75,12741.15,12735.95,12934.05,12948.85,12963.0,12892.45,12968.85,13079.1,13145.85,13018.0,13035.3,13128.4,13128.5,13216.6,13280.05,13366.65,13435.45,13548.9,13503.55,13579.35,13597.5,13589.65,13692.35,13773.25,13772.85,13777.5,13492.05,13619.45,13771.75,13885.3,13967.6,13997.0,14024.85,14049.85,14147.95,14215.6,14244.15,14256.25,14367.3,14498.2,14590.65,14653.35,14617.8,14617.45,14459.15,14546.05,14666.45,14753.55,14619.9,14491.1,14237.95,13898.25,13966.85,14336.35,14731.7,14868.85,14913.7,15014.65,15159.9,15257.1,15168.25,15188.5,15243.5,15340.15,15431.75,15314.3,15250.75,15144.05,15010.1,14854.5,15008.8,15176.5,14919.45,14806.8,14959.1,15273.15,15202.35,15092.35,15111.15,15126.85,15218.45,15336.3,15048.4,15051.6,14956.55,14875.2,14788.25,14763.9,14878.6,14752.35,14575.6,14572.9,14876.3,14813.75,14883.2,14849.85,14779.1,14879.8,14984.15,14918.45,14652.5,14528.9,14597.55,14697.7,14382.3,14526.95,14424.75,14461.15,14557.5,14667.55,14890.25,15044.35,14855.45,14673.85,14723.4,14637.9,14743.9,14863.05,14966.9,14900.0,14824.05,14749.65,14938.0,15137.25,15133.4,15069.8,15190.0,15256.25,15293.85,15319.9,15384.55,15469.65,15606.35,15660.75,15597.45,15705.1,15733.6,15773.45,15778.8,15800.45,15751.25,15835.55,15823.05,15901.6,15880.85,15769.35,15761.5,15765.15,15895.75,15862.95,15821.4,15870.8,15915.65,15835.9,15839.1,15755.55,15738.35,15845.95,15914.2,15893.55,15885.75,15730.85,15789.2,15820.8,15877.35,15952.35,15962.25,15836.9,15728.45,15834.8,15899.8,15893.35,15881.55,15767.5,15817.35,15862.8,15892.9,16146.9,16290.2,16349.45,16336.75,16320.75,16359.25,16338.75,16375.5,16543.6,16589.4,16628.55,16701.85,16509.55,16592.5,16647.1,16712.45,16683.7,16722.05,16951.5,17153.5,17225.75,17245.5,17340.1,17429.55,17436.5,17383.4,17379.65,17378.35,17438.55,17532.7,17644.6,17792.95,17622.75,17578.35,17610.45,17843.9,17947.65,17943.5,17912.85,17781.75,17742.15,17557.15,17750.9,17833.45,17884.6,17857.55,17941.85,18041.95,18008.65,18197.8,18350.75,18543.15,18604.45,18458.3,18384.2,18314.25,18241.4,18310.45,18342.05,18190.7,17915.85,17954.1,18012.25,17988.75,17947.55,18087.8,18112.6,18061.25,17971.35,18123.0,18210.15,18132.65,18022.65,17945.6,17805.25,17553.7,17600.6,17564.35,17355.4,17160.7,17324.65,17213.05,17420.35,17489.8,17216.75,17251.65,17484.6,17543.25,17534.35,17639.5,17376.2,17351.2,17379.35,17298.15,16840.1,16936.4,16971.0,17118.65,17155.6,17112.05,17250.25,17285.95,17264.05,17400.8,17646.65,17827.6,17944.7,17797.95,17905.0,18017.45,18081.25,18227.95,18272.25,18286.95,18321.55,18350.95,18129.2,17943.7,17707.6,17599.4,17309.15,17182.5,17373.5,17410.0,17622.4,17794.6,17781.15,17617.8,17536.75,17306.45,17477.15,17639.45,17454.75,17099.5,17375.0,17490.6,17442.9,17380.8,17351.05,17148.55,17220.7,16705.25,16748.8,16815.9,16678.5,16768.95,16456.0,15944.6,16028.75,16418.05,16757.3,16694.4,16887.95,16927.75,16987.9,17344.6,17353.35,17334.4,17442.4,17291.75,17294.9,17235.1,17343.65,17522.5,17559.8,17703.7,18114.65,18095.45,17901.0,17787.5,17842.75,17779.05,17595.3,17663.65,17237.75,17275.65,17186.9,17414.7,17315.3,17054.3,17223.85,17110.7,17322.5,17377.65,17092.25,17132.85,16945.7,16484.2,16403.7,16404.55,16318.75,16041.95,16083.6,15977.95,16284.25,16399.8,15984.75,16283.05,16414.7,16262.8,16223.35,16204.45,16370.6,16695.5,16690.75,16649.2,16646.4,16793.85,16610.95,16487.25,16514.3,16492.8,16324.7,15886.15,15858.0,15783.65,15863.15,15400.4,15382.5,15707.25,15565.4,15628.45,15749.25,15927.45,15892.1,15861.6,15890.0,15793.95,15852.35,16025.75,16011.35,16150.5,16275.5,16248.55,16158.75,16140.0,16070.85,16066.95,16287.95,16359.5,16588.0,16626.95,16752.25,16706.05,16636.1,16653.45,16947.65,17172.8,17356.25,17390.15,17407.5,17490.7,17474.4,17548.8,17566.1,17719.3,17724.65,17839.1,17965.95,17968.45,17992.2,17690.05,17625.55,17623.65,17726.5,17685.85,17380.15,17777.65,17695.6,17643.85,17683.15,17764.65,17650.75,17807.65,17925.95,17980.55,18088.3,18091.55,18096.15,17820.05,17667.2,17919.3,17838.7,17722.75,17642.15,17196.4,17176.45,17037.6,17026.05,17187.1,17114.65,17287.3,17428.8,17337.35,17280.15,17261.8,17142.35,17112.35,17348.55,17328.55,17527.8,17607.6,17584.15,17670.15,17777.55,17811.5,17783.9,17838.9,18022.8,18175.8,18178.75,18106.3,18135.1,18255.5,18296.4,18103.1,18362.3,18399.45,18427.95,18442.15,18417.6,18394.6,18262.3,18261.85,18325.4,18529.7,18534.9,18614.25,18678.1,18816.05,18887.6,18781.95,18728.6,18654.9,18668.3,18625.0,18664.7,18521.55,18617.25,18696.1,18652.9,18440.95,18431.65,18404.9,18473.35,18318.75,18050.45,18084.1,18149.25,18173.1,18229.7,18265.25,18215.15,18251.95,18243.0,18120.3,18047.4,18141.4,18127.6,17976.35,17945.8,17999.35,18049.65,18072.05,18183.75,18155.2,18145.45,18162.6,18201.25,18100.6,17884.75,17709.15,17735.7,17972.2,17653.9,17870.3,17823.7,17811.15,17898.7,17916.9,17876.95,17880.7,17954.55,18034.1,18134.75,18034.25,18004.35,17924.9,17772.5,17620.05,17599.75,17451.6,17440.45,17467.75,17445.8,17644.75,17799.95,17766.5,17772.35,17451.5,17529.9,17224.65,17211.35,17062.45,17145.8,17066.6,17127.7,17207.25,17205.4,17109.45,17091.0,17061.75,17126.15,17381.6,17428.05,17570.55,17638.7,17694.1,17748.75,17825.75,17842.15,17863.0,17766.6,17666.15,17684.45,17663.2,17754.5,17807.45,17827.75,17931.6,18089.15,18180.25,18116.35,18267.45,18216.95,18286.95,18344.2,18326.75,18389.7,18342.75,18458.9,18432.35,18309.0,18297.2,18218.1,18335.25,18419.75,18392.6,18338.1,18508.55,18641.2,18662.45,18603.9,18580.3,18573.7,18640.15,18622.75,18738.95,18777.9,18676.65,18633.6,18728.9,18769.7,18794.1,18864.7,18881.45,18839.7,18875.9,18886.6,18756.4,18722.05,18829.25,19011.25,19201.7,19345.1,19434.15,19421.6,19512.2,19523.6,19435.85,19515.1,19507.7,19567.0,19595.35,19731.85,19819.45,19851.7,19991.85,19887.4,19782.75,19729.35,19825.6,19867.55,19695.9,19772.75,19795.6,19678.25,19537.65,19538.85,19620.45,19634.4,19645.5,19623.6,19557.75,19465.85,19482.75,19461.55,19373.8,19425.95,19443.5,19472.05,19584.45,19339.55,19366.85,19377.9,19452.8,19388.2,19458.55,19545.15,19587.05,19636.45,19737.0,19867.15,20008.15,20110.35,20096.9,20167.65,20222.45,20195.35,20050.65,19848.75,19798.65,19734.15,19699.35,19730.7,19766.65,19726.25,19623.2,19457.8,19576.95,19675.75,19588.95,19717.8,19839.2,19843.3,19805.4,19781.3,19849.75,19840.95,19681.8,19593.8,19556.85,19347.3,19041.7,19076.15,19158.5,19233.7,19096.05,19175.25,19276.25,19423.0,19423.5,19464.4,19463.9,19451.3,19494.4,19693.2,19875.25,19806.0,19756.45,19829.1,19825.55,19875.15,19832.85,19916.85,20104.65,20158.7,20291.55,20702.65,20864.05,20961.95,20941.25,21006.1,21026.1,21037.9,20950.0,21210.9,21492.3,21482.8,21505.05,21593.0,21288.35,21390.5,21477.15,21675.75,21801.45,21770.3,21834.35,21755.6,21677.0,21685.65,21749.6,21763.95,21724.45,21641.85,21726.5,21928.25,22115.55,22124.15,21851.5,21539.4,21670.6,21750.25,21482.35,21459.0,21763.25,21813.05,21741.35,21832.95,22126.8,21964.3,21951.4,22053.3,22011.05,21804.45,21831.7,21766.8,21870.85,21953.85,22068.65,22186.65,22215.6,22249.4,22252.5,22297.5,22202.15,22218.25,22229.15,22060.55,22353.3,22440.9,22416.9,22497.2,22525.65,22526.6,22452.55,22446.75,22204.6,22120.9,22123.7,21978.3,21930.9,22080.95,22180.7,22073.2,22193.6,22516.0,22529.95,22497.6,22521.1,22619.0,22537.6,22697.3,22768.4,22775.7,22726.45,22427.45,22213.75,22326.5,22179.55,22375.65,22447.55,22476.45,22625.95,22620.4,22655.8,22783.35,22710.5,22794.7,22588.8,22499.05,22368.65,22307.75,22131.3,22131.65,22270.05,22297.55,22432.25,22502.15,22591.1,22629.5,22993.6,23026.4,23110.8,22998.55,22825.5,22705.75,22653.75,23338.7,23179.5,22670.4,22910.15,23320.2,23411.9,23389.45,23441.95,23481.05,23490.4,23579.05,23664.0,23624.0,23667.1,23558.1,23754.15,23889.9,24087.45,24174.0,24164.0,24236.35,24309.15,24401.0,24363.0,24344.6,24443.6,24461.05,24402.65,24592.2,24635.05,24661.25,24837.75,24854.8,24595.2,24582.55,24504.25,24426.15,24861.15,24999.75,24971.75,24984.6,25078.3,24851.9,24350.05,24382.6,24337.7,24340.5,24419.75,24472.8,24359.95,24196.5,24563.9,24638.8,24734.3,24787.95,24867.35,24858.4,25043.8,25073.1,25129.6,25192.9,25268.35,25333.65,25321.7,25216.0,25275.45,25168.75,24957.5,25130.5,25113.7,25433.35,25430.5,25445.7,25441.65,25482.2,25611.95,25726.65],\"low\":[10691.0,11471.35,11539.2,11416.1,11466.35,11499.75,11390.8,11247.9,11257.35,11158.35,11112.65,11090.15,11208.55,11189.4,11290.05,11342.1,11411.1,11439.65,11553.15,11573.65,11554.4,11534.65,11490.75,11627.35,11784.45,11855.1,11843.35,11905.35,11861.9,11850.25,11946.85,11888.75,11853.95,11823.2,11802.65,11879.25,11867.6,11881.75,11966.05,11956.9,11883.5,11919.75,12006.35,12055.15,12099.95,12017.4,12023.7,11956.4,11935.3,11998.75,11888.85,11888.05,11844.7,11832.3,11934.0,12023.6,12046.3,12070.35,12163.45,12191.15,12252.75,12213.25,12202.1,12118.85,12157.9,12213.8,12151.8,12165.3,12195.25,12191.35,11974.2,12005.35,11929.6,12132.55,12213.2,12285.8,12308.7,12278.75,12315.8,12321.4,12216.9,12162.3,12087.9,12094.1,12149.65,12107.0,12024.5,12103.8,12010.6,11945.85,11614.5,11783.4,11953.35,12084.65,12073.95,11990.75,12099.0,12144.3,12139.8,12091.2,12037.0,11908.05,12042.1,12071.45,11813.4,11779.9,11639.6,11536.7,11175.05,11036.25,11152.55,11082.15,11244.6,10827.4,10294.45,10334.0,9508.0,8555.15,9165.1,8915.6,8407.05,7832.55,8178.2,7583.6,7511.1,7714.75,8304.9,8522.9,8244.0,8358.0,8198.35,8055.8,8360.95,8653.9,8904.55,8912.4,8874.1,8821.9,9091.35,9230.8,8909.4,8946.25,9170.15,9141.3,9250.35,9260.0,9392.35,9731.5,9266.95,9190.75,9116.5,9175.9,9238.2,9219.95,9043.95,9351.1,9119.75,9050.0,8806.75,8855.3,8875.35,9056.1,8968.55,8996.65,9004.25,9336.5,9376.9,9706.95,9824.05,10035.55,9944.25,10040.75,10120.25,10021.45,10036.85,9885.05,9544.35,9726.35,9728.5,9833.8,9845.05,10072.65,10277.6,10301.75,10281.95,10194.5,10311.25,10223.6,10267.35,10299.6,10485.55,10562.65,10695.1,10689.7,10676.55,10733.0,10713.0,10756.05,10562.9,10577.75,10595.2,10749.65,10953.0,11113.25,11056.55,11103.15,11090.3,11087.85,11151.4,11149.75,11084.95,11026.65,10882.25,10908.1,11064.05,11127.3,11142.05,11238.0,11299.15,11242.65,11269.95,11111.45,11144.5,11253.15,11394.1,11289.8,11362.2,11410.65,11423.35,11461.85,11540.6,11589.4,11325.85,11366.9,11430.4,11507.65,11303.65,11251.7,11290.45,11185.15,11327.4,11419.9,11383.55,11442.25,11516.75,11498.5,11446.1,11218.5,11084.65,11024.4,10790.2,10854.85,11099.85,11181.0,11184.55,11347.05,11452.3,11564.3,11629.35,11791.15,11805.2,11867.2,11888.9,11822.15,11661.3,11667.85,11820.4,11837.25,11775.75,11823.45,11908.75,11711.7,11723.0,11684.85,11606.45,11535.45,11557.4,11723.3,11756.4,12027.6,12131.85,12367.35,12475.25,12571.1,12624.85,12607.7,12797.1,12819.35,12745.75,12730.25,12825.7,12978.0,12833.65,12790.4,12914.3,12962.8,12983.55,13107.9,13152.85,13241.95,13311.05,13449.6,13399.3,13402.85,13472.45,13447.05,13606.45,13673.55,13658.6,13131.45,13192.9,13432.2,13626.9,13811.55,13859.9,13864.95,13936.45,13991.35,13953.75,14048.15,14039.9,14123.1,14221.65,14383.1,14432.85,14435.7,14471.5,14357.85,14222.8,14350.85,14517.55,14517.25,14357.75,14218.6,13929.3,13713.25,13596.75,13661.75,14469.15,14574.15,14714.75,14864.75,15041.05,15064.3,14977.2,15065.4,15081.0,15243.4,15242.2,15170.75,15078.05,14898.2,14635.05,14651.85,14504.5,15065.35,14467.75,14638.55,14760.8,14995.8,14980.2,14862.1,14919.9,14925.45,15100.85,14953.6,14745.85,14890.65,14696.05,14478.6,14350.1,14597.85,14707.0,14535.0,14264.4,14414.25,14617.6,14670.25,14692.45,14459.5,14573.9,14649.85,14821.1,14785.65,14248.7,14274.9,14353.2,14559.0,14191.4,14207.3,14151.4,14273.3,14421.3,14484.85,14694.95,14814.45,14601.7,14416.25,14461.5,14506.6,14611.5,14765.5,14892.5,14771.4,14649.7,14591.9,14725.35,15043.7,15008.85,14884.9,14985.85,15145.45,15163.4,15194.95,15272.5,15394.75,15374.0,15528.3,15459.85,15611.0,15622.35,15678.1,15680.0,15566.9,15648.5,15749.8,15606.5,15842.4,15742.6,15616.75,15450.9,15505.65,15752.1,15673.95,15702.7,15772.3,15792.15,15724.05,15708.75,15667.05,15635.95,15762.05,15801.0,15779.7,15682.9,15632.75,15644.75,15744.6,15764.2,15855.0,15882.6,15707.5,15578.55,15726.4,15768.4,15797.0,15701.0,15513.45,15737.8,15744.85,15834.65,15914.35,16176.15,16210.3,16223.3,16179.05,16202.25,16162.55,16286.9,16376.3,16480.75,16495.4,16535.85,16376.05,16395.7,16495.3,16617.5,16603.4,16565.6,16764.85,16915.85,17055.05,17059.7,17212.2,17345.55,17287.0,17254.2,17302.7,17269.15,17367.05,17386.9,17510.45,17537.65,17361.8,17326.1,17524.0,17646.55,17819.4,17802.9,17576.1,17608.15,17585.35,17452.9,17581.35,17640.9,17613.15,17763.8,17840.35,17839.1,17864.95,18050.75,18248.7,18445.3,18377.7,18209.35,18048.0,18034.35,17968.5,18099.3,18167.9,17799.45,17613.1,17697.1,17847.6,17757.95,17900.6,17836.1,17983.05,17915.0,17798.2,17905.9,18071.3,17958.8,17879.25,17688.5,17280.45,17216.1,17354.0,17351.7,16985.7,16782.4,16931.4,17064.25,17149.3,17180.8,16891.7,16987.75,17308.95,17379.6,17405.25,17355.95,17225.8,17192.2,17184.95,16966.45,16410.2,16688.25,16819.5,17015.55,16909.6,16833.2,17161.15,17176.65,17146.35,17238.5,17383.3,17593.55,17748.85,17655.55,17704.55,17879.15,17964.4,18128.8,18163.8,18119.65,18228.75,18085.9,17884.9,17648.45,17485.85,16997.85,16836.8,16866.75,17077.1,17264.15,17244.55,17674.8,17511.15,17462.55,17119.4,17043.65,17339.0,17427.15,17303.0,16809.65,16839.25,17257.7,17235.85,17219.2,17070.7,16843.8,17027.85,16203.25,16478.3,16356.3,16478.65,16442.95,16133.8,15711.45,15671.45,15990.0,16447.9,16470.9,16606.5,16555.0,16837.85,17175.75,17096.4,17006.3,17199.6,17091.15,17076.55,17003.9,17235.7,17387.2,17435.2,17422.7,17791.4,17921.55,17779.85,17623.7,17600.55,17650.95,17442.35,17457.4,17067.85,16824.7,16978.95,17215.5,17149.2,16888.7,17064.45,16958.45,17071.05,17053.25,16917.25,16623.95,16651.85,16340.9,16142.1,16197.3,15992.6,15735.75,15740.85,15739.65,15900.8,16211.2,15775.2,16003.85,16185.75,16078.6,16006.95,15903.7,16221.95,16506.15,16521.9,16438.85,16443.05,16567.9,16444.55,16347.1,16293.35,16243.85,16172.6,15684.0,15659.45,15678.9,15335.1,15183.4,15191.1,15419.85,15385.95,15367.5,15619.45,15815.5,15710.15,15687.8,15728.85,15511.05,15661.8,15785.45,15800.9,16045.95,16157.9,16115.5,16031.15,15950.15,15858.2,15927.3,16142.2,16187.05,16490.95,16483.9,16610.9,16564.25,16463.3,16438.75,16746.25,17018.15,17154.8,17215.85,17225.85,17161.25,17348.75,17359.75,17442.8,17631.95,17597.85,17764.05,17833.35,17852.05,17710.75,17467.35,17345.2,17499.25,17487.45,17519.35,17166.2,17401.5,17468.45,17476.45,17540.35,17587.65,17484.3,17691.95,17786.0,17889.15,18015.45,17771.15,17861.5,17497.25,17429.7,17744.4,17663.6,17532.45,17291.65,16978.3,16942.35,16820.4,16788.6,16747.7,16855.55,17117.3,17315.65,17216.95,17064.7,16950.3,16960.05,16956.95,17169.75,17098.55,17434.05,17472.85,17421.0,17520.75,17707.4,17637.0,17654.5,17723.7,17899.9,18060.15,18048.65,17959.2,18017.15,18064.75,18117.5,17969.4,18259.35,18311.4,18282.0,18344.15,18312.95,18209.8,18133.35,18137.7,18246.0,18294.25,18445.1,18365.6,18552.15,18616.55,18778.2,18639.2,18591.35,18577.9,18528.4,18536.95,18410.1,18345.7,18490.2,18632.9,18387.7,18255.15,18244.55,18202.65,18162.75,18068.6,17779.5,17774.25,17967.45,18068.35,17992.8,18080.3,18086.5,18149.8,18020.6,17892.6,17795.55,17936.15,17856.0,17824.35,17761.65,17774.25,17853.65,17886.95,18032.45,18063.75,18016.2,18063.45,18078.65,17846.15,17493.55,17405.55,17537.55,17353.4,17445.95,17584.2,17698.35,17652.55,17744.15,17779.8,17801.0,17719.75,17800.05,17853.8,18000.65,17884.6,17818.4,17800.3,17529.45,17455.4,17421.8,17299.0,17255.2,17345.25,17306.0,17427.7,17671.95,17602.25,17573.6,17324.35,17113.45,16987.1,16938.9,16850.15,16958.15,16828.35,17016.0,17107.85,17045.3,16917.35,16918.55,16913.75,16940.6,17204.65,17312.75,17402.7,17502.85,17597.95,17655.15,17717.25,17729.65,17574.05,17610.2,17579.85,17584.35,17553.95,17612.5,17716.85,17711.2,17797.9,17885.3,18101.75,18042.4,18066.7,18055.45,18100.3,18229.65,18211.95,18270.4,18194.55,18287.9,18264.35,18115.35,18104.85,18060.4,18178.85,18324.2,18262.95,18202.4,18333.15,18581.25,18575.5,18483.85,18464.55,18478.4,18582.8,18531.6,18636.0,18615.6,18555.4,18559.75,18631.8,18690.0,18669.05,18710.5,18719.15,18660.65,18794.85,18759.5,18647.1,18646.7,18714.25,18861.35,19024.6,19234.4,19300.0,19339.6,19373.0,19303.6,19327.1,19406.45,19361.75,19385.8,19433.5,19562.95,19690.2,19727.45,19758.4,19700.0,19658.3,19615.95,19716.7,19603.55,19563.1,19597.6,19704.6,19423.55,19296.45,19436.45,19524.8,19533.1,19467.5,19495.4,19412.75,19257.9,19317.2,19326.25,19253.6,19296.3,19381.3,19366.6,19369.0,19229.7,19249.7,19309.1,19334.75,19223.65,19255.7,19432.85,19525.75,19491.5,19550.05,19727.05,19865.35,19914.65,19944.1,20043.45,20129.7,20115.7,19878.85,19709.95,19657.5,19601.55,19637.45,19554.0,19492.1,19551.05,19479.65,19333.6,19487.3,19589.4,19480.5,19565.45,19756.95,19772.65,19635.3,19691.85,19775.65,19659.95,19512.35,19518.7,19257.85,19074.15,18837.85,18926.65,18940.0,19056.45,18973.7,19064.15,19210.9,19309.7,19329.1,19401.5,19378.35,19329.45,19414.75,19579.65,19627.0,19667.45,19670.5,19754.05,19703.85,19786.75,19768.85,19800.0,19956.3,20015.85,20183.7,20507.75,20711.15,20852.15,20850.8,20862.7,20923.7,20867.15,20769.5,21074.45,21235.3,21365.35,21337.75,21087.35,20976.8,21232.45,21329.45,21495.8,21678.0,21676.9,21680.85,21555.65,21500.35,21564.55,21629.2,21492.9,21517.85,21448.65,21593.75,21715.15,21963.55,21969.8,21550.45,21285.55,21575.0,21192.6,21137.2,21247.05,21429.6,21501.8,21448.85,21658.75,21805.55,21726.95,21737.55,21860.15,21665.3,21629.9,21574.75,21543.35,21530.2,21794.8,21968.95,22021.05,22045.85,21997.95,21875.25,22186.1,22075.15,22085.65,21915.85,21860.65,22047.75,22358.3,22269.15,22224.35,22430.0,22307.25,22256.0,21905.65,21917.5,21931.7,21916.55,21793.1,21710.2,21941.3,21883.3,21947.55,22052.85,22163.6,22427.75,22388.15,22346.5,22303.8,22427.6,22550.35,22612.25,22673.7,22503.75,22259.55,22079.45,21961.7,21777.65,22198.15,22349.45,22384.0,22305.25,22385.55,22441.9,22568.4,22567.85,22348.05,22409.45,22232.05,22185.2,21932.4,21950.3,21821.05,22081.25,22151.75,22054.55,22345.65,22404.55,22483.15,22577.45,22908.0,22871.2,22858.5,22685.45,22417.0,22465.1,23062.3,21281.45,21791.95,22642.6,22789.05,23227.15,23206.65,23295.95,23353.9,23334.25,23499.7,23412.9,23442.6,23398.2,23350.0,23562.05,23670.45,23805.4,23985.8,23992.7,24056.4,24207.1,24281.0,24168.85,24240.55,24331.9,24141.8,24193.75,24331.15,24522.75,24587.65,24504.45,24508.15,24362.3,24074.2,24307.25,24210.8,24410.9,24774.6,24798.65,24856.5,24956.4,24686.85,23893.7,23960.4,24184.9,24079.7,24311.2,24212.1,24116.5,24099.7,24204.5,24522.95,24607.2,24654.5,24784.45,24771.65,24874.7,24973.65,24964.65,24998.5,25199.4,25235.5,25235.8,25083.8,25127.75,24801.3,24753.15,24896.8,24885.15,24941.45,25292.45,25336.2,25352.25,25285.55,25376.05,25426.6],\"open\":[10746.8,11542.7,11590.7,11564.85,11469.85,11556.35,11491.15,11515.4,11322.25,11388.45,11196.2,11152.95,11280.5,11257.7,11335.9,11360.85,11464.95,11466.3,11580.3,11657.15,11596.2,11661.65,11646.15,11643.95,11883.9,11890.45,11886.6,11928.9,11974.6,11911.5,12021.1,11987.15,11879.2,11908.3,11858.75,11904.2,11915.15,11919.45,12004.75,12025.65,11967.3,11922.45,12110.2,12068.5,12132.1,12146.2,12137.05,12067.65,11969.95,12071.25,12047.35,11939.1,11950.5,11867.35,11944.3,12026.4,12131.35,12082.45,12197.0,12223.4,12266.45,12235.45,12269.25,12211.85,12172.9,12274.9,12247.1,12202.15,12198.55,12261.1,12170.6,12079.1,11939.1,12153.15,12271.0,12296.7,12333.1,12349.4,12347.1,12328.4,12430.5,12195.3,12218.35,12123.75,12174.55,12197.1,12148.1,12114.9,12147.75,12100.4,11627.45,11786.25,12005.85,12120.0,12151.15,12102.35,12108.4,12151.0,12219.55,12190.15,12131.8,12028.25,12090.6,12119.0,12012.55,11877.5,11738.55,11661.25,11382.0,11387.35,11217.55,11351.35,11306.05,10942.65,10742.05,10334.3,10039.95,9107.6,9587.8,9285.4,9088.45,8063.3,8284.45,7945.7,7848.3,7735.15,8451.0,8949.1,8385.95,8529.35,8584.1,8356.55,8446.3,8688.9,8973.05,9103.95,9196.4,8851.25,9323.45,9390.2,9016.95,9026.75,9232.35,9163.9,9259.7,9389.8,9408.6,9753.5,9533.5,9429.4,9226.8,9234.05,9376.95,9348.15,9168.85,9584.2,9213.95,9182.4,9158.3,8961.7,8889.15,9079.45,9067.9,9099.75,9082.2,9364.95,9422.2,9726.85,9880.85,10108.3,10054.25,10093.8,10326.75,10181.15,10072.6,10094.1,9544.95,9919.35,10014.8,9876.7,9863.25,10119.0,10318.75,10347.95,10529.25,10235.55,10378.9,10311.95,10382.6,10323.8,10493.05,10614.95,10723.85,10802.85,10818.65,10755.55,10764.1,10851.85,10750.85,10701.0,10706.2,10752.0,10999.45,11126.1,11231.2,11135.0,11149.95,11225.0,11154.1,11276.9,11254.3,11139.5,11057.55,10946.65,11155.75,11185.7,11186.65,11270.25,11322.25,11289.0,11334.85,11353.3,11248.9,11259.8,11452.15,11317.45,11409.65,11412.0,11513.1,11512.85,11609.3,11602.95,11777.55,11464.3,11478.55,11566.2,11354.4,11359.6,11378.55,11218.6,11363.3,11447.8,11540.15,11487.2,11538.45,11539.4,11584.1,11503.8,11301.75,11258.75,11011.0,10910.4,11140.85,11288.6,11244.45,11364.45,11487.8,11603.45,11679.25,11835.4,11852.05,11973.55,11934.65,11917.4,12023.45,11727.4,11879.2,11861.0,11958.55,11890.0,11957.9,11937.4,11807.1,11922.6,11633.3,11678.45,11697.35,11734.45,11783.35,12062.4,12156.65,12399.4,12556.4,12680.6,12702.15,12659.7,12932.5,12860.1,12839.5,12813.4,12960.3,13002.6,13130.0,12906.45,13012.05,13062.2,13121.4,13215.3,13177.4,13264.85,13393.85,13458.1,13488.5,13512.3,13571.45,13547.2,13663.1,13713.55,13764.4,13741.9,13373.65,13473.5,13672.15,13815.15,13910.35,13980.9,13970.0,13996.1,14104.35,14075.15,14240.95,14253.75,14258.4,14474.05,14473.8,14639.8,14550.05,14594.35,14453.3,14371.65,14538.3,14730.95,14583.4,14477.8,14237.95,13810.4,13946.6,13758.6,14481.1,14754.9,14789.05,14952.6,15064.3,15164.15,15119.05,15073.25,15186.2,15270.3,15371.45,15279.9,15238.7,15074.8,14999.05,14782.25,14729.15,15079.85,14888.6,14702.5,14865.3,15064.4,15026.75,14977.95,15002.45,15049.9,15202.15,15321.15,15048.4,14996.1,14946.55,14855.5,14471.15,14736.3,14768.55,14712.45,14570.9,14506.3,14628.5,14811.85,14798.4,14837.7,14737.0,14716.45,14875.65,14882.65,14644.65,14364.9,14522.4,14599.6,14306.6,14526.7,14219.15,14326.35,14449.45,14493.8,14710.5,14979.0,14747.35,14481.05,14687.25,14604.15,14668.35,14816.85,14928.25,14789.7,14823.55,14749.4,14756.25,15067.2,15058.6,15042.6,14987.8,15211.35,15291.75,15257.05,15323.95,15421.2,15437.75,15629.65,15520.35,15655.55,15712.5,15725.1,15773.9,15766.3,15692.1,15796.45,15791.4,15866.95,15847.5,15648.3,15756.5,15525.85,15840.5,15862.8,15737.3,15839.35,15915.35,15807.5,15776.9,15755.05,15705.85,15793.4,15813.75,15819.6,15855.4,15688.25,15766.8,15794.0,15808.7,15872.15,15958.35,15754.5,15703.95,15736.6,15856.8,15849.3,15860.5,15761.55,15762.7,15800.6,15874.9,15951.55,16195.25,16288.95,16304.4,16281.35,16274.8,16327.3,16303.65,16385.7,16518.4,16545.25,16691.95,16382.5,16592.25,16561.4,16654.0,16627.95,16642.55,16775.85,16947.5,17185.6,17095.4,17262.45,17399.35,17401.55,17375.75,17312.85,17363.55,17420.35,17387.65,17539.2,17709.65,17443.85,17450.5,17580.9,17670.85,17897.45,17932.2,17906.45,17657.95,17718.9,17531.9,17615.55,17661.35,17861.5,17810.55,17886.85,17867.55,17915.8,18097.85,18272.85,18500.1,18602.35,18439.9,18382.7,18230.7,18229.5,18154.5,18295.85,18187.65,17833.05,17783.15,17970.9,17947.95,17935.05,18040.2,18084.35,17973.45,17967.45,17977.6,18140.95,18127.05,17939.35,17890.55,17796.25,17281.75,17550.05,17417.3,17338.75,17055.8,17051.15,17104.4,17183.2,17424.9,17209.05,17044.1,17315.25,17524.4,17476.05,17619.1,17283.2,17323.65,17373.0,17276.0,16824.25,16773.15,16865.55,17066.8,17149.5,16937.75,17177.6,17220.1,17201.45,17244.5,17387.15,17681.4,17820.1,17768.5,17797.6,17913.3,17997.75,18170.4,18257.0,18185.0,18235.65,18337.2,18129.2,17921.0,17613.7,17575.15,17001.55,17062.0,17208.3,17301.05,17529.45,17706.2,17767.75,17590.2,17456.3,17279.85,17370.1,17554.1,17451.0,17076.15,16933.25,17408.45,17396.55,17236.05,17192.25,16847.95,17194.5,16548.9,16515.65,16481.6,16593.1,16723.2,16339.45,15867.95,15747.75,16078.0,16757.1,16528.8,16633.7,16900.65,16876.65,17202.9,17329.5,17120.4,17405.05,17094.95,17289.0,17181.85,17297.2,17468.15,17519.2,17436.9,17809.1,18080.6,17842.75,17723.3,17698.15,17740.9,17584.85,17599.9,17183.45,17258.95,17045.25,17234.6,17242.75,17009.05,17121.3,17073.35,17189.5,17329.25,16924.45,17096.6,16854.75,16415.55,16227.7,16248.9,16270.05,16021.1,15977.0,15845.1,15912.6,16318.15,15917.4,16043.8,16290.95,16225.55,16196.35,16105.0,16296.6,16527.9,16578.45,16594.4,16481.65,16761.65,16530.7,16469.6,16474.95,16263.85,16283.95,15877.55,15674.25,15729.25,15832.25,15272.65,15334.5,15455.95,15545.65,15451.55,15657.4,15926.2,15757.45,15701.7,15774.5,15703.7,15710.5,15909.15,15818.2,16113.75,16273.65,16136.15,16126.2,16128.2,16018.85,16010.8,16151.4,16187.05,16562.8,16523.55,16661.25,16662.55,16632.9,16475.35,16774.85,17079.5,17243.2,17310.15,17349.25,17463.1,17423.65,17401.5,17566.1,17711.65,17659.65,17797.2,17868.15,17898.65,17966.55,17682.9,17357.35,17525.45,17679.0,17619.3,17188.65,17414.95,17485.7,17598.4,17546.45,17695.7,17519.4,17748.15,17923.35,17890.85,18044.45,17771.15,18046.35,17796.8,17540.65,17770.4,17766.35,17609.65,17593.85,17156.3,17110.9,16870.55,16993.6,16798.05,17102.1,17147.45,17379.25,17287.2,17094.35,17256.05,17025.55,17087.35,17322.3,17144.8,17438.75,17568.15,17423.1,17622.85,17736.35,17808.3,17771.4,17756.4,17910.2,18130.7,18177.9,17968.35,18053.4,18211.75,18288.25,18044.35,18272.35,18376.4,18362.75,18398.25,18358.7,18382.95,18246.4,18179.15,18325.2,18326.1,18528.45,18430.55,18552.45,18625.7,18871.95,18752.4,18719.55,18600.65,18638.85,18570.85,18662.4,18402.15,18524.4,18671.25,18614.4,18319.1,18288.1,18340.3,18435.15,18288.8,17977.65,17830.4,18089.8,18084.75,18045.7,18259.1,18131.7,18163.2,18230.65,18101.95,18008.05,17952.55,18121.3,17924.25,17920.85,17867.5,18033.15,17922.8,18074.3,18119.8,18115.6,18118.45,18183.95,18093.35,17877.2,17541.95,17731.45,17811.6,17517.1,17721.75,17818.55,17790.1,17750.3,17885.5,17847.55,17859.1,17840.35,17896.6,18094.75,17974.85,17965.55,17905.8,17755.35,17574.65,17591.35,17428.6,17383.25,17360.1,17421.5,17451.25,17680.35,17665.75,17772.05,17443.8,17421.9,17160.55,17166.45,16994.65,17111.8,17066.6,17060.4,17177.45,17097.4,17076.2,16984.3,17031.75,16977.3,17210.35,17427.95,17422.3,17533.85,17634.9,17704.8,17759.55,17807.3,17863.0,17766.6,17653.35,17638.6,17639.75,17707.55,17761.55,17767.3,17813.1,17950.4,18124.8,18113.8,18081.0,18117.3,18120.6,18303.4,18313.6,18357.8,18273.75,18339.3,18432.35,18300.45,18287.5,18186.15,18201.1,18362.9,18294.8,18268.9,18368.35,18619.15,18606.65,18594.2,18579.4,18550.85,18612.0,18600.8,18665.6,18725.35,18655.9,18595.05,18631.8,18744.6,18774.45,18723.3,18873.3,18752.35,18849.4,18853.6,18741.85,18682.35,18748.55,18908.15,19076.85,19246.5,19406.6,19405.95,19385.7,19422.8,19400.35,19427.1,19497.45,19495.2,19493.45,19612.15,19787.5,19802.95,19831.7,19800.45,19748.45,19729.35,19733.35,19850.9,19659.75,19666.35,19784.0,19655.4,19463.75,19462.8,19576.85,19627.2,19578.8,19605.55,19554.25,19383.95,19369.0,19450.55,19301.75,19320.65,19417.1,19439.2,19535.15,19297.4,19298.35,19374.85,19433.45,19375.55,19258.15,19525.05,19564.65,19581.2,19598.65,19774.8,19890.0,20110.15,19989.5,20127.95,20156.45,20155.95,19980.75,19840.55,19744.85,19678.2,19682.8,19637.05,19761.8,19581.2,19622.4,19446.3,19521.85,19621.2,19539.45,19565.6,19767.0,19822.7,19654.55,19737.25,19843.2,19820.45,19545.2,19542.15,19521.6,19286.45,19027.25,18928.75,19053.4,19232.95,19064.05,19120.0,19241.0,19345.85,19404.05,19449.6,19457.4,19351.85,19486.75,19651.4,19674.7,19674.75,19731.15,19770.9,19784.0,19828.45,19809.6,19844.65,19976.55,20108.5,20194.1,20601.95,20808.9,20950.75,20932.4,20934.1,20965.3,21018.55,20929.75,21110.4,21287.45,21434.8,21477.65,21543.5,21033.95,21295.85,21365.2,21497.65,21715.0,21737.65,21727.75,21751.35,21661.1,21605.8,21705.75,21747.6,21653.6,21529.3,21688.0,21773.55,22053.15,22080.5,21647.25,21414.2,21615.2,21716.7,21185.25,21454.6,21433.1,21775.75,21487.25,21780.65,21812.75,21921.05,21825.2,22045.05,22009.65,21727.0,21800.8,21664.3,21578.15,21906.55,22020.3,22103.45,22099.2,22248.85,22081.55,22290.0,22169.2,22090.2,22214.1,21935.2,22048.3,22403.5,22371.25,22327.5,22505.3,22517.5,22334.45,22432.2,21982.55,22064.85,21990.1,21946.45,21843.9,21989.9,21932.2,21947.9,22053.95,22163.6,22455.0,22458.8,22385.7,22592.1,22486.4,22578.35,22765.1,22720.25,22677.4,22339.05,22125.3,22212.35,21861.5,22336.9,22447.05,22421.55,22316.9,22620.4,22475.55,22679.65,22567.85,22766.35,22561.6,22489.75,22231.2,22224.8,21990.95,22027.95,22112.9,22255.6,22319.2,22415.25,22404.55,22576.6,22614.1,22930.75,23038.95,22977.15,22762.75,22617.45,22568.1,23337.9,23179.5,22128.35,22798.6,22821.85,23319.15,23283.75,23344.45,23480.95,23464.95,23570.8,23629.85,23586.15,23661.15,23382.3,23577.1,23723.1,23881.55,24085.9,23992.95,24228.75,24291.75,24369.95,24213.35,24329.45,24351.0,24459.85,24396.55,24387.95,24587.6,24615.9,24543.8,24853.8,24445.75,24568.9,24444.95,24230.95,24423.35,24943.3,24839.4,24886.7,25030.95,24789.0,24302.85,24189.85,24289.4,24248.55,24386.85,24320.05,24342.35,24184.4,24334.85,24636.35,24648.9,24680.55,24863.4,24845.4,24906.1,25024.8,25030.8,25035.3,25249.7,25333.6,25313.4,25089.95,25250.5,25093.7,24823.4,24999.4,25034.0,25059.65,25430.45,25406.65,25416.9,25402.4,25487.05,25525.95],\"x\":[\"2019-09-20T00:00:00+05:30\",\"2019-09-23T00:00:00+05:30\",\"2019-09-24T00:00:00+05:30\",\"2019-09-25T00:00:00+05:30\",\"2019-09-26T00:00:00+05:30\",\"2019-09-27T00:00:00+05:30\",\"2019-09-30T00:00:00+05:30\",\"2019-10-01T00:00:00+05:30\",\"2019-10-03T00:00:00+05:30\",\"2019-10-04T00:00:00+05:30\",\"2019-10-07T00:00:00+05:30\",\"2019-10-09T00:00:00+05:30\",\"2019-10-10T00:00:00+05:30\",\"2019-10-11T00:00:00+05:30\",\"2019-10-14T00:00:00+05:30\",\"2019-10-15T00:00:00+05:30\",\"2019-10-16T00:00:00+05:30\",\"2019-10-17T00:00:00+05:30\",\"2019-10-18T00:00:00+05:30\",\"2019-10-22T00:00:00+05:30\",\"2019-10-23T00:00:00+05:30\",\"2019-10-24T00:00:00+05:30\",\"2019-10-25T00:00:00+05:30\",\"2019-10-29T00:00:00+05:30\",\"2019-10-30T00:00:00+05:30\",\"2019-10-31T00:00:00+05:30\",\"2019-11-01T00:00:00+05:30\",\"2019-11-04T00:00:00+05:30\",\"2019-11-05T00:00:00+05:30\",\"2019-11-06T00:00:00+05:30\",\"2019-11-07T00:00:00+05:30\",\"2019-11-08T00:00:00+05:30\",\"2019-11-11T00:00:00+05:30\",\"2019-11-13T00:00:00+05:30\",\"2019-11-14T00:00:00+05:30\",\"2019-11-15T00:00:00+05:30\",\"2019-11-18T00:00:00+05:30\",\"2019-11-19T00:00:00+05:30\",\"2019-11-20T00:00:00+05:30\",\"2019-11-21T00:00:00+05:30\",\"2019-11-22T00:00:00+05:30\",\"2019-11-25T00:00:00+05:30\",\"2019-11-26T00:00:00+05:30\",\"2019-11-27T00:00:00+05:30\",\"2019-11-28T00:00:00+05:30\",\"2019-11-29T00:00:00+05:30\",\"2019-12-02T00:00:00+05:30\",\"2019-12-03T00:00:00+05:30\",\"2019-12-04T00:00:00+05:30\",\"2019-12-05T00:00:00+05:30\",\"2019-12-06T00:00:00+05:30\",\"2019-12-09T00:00:00+05:30\",\"2019-12-10T00:00:00+05:30\",\"2019-12-11T00:00:00+05:30\",\"2019-12-12T00:00:00+05:30\",\"2019-12-13T00:00:00+05:30\",\"2019-12-16T00:00:00+05:30\",\"2019-12-17T00:00:00+05:30\",\"2019-12-18T00:00:00+05:30\",\"2019-12-19T00:00:00+05:30\",\"2019-12-20T00:00:00+05:30\",\"2019-12-23T00:00:00+05:30\",\"2019-12-24T00:00:00+05:30\",\"2019-12-26T00:00:00+05:30\",\"2019-12-27T00:00:00+05:30\",\"2019-12-30T00:00:00+05:30\",\"2019-12-31T00:00:00+05:30\",\"2020-01-01T00:00:00+05:30\",\"2020-01-02T00:00:00+05:30\",\"2020-01-03T00:00:00+05:30\",\"2020-01-06T00:00:00+05:30\",\"2020-01-07T00:00:00+05:30\",\"2020-01-08T00:00:00+05:30\",\"2020-01-09T00:00:00+05:30\",\"2020-01-10T00:00:00+05:30\",\"2020-01-13T00:00:00+05:30\",\"2020-01-14T00:00:00+05:30\",\"2020-01-15T00:00:00+05:30\",\"2020-01-16T00:00:00+05:30\",\"2020-01-17T00:00:00+05:30\",\"2020-01-20T00:00:00+05:30\",\"2020-01-21T00:00:00+05:30\",\"2020-01-22T00:00:00+05:30\",\"2020-01-23T00:00:00+05:30\",\"2020-01-24T00:00:00+05:30\",\"2020-01-27T00:00:00+05:30\",\"2020-01-28T00:00:00+05:30\",\"2020-01-29T00:00:00+05:30\",\"2020-01-30T00:00:00+05:30\",\"2020-01-31T00:00:00+05:30\",\"2020-02-03T00:00:00+05:30\",\"2020-02-04T00:00:00+05:30\",\"2020-02-05T00:00:00+05:30\",\"2020-02-06T00:00:00+05:30\",\"2020-02-07T00:00:00+05:30\",\"2020-02-10T00:00:00+05:30\",\"2020-02-11T00:00:00+05:30\",\"2020-02-12T00:00:00+05:30\",\"2020-02-13T00:00:00+05:30\",\"2020-02-14T00:00:00+05:30\",\"2020-02-17T00:00:00+05:30\",\"2020-02-18T00:00:00+05:30\",\"2020-02-19T00:00:00+05:30\",\"2020-02-20T00:00:00+05:30\",\"2020-02-24T00:00:00+05:30\",\"2020-02-25T00:00:00+05:30\",\"2020-02-26T00:00:00+05:30\",\"2020-02-27T00:00:00+05:30\",\"2020-02-28T00:00:00+05:30\",\"2020-03-02T00:00:00+05:30\",\"2020-03-03T00:00:00+05:30\",\"2020-03-04T00:00:00+05:30\",\"2020-03-05T00:00:00+05:30\",\"2020-03-06T00:00:00+05:30\",\"2020-03-09T00:00:00+05:30\",\"2020-03-11T00:00:00+05:30\",\"2020-03-12T00:00:00+05:30\",\"2020-03-13T00:00:00+05:30\",\"2020-03-16T00:00:00+05:30\",\"2020-03-17T00:00:00+05:30\",\"2020-03-18T00:00:00+05:30\",\"2020-03-19T00:00:00+05:30\",\"2020-03-20T00:00:00+05:30\",\"2020-03-23T00:00:00+05:30\",\"2020-03-24T00:00:00+05:30\",\"2020-03-25T00:00:00+05:30\",\"2020-03-26T00:00:00+05:30\",\"2020-03-27T00:00:00+05:30\",\"2020-03-30T00:00:00+05:30\",\"2020-03-31T00:00:00+05:30\",\"2020-04-01T00:00:00+05:30\",\"2020-04-03T00:00:00+05:30\",\"2020-04-07T00:00:00+05:30\",\"2020-04-08T00:00:00+05:30\",\"2020-04-09T00:00:00+05:30\",\"2020-04-13T00:00:00+05:30\",\"2020-04-15T00:00:00+05:30\",\"2020-04-16T00:00:00+05:30\",\"2020-04-17T00:00:00+05:30\",\"2020-04-20T00:00:00+05:30\",\"2020-04-21T00:00:00+05:30\",\"2020-04-22T00:00:00+05:30\",\"2020-04-23T00:00:00+05:30\",\"2020-04-24T00:00:00+05:30\",\"2020-04-27T00:00:00+05:30\",\"2020-04-28T00:00:00+05:30\",\"2020-04-29T00:00:00+05:30\",\"2020-04-30T00:00:00+05:30\",\"2020-05-04T00:00:00+05:30\",\"2020-05-05T00:00:00+05:30\",\"2020-05-06T00:00:00+05:30\",\"2020-05-07T00:00:00+05:30\",\"2020-05-08T00:00:00+05:30\",\"2020-05-11T00:00:00+05:30\",\"2020-05-12T00:00:00+05:30\",\"2020-05-13T00:00:00+05:30\",\"2020-05-14T00:00:00+05:30\",\"2020-05-15T00:00:00+05:30\",\"2020-05-18T00:00:00+05:30\",\"2020-05-19T00:00:00+05:30\",\"2020-05-20T00:00:00+05:30\",\"2020-05-21T00:00:00+05:30\",\"2020-05-22T00:00:00+05:30\",\"2020-05-26T00:00:00+05:30\",\"2020-05-27T00:00:00+05:30\",\"2020-05-28T00:00:00+05:30\",\"2020-05-29T00:00:00+05:30\",\"2020-06-01T00:00:00+05:30\",\"2020-06-02T00:00:00+05:30\",\"2020-06-03T00:00:00+05:30\",\"2020-06-04T00:00:00+05:30\",\"2020-06-05T00:00:00+05:30\",\"2020-06-08T00:00:00+05:30\",\"2020-06-09T00:00:00+05:30\",\"2020-06-10T00:00:00+05:30\",\"2020-06-11T00:00:00+05:30\",\"2020-06-12T00:00:00+05:30\",\"2020-06-15T00:00:00+05:30\",\"2020-06-16T00:00:00+05:30\",\"2020-06-17T00:00:00+05:30\",\"2020-06-18T00:00:00+05:30\",\"2020-06-19T00:00:00+05:30\",\"2020-06-22T00:00:00+05:30\",\"2020-06-23T00:00:00+05:30\",\"2020-06-24T00:00:00+05:30\",\"2020-06-25T00:00:00+05:30\",\"2020-06-26T00:00:00+05:30\",\"2020-06-29T00:00:00+05:30\",\"2020-06-30T00:00:00+05:30\",\"2020-07-01T00:00:00+05:30\",\"2020-07-02T00:00:00+05:30\",\"2020-07-03T00:00:00+05:30\",\"2020-07-06T00:00:00+05:30\",\"2020-07-07T00:00:00+05:30\",\"2020-07-08T00:00:00+05:30\",\"2020-07-09T00:00:00+05:30\",\"2020-07-10T00:00:00+05:30\",\"2020-07-13T00:00:00+05:30\",\"2020-07-14T00:00:00+05:30\",\"2020-07-15T00:00:00+05:30\",\"2020-07-16T00:00:00+05:30\",\"2020-07-17T00:00:00+05:30\",\"2020-07-20T00:00:00+05:30\",\"2020-07-21T00:00:00+05:30\",\"2020-07-22T00:00:00+05:30\",\"2020-07-23T00:00:00+05:30\",\"2020-07-24T00:00:00+05:30\",\"2020-07-27T00:00:00+05:30\",\"2020-07-28T00:00:00+05:30\",\"2020-07-29T00:00:00+05:30\",\"2020-07-30T00:00:00+05:30\",\"2020-07-31T00:00:00+05:30\",\"2020-08-03T00:00:00+05:30\",\"2020-08-04T00:00:00+05:30\",\"2020-08-05T00:00:00+05:30\",\"2020-08-06T00:00:00+05:30\",\"2020-08-07T00:00:00+05:30\",\"2020-08-10T00:00:00+05:30\",\"2020-08-11T00:00:00+05:30\",\"2020-08-12T00:00:00+05:30\",\"2020-08-13T00:00:00+05:30\",\"2020-08-14T00:00:00+05:30\",\"2020-08-17T00:00:00+05:30\",\"2020-08-18T00:00:00+05:30\",\"2020-08-19T00:00:00+05:30\",\"2020-08-20T00:00:00+05:30\",\"2020-08-21T00:00:00+05:30\",\"2020-08-24T00:00:00+05:30\",\"2020-08-25T00:00:00+05:30\",\"2020-08-26T00:00:00+05:30\",\"2020-08-27T00:00:00+05:30\",\"2020-08-28T00:00:00+05:30\",\"2020-08-31T00:00:00+05:30\",\"2020-09-01T00:00:00+05:30\",\"2020-09-02T00:00:00+05:30\",\"2020-09-03T00:00:00+05:30\",\"2020-09-04T00:00:00+05:30\",\"2020-09-07T00:00:00+05:30\",\"2020-09-08T00:00:00+05:30\",\"2020-09-09T00:00:00+05:30\",\"2020-09-10T00:00:00+05:30\",\"2020-09-11T00:00:00+05:30\",\"2020-09-14T00:00:00+05:30\",\"2020-09-15T00:00:00+05:30\",\"2020-09-16T00:00:00+05:30\",\"2020-09-17T00:00:00+05:30\",\"2020-09-18T00:00:00+05:30\",\"2020-09-21T00:00:00+05:30\",\"2020-09-22T00:00:00+05:30\",\"2020-09-23T00:00:00+05:30\",\"2020-09-24T00:00:00+05:30\",\"2020-09-25T00:00:00+05:30\",\"2020-09-28T00:00:00+05:30\",\"2020-09-29T00:00:00+05:30\",\"2020-09-30T00:00:00+05:30\",\"2020-10-01T00:00:00+05:30\",\"2020-10-05T00:00:00+05:30\",\"2020-10-06T00:00:00+05:30\",\"2020-10-07T00:00:00+05:30\",\"2020-10-08T00:00:00+05:30\",\"2020-10-09T00:00:00+05:30\",\"2020-10-12T00:00:00+05:30\",\"2020-10-13T00:00:00+05:30\",\"2020-10-14T00:00:00+05:30\",\"2020-10-15T00:00:00+05:30\",\"2020-10-16T00:00:00+05:30\",\"2020-10-19T00:00:00+05:30\",\"2020-10-20T00:00:00+05:30\",\"2020-10-21T00:00:00+05:30\",\"2020-10-22T00:00:00+05:30\",\"2020-10-23T00:00:00+05:30\",\"2020-10-26T00:00:00+05:30\",\"2020-10-27T00:00:00+05:30\",\"2020-10-28T00:00:00+05:30\",\"2020-10-29T00:00:00+05:30\",\"2020-10-30T00:00:00+05:30\",\"2020-11-02T00:00:00+05:30\",\"2020-11-03T00:00:00+05:30\",\"2020-11-04T00:00:00+05:30\",\"2020-11-05T00:00:00+05:30\",\"2020-11-06T00:00:00+05:30\",\"2020-11-09T00:00:00+05:30\",\"2020-11-10T00:00:00+05:30\",\"2020-11-11T00:00:00+05:30\",\"2020-11-12T00:00:00+05:30\",\"2020-11-13T00:00:00+05:30\",\"2020-11-17T00:00:00+05:30\",\"2020-11-18T00:00:00+05:30\",\"2020-11-19T00:00:00+05:30\",\"2020-11-20T00:00:00+05:30\",\"2020-11-23T00:00:00+05:30\",\"2020-11-24T00:00:00+05:30\",\"2020-11-25T00:00:00+05:30\",\"2020-11-26T00:00:00+05:30\",\"2020-11-27T00:00:00+05:30\",\"2020-12-01T00:00:00+05:30\",\"2020-12-02T00:00:00+05:30\",\"2020-12-03T00:00:00+05:30\",\"2020-12-04T00:00:00+05:30\",\"2020-12-07T00:00:00+05:30\",\"2020-12-08T00:00:00+05:30\",\"2020-12-09T00:00:00+05:30\",\"2020-12-10T00:00:00+05:30\",\"2020-12-11T00:00:00+05:30\",\"2020-12-14T00:00:00+05:30\",\"2020-12-15T00:00:00+05:30\",\"2020-12-16T00:00:00+05:30\",\"2020-12-17T00:00:00+05:30\",\"2020-12-18T00:00:00+05:30\",\"2020-12-21T00:00:00+05:30\",\"2020-12-22T00:00:00+05:30\",\"2020-12-23T00:00:00+05:30\",\"2020-12-24T00:00:00+05:30\",\"2020-12-28T00:00:00+05:30\",\"2020-12-29T00:00:00+05:30\",\"2020-12-30T00:00:00+05:30\",\"2020-12-31T00:00:00+05:30\",\"2021-01-01T00:00:00+05:30\",\"2021-01-04T00:00:00+05:30\",\"2021-01-05T00:00:00+05:30\",\"2021-01-06T00:00:00+05:30\",\"2021-01-07T00:00:00+05:30\",\"2021-01-08T00:00:00+05:30\",\"2021-01-11T00:00:00+05:30\",\"2021-01-12T00:00:00+05:30\",\"2021-01-13T00:00:00+05:30\",\"2021-01-14T00:00:00+05:30\",\"2021-01-15T00:00:00+05:30\",\"2021-01-18T00:00:00+05:30\",\"2021-01-19T00:00:00+05:30\",\"2021-01-20T00:00:00+05:30\",\"2021-01-21T00:00:00+05:30\",\"2021-01-22T00:00:00+05:30\",\"2021-01-25T00:00:00+05:30\",\"2021-01-27T00:00:00+05:30\",\"2021-01-28T00:00:00+05:30\",\"2021-01-29T00:00:00+05:30\",\"2021-02-01T00:00:00+05:30\",\"2021-02-02T00:00:00+05:30\",\"2021-02-03T00:00:00+05:30\",\"2021-02-04T00:00:00+05:30\",\"2021-02-05T00:00:00+05:30\",\"2021-02-08T00:00:00+05:30\",\"2021-02-09T00:00:00+05:30\",\"2021-02-10T00:00:00+05:30\",\"2021-02-11T00:00:00+05:30\",\"2021-02-12T00:00:00+05:30\",\"2021-02-15T00:00:00+05:30\",\"2021-02-16T00:00:00+05:30\",\"2021-02-17T00:00:00+05:30\",\"2021-02-18T00:00:00+05:30\",\"2021-02-19T00:00:00+05:30\",\"2021-02-22T00:00:00+05:30\",\"2021-02-23T00:00:00+05:30\",\"2021-02-24T00:00:00+05:30\",\"2021-02-25T00:00:00+05:30\",\"2021-02-26T00:00:00+05:30\",\"2021-03-01T00:00:00+05:30\",\"2021-03-02T00:00:00+05:30\",\"2021-03-03T00:00:00+05:30\",\"2021-03-04T00:00:00+05:30\",\"2021-03-05T00:00:00+05:30\",\"2021-03-08T00:00:00+05:30\",\"2021-03-09T00:00:00+05:30\",\"2021-03-10T00:00:00+05:30\",\"2021-03-12T00:00:00+05:30\",\"2021-03-15T00:00:00+05:30\",\"2021-03-16T00:00:00+05:30\",\"2021-03-17T00:00:00+05:30\",\"2021-03-18T00:00:00+05:30\",\"2021-03-19T00:00:00+05:30\",\"2021-03-22T00:00:00+05:30\",\"2021-03-23T00:00:00+05:30\",\"2021-03-24T00:00:00+05:30\",\"2021-03-25T00:00:00+05:30\",\"2021-03-26T00:00:00+05:30\",\"2021-03-30T00:00:00+05:30\",\"2021-03-31T00:00:00+05:30\",\"2021-04-01T00:00:00+05:30\",\"2021-04-05T00:00:00+05:30\",\"2021-04-06T00:00:00+05:30\",\"2021-04-07T00:00:00+05:30\",\"2021-04-08T00:00:00+05:30\",\"2021-04-09T00:00:00+05:30\",\"2021-04-12T00:00:00+05:30\",\"2021-04-13T00:00:00+05:30\",\"2021-04-15T00:00:00+05:30\",\"2021-04-16T00:00:00+05:30\",\"2021-04-19T00:00:00+05:30\",\"2021-04-20T00:00:00+05:30\",\"2021-04-22T00:00:00+05:30\",\"2021-04-23T00:00:00+05:30\",\"2021-04-26T00:00:00+05:30\",\"2021-04-27T00:00:00+05:30\",\"2021-04-28T00:00:00+05:30\",\"2021-04-29T00:00:00+05:30\",\"2021-04-30T00:00:00+05:30\",\"2021-05-03T00:00:00+05:30\",\"2021-05-04T00:00:00+05:30\",\"2021-05-05T00:00:00+05:30\",\"2021-05-06T00:00:00+05:30\",\"2021-05-07T00:00:00+05:30\",\"2021-05-10T00:00:00+05:30\",\"2021-05-11T00:00:00+05:30\",\"2021-05-12T00:00:00+05:30\",\"2021-05-14T00:00:00+05:30\",\"2021-05-17T00:00:00+05:30\",\"2021-05-18T00:00:00+05:30\",\"2021-05-19T00:00:00+05:30\",\"2021-05-20T00:00:00+05:30\",\"2021-05-21T00:00:00+05:30\",\"2021-05-24T00:00:00+05:30\",\"2021-05-25T00:00:00+05:30\",\"2021-05-26T00:00:00+05:30\",\"2021-05-27T00:00:00+05:30\",\"2021-05-28T00:00:00+05:30\",\"2021-05-31T00:00:00+05:30\",\"2021-06-01T00:00:00+05:30\",\"2021-06-02T00:00:00+05:30\",\"2021-06-03T00:00:00+05:30\",\"2021-06-04T00:00:00+05:30\",\"2021-06-07T00:00:00+05:30\",\"2021-06-08T00:00:00+05:30\",\"2021-06-09T00:00:00+05:30\",\"2021-06-10T00:00:00+05:30\",\"2021-06-11T00:00:00+05:30\",\"2021-06-14T00:00:00+05:30\",\"2021-06-15T00:00:00+05:30\",\"2021-06-16T00:00:00+05:30\",\"2021-06-17T00:00:00+05:30\",\"2021-06-18T00:00:00+05:30\",\"2021-06-21T00:00:00+05:30\",\"2021-06-22T00:00:00+05:30\",\"2021-06-23T00:00:00+05:30\",\"2021-06-24T00:00:00+05:30\",\"2021-06-25T00:00:00+05:30\",\"2021-06-28T00:00:00+05:30\",\"2021-06-29T00:00:00+05:30\",\"2021-06-30T00:00:00+05:30\",\"2021-07-01T00:00:00+05:30\",\"2021-07-02T00:00:00+05:30\",\"2021-07-05T00:00:00+05:30\",\"2021-07-06T00:00:00+05:30\",\"2021-07-07T00:00:00+05:30\",\"2021-07-08T00:00:00+05:30\",\"2021-07-09T00:00:00+05:30\",\"2021-07-12T00:00:00+05:30\",\"2021-07-13T00:00:00+05:30\",\"2021-07-14T00:00:00+05:30\",\"2021-07-15T00:00:00+05:30\",\"2021-07-16T00:00:00+05:30\",\"2021-07-19T00:00:00+05:30\",\"2021-07-20T00:00:00+05:30\",\"2021-07-22T00:00:00+05:30\",\"2021-07-23T00:00:00+05:30\",\"2021-07-26T00:00:00+05:30\",\"2021-07-27T00:00:00+05:30\",\"2021-07-28T00:00:00+05:30\",\"2021-07-29T00:00:00+05:30\",\"2021-07-30T00:00:00+05:30\",\"2021-08-02T00:00:00+05:30\",\"2021-08-03T00:00:00+05:30\",\"2021-08-04T00:00:00+05:30\",\"2021-08-05T00:00:00+05:30\",\"2021-08-06T00:00:00+05:30\",\"2021-08-09T00:00:00+05:30\",\"2021-08-10T00:00:00+05:30\",\"2021-08-11T00:00:00+05:30\",\"2021-08-12T00:00:00+05:30\",\"2021-08-13T00:00:00+05:30\",\"2021-08-16T00:00:00+05:30\",\"2021-08-17T00:00:00+05:30\",\"2021-08-18T00:00:00+05:30\",\"2021-08-20T00:00:00+05:30\",\"2021-08-23T00:00:00+05:30\",\"2021-08-24T00:00:00+05:30\",\"2021-08-25T00:00:00+05:30\",\"2021-08-26T00:00:00+05:30\",\"2021-08-27T00:00:00+05:30\",\"2021-08-30T00:00:00+05:30\",\"2021-08-31T00:00:00+05:30\",\"2021-09-01T00:00:00+05:30\",\"2021-09-02T00:00:00+05:30\",\"2021-09-03T00:00:00+05:30\",\"2021-09-06T00:00:00+05:30\",\"2021-09-07T00:00:00+05:30\",\"2021-09-08T00:00:00+05:30\",\"2021-09-09T00:00:00+05:30\",\"2021-09-13T00:00:00+05:30\",\"2021-09-14T00:00:00+05:30\",\"2021-09-15T00:00:00+05:30\",\"2021-09-16T00:00:00+05:30\",\"2021-09-17T00:00:00+05:30\",\"2021-09-20T00:00:00+05:30\",\"2021-09-21T00:00:00+05:30\",\"2021-09-22T00:00:00+05:30\",\"2021-09-23T00:00:00+05:30\",\"2021-09-24T00:00:00+05:30\",\"2021-09-27T00:00:00+05:30\",\"2021-09-28T00:00:00+05:30\",\"2021-09-29T00:00:00+05:30\",\"2021-09-30T00:00:00+05:30\",\"2021-10-01T00:00:00+05:30\",\"2021-10-04T00:00:00+05:30\",\"2021-10-05T00:00:00+05:30\",\"2021-10-06T00:00:00+05:30\",\"2021-10-07T00:00:00+05:30\",\"2021-10-08T00:00:00+05:30\",\"2021-10-11T00:00:00+05:30\",\"2021-10-12T00:00:00+05:30\",\"2021-10-13T00:00:00+05:30\",\"2021-10-14T00:00:00+05:30\",\"2021-10-18T00:00:00+05:30\",\"2021-10-19T00:00:00+05:30\",\"2021-10-20T00:00:00+05:30\",\"2021-10-21T00:00:00+05:30\",\"2021-10-22T00:00:00+05:30\",\"2021-10-25T00:00:00+05:30\",\"2021-10-26T00:00:00+05:30\",\"2021-10-27T00:00:00+05:30\",\"2021-10-28T00:00:00+05:30\",\"2021-10-29T00:00:00+05:30\",\"2021-11-01T00:00:00+05:30\",\"2021-11-02T00:00:00+05:30\",\"2021-11-03T00:00:00+05:30\",\"2021-11-04T00:00:00+05:30\",\"2021-11-08T00:00:00+05:30\",\"2021-11-09T00:00:00+05:30\",\"2021-11-10T00:00:00+05:30\",\"2021-11-11T00:00:00+05:30\",\"2021-11-12T00:00:00+05:30\",\"2021-11-15T00:00:00+05:30\",\"2021-11-16T00:00:00+05:30\",\"2021-11-17T00:00:00+05:30\",\"2021-11-18T00:00:00+05:30\",\"2021-11-22T00:00:00+05:30\",\"2021-11-23T00:00:00+05:30\",\"2021-11-24T00:00:00+05:30\",\"2021-11-25T00:00:00+05:30\",\"2021-11-26T00:00:00+05:30\",\"2021-11-29T00:00:00+05:30\",\"2021-11-30T00:00:00+05:30\",\"2021-12-01T00:00:00+05:30\",\"2021-12-02T00:00:00+05:30\",\"2021-12-03T00:00:00+05:30\",\"2021-12-06T00:00:00+05:30\",\"2021-12-07T00:00:00+05:30\",\"2021-12-08T00:00:00+05:30\",\"2021-12-09T00:00:00+05:30\",\"2021-12-10T00:00:00+05:30\",\"2021-12-13T00:00:00+05:30\",\"2021-12-14T00:00:00+05:30\",\"2021-12-15T00:00:00+05:30\",\"2021-12-16T00:00:00+05:30\",\"2021-12-17T00:00:00+05:30\",\"2021-12-20T00:00:00+05:30\",\"2021-12-21T00:00:00+05:30\",\"2021-12-22T00:00:00+05:30\",\"2021-12-23T00:00:00+05:30\",\"2021-12-24T00:00:00+05:30\",\"2021-12-27T00:00:00+05:30\",\"2021-12-28T00:00:00+05:30\",\"2021-12-29T00:00:00+05:30\",\"2021-12-30T00:00:00+05:30\",\"2021-12-31T00:00:00+05:30\",\"2022-01-03T00:00:00+05:30\",\"2022-01-04T00:00:00+05:30\",\"2022-01-05T00:00:00+05:30\",\"2022-01-06T00:00:00+05:30\",\"2022-01-07T00:00:00+05:30\",\"2022-01-10T00:00:00+05:30\",\"2022-01-11T00:00:00+05:30\",\"2022-01-12T00:00:00+05:30\",\"2022-01-13T00:00:00+05:30\",\"2022-01-14T00:00:00+05:30\",\"2022-01-17T00:00:00+05:30\",\"2022-01-18T00:00:00+05:30\",\"2022-01-19T00:00:00+05:30\",\"2022-01-20T00:00:00+05:30\",\"2022-01-21T00:00:00+05:30\",\"2022-01-24T00:00:00+05:30\",\"2022-01-25T00:00:00+05:30\",\"2022-01-27T00:00:00+05:30\",\"2022-01-28T00:00:00+05:30\",\"2022-01-31T00:00:00+05:30\",\"2022-02-01T00:00:00+05:30\",\"2022-02-02T00:00:00+05:30\",\"2022-02-03T00:00:00+05:30\",\"2022-02-04T00:00:00+05:30\",\"2022-02-07T00:00:00+05:30\",\"2022-02-08T00:00:00+05:30\",\"2022-02-09T00:00:00+05:30\",\"2022-02-10T00:00:00+05:30\",\"2022-02-11T00:00:00+05:30\",\"2022-02-14T00:00:00+05:30\",\"2022-02-15T00:00:00+05:30\",\"2022-02-16T00:00:00+05:30\",\"2022-02-17T00:00:00+05:30\",\"2022-02-18T00:00:00+05:30\",\"2022-02-21T00:00:00+05:30\",\"2022-02-22T00:00:00+05:30\",\"2022-02-23T00:00:00+05:30\",\"2022-02-24T00:00:00+05:30\",\"2022-02-25T00:00:00+05:30\",\"2022-02-28T00:00:00+05:30\",\"2022-03-02T00:00:00+05:30\",\"2022-03-03T00:00:00+05:30\",\"2022-03-04T00:00:00+05:30\",\"2022-03-07T00:00:00+05:30\",\"2022-03-08T00:00:00+05:30\",\"2022-03-09T00:00:00+05:30\",\"2022-03-10T00:00:00+05:30\",\"2022-03-11T00:00:00+05:30\",\"2022-03-14T00:00:00+05:30\",\"2022-03-15T00:00:00+05:30\",\"2022-03-16T00:00:00+05:30\",\"2022-03-17T00:00:00+05:30\",\"2022-03-21T00:00:00+05:30\",\"2022-03-22T00:00:00+05:30\",\"2022-03-23T00:00:00+05:30\",\"2022-03-24T00:00:00+05:30\",\"2022-03-25T00:00:00+05:30\",\"2022-03-28T00:00:00+05:30\",\"2022-03-29T00:00:00+05:30\",\"2022-03-30T00:00:00+05:30\",\"2022-03-31T00:00:00+05:30\",\"2022-04-01T00:00:00+05:30\",\"2022-04-04T00:00:00+05:30\",\"2022-04-05T00:00:00+05:30\",\"2022-04-06T00:00:00+05:30\",\"2022-04-07T00:00:00+05:30\",\"2022-04-08T00:00:00+05:30\",\"2022-04-11T00:00:00+05:30\",\"2022-04-12T00:00:00+05:30\",\"2022-04-13T00:00:00+05:30\",\"2022-04-18T00:00:00+05:30\",\"2022-04-19T00:00:00+05:30\",\"2022-04-20T00:00:00+05:30\",\"2022-04-21T00:00:00+05:30\",\"2022-04-22T00:00:00+05:30\",\"2022-04-25T00:00:00+05:30\",\"2022-04-26T00:00:00+05:30\",\"2022-04-27T00:00:00+05:30\",\"2022-04-28T00:00:00+05:30\",\"2022-04-29T00:00:00+05:30\",\"2022-05-02T00:00:00+05:30\",\"2022-05-04T00:00:00+05:30\",\"2022-05-05T00:00:00+05:30\",\"2022-05-06T00:00:00+05:30\",\"2022-05-09T00:00:00+05:30\",\"2022-05-10T00:00:00+05:30\",\"2022-05-11T00:00:00+05:30\",\"2022-05-12T00:00:00+05:30\",\"2022-05-13T00:00:00+05:30\",\"2022-05-16T00:00:00+05:30\",\"2022-05-17T00:00:00+05:30\",\"2022-05-18T00:00:00+05:30\",\"2022-05-19T00:00:00+05:30\",\"2022-05-20T00:00:00+05:30\",\"2022-05-23T00:00:00+05:30\",\"2022-05-24T00:00:00+05:30\",\"2022-05-25T00:00:00+05:30\",\"2022-05-26T00:00:00+05:30\",\"2022-05-27T00:00:00+05:30\",\"2022-05-30T00:00:00+05:30\",\"2022-05-31T00:00:00+05:30\",\"2022-06-01T00:00:00+05:30\",\"2022-06-02T00:00:00+05:30\",\"2022-06-03T00:00:00+05:30\",\"2022-06-06T00:00:00+05:30\",\"2022-06-07T00:00:00+05:30\",\"2022-06-08T00:00:00+05:30\",\"2022-06-09T00:00:00+05:30\",\"2022-06-10T00:00:00+05:30\",\"2022-06-13T00:00:00+05:30\",\"2022-06-14T00:00:00+05:30\",\"2022-06-15T00:00:00+05:30\",\"2022-06-16T00:00:00+05:30\",\"2022-06-17T00:00:00+05:30\",\"2022-06-20T00:00:00+05:30\",\"2022-06-21T00:00:00+05:30\",\"2022-06-22T00:00:00+05:30\",\"2022-06-23T00:00:00+05:30\",\"2022-06-24T00:00:00+05:30\",\"2022-06-27T00:00:00+05:30\",\"2022-06-28T00:00:00+05:30\",\"2022-06-29T00:00:00+05:30\",\"2022-06-30T00:00:00+05:30\",\"2022-07-01T00:00:00+05:30\",\"2022-07-04T00:00:00+05:30\",\"2022-07-05T00:00:00+05:30\",\"2022-07-06T00:00:00+05:30\",\"2022-07-07T00:00:00+05:30\",\"2022-07-08T00:00:00+05:30\",\"2022-07-11T00:00:00+05:30\",\"2022-07-12T00:00:00+05:30\",\"2022-07-13T00:00:00+05:30\",\"2022-07-14T00:00:00+05:30\",\"2022-07-15T00:00:00+05:30\",\"2022-07-18T00:00:00+05:30\",\"2022-07-19T00:00:00+05:30\",\"2022-07-20T00:00:00+05:30\",\"2022-07-21T00:00:00+05:30\",\"2022-07-22T00:00:00+05:30\",\"2022-07-25T00:00:00+05:30\",\"2022-07-26T00:00:00+05:30\",\"2022-07-27T00:00:00+05:30\",\"2022-07-28T00:00:00+05:30\",\"2022-07-29T00:00:00+05:30\",\"2022-08-01T00:00:00+05:30\",\"2022-08-02T00:00:00+05:30\",\"2022-08-03T00:00:00+05:30\",\"2022-08-04T00:00:00+05:30\",\"2022-08-05T00:00:00+05:30\",\"2022-08-08T00:00:00+05:30\",\"2022-08-10T00:00:00+05:30\",\"2022-08-11T00:00:00+05:30\",\"2022-08-12T00:00:00+05:30\",\"2022-08-16T00:00:00+05:30\",\"2022-08-17T00:00:00+05:30\",\"2022-08-18T00:00:00+05:30\",\"2022-08-19T00:00:00+05:30\",\"2022-08-22T00:00:00+05:30\",\"2022-08-23T00:00:00+05:30\",\"2022-08-24T00:00:00+05:30\",\"2022-08-25T00:00:00+05:30\",\"2022-08-26T00:00:00+05:30\",\"2022-08-29T00:00:00+05:30\",\"2022-08-30T00:00:00+05:30\",\"2022-09-01T00:00:00+05:30\",\"2022-09-02T00:00:00+05:30\",\"2022-09-05T00:00:00+05:30\",\"2022-09-06T00:00:00+05:30\",\"2022-09-07T00:00:00+05:30\",\"2022-09-08T00:00:00+05:30\",\"2022-09-09T00:00:00+05:30\",\"2022-09-12T00:00:00+05:30\",\"2022-09-13T00:00:00+05:30\",\"2022-09-14T00:00:00+05:30\",\"2022-09-15T00:00:00+05:30\",\"2022-09-16T00:00:00+05:30\",\"2022-09-19T00:00:00+05:30\",\"2022-09-20T00:00:00+05:30\",\"2022-09-21T00:00:00+05:30\",\"2022-09-22T00:00:00+05:30\",\"2022-09-23T00:00:00+05:30\",\"2022-09-26T00:00:00+05:30\",\"2022-09-27T00:00:00+05:30\",\"2022-09-28T00:00:00+05:30\",\"2022-09-29T00:00:00+05:30\",\"2022-09-30T00:00:00+05:30\",\"2022-10-03T00:00:00+05:30\",\"2022-10-04T00:00:00+05:30\",\"2022-10-06T00:00:00+05:30\",\"2022-10-07T00:00:00+05:30\",\"2022-10-10T00:00:00+05:30\",\"2022-10-11T00:00:00+05:30\",\"2022-10-12T00:00:00+05:30\",\"2022-10-13T00:00:00+05:30\",\"2022-10-14T00:00:00+05:30\",\"2022-10-17T00:00:00+05:30\",\"2022-10-18T00:00:00+05:30\",\"2022-10-19T00:00:00+05:30\",\"2022-10-20T00:00:00+05:30\",\"2022-10-21T00:00:00+05:30\",\"2022-10-24T00:00:00+05:30\",\"2022-10-25T00:00:00+05:30\",\"2022-10-27T00:00:00+05:30\",\"2022-10-28T00:00:00+05:30\",\"2022-10-31T00:00:00+05:30\",\"2022-11-01T00:00:00+05:30\",\"2022-11-02T00:00:00+05:30\",\"2022-11-03T00:00:00+05:30\",\"2022-11-04T00:00:00+05:30\",\"2022-11-07T00:00:00+05:30\",\"2022-11-09T00:00:00+05:30\",\"2022-11-10T00:00:00+05:30\",\"2022-11-11T00:00:00+05:30\",\"2022-11-14T00:00:00+05:30\",\"2022-11-15T00:00:00+05:30\",\"2022-11-16T00:00:00+05:30\",\"2022-11-17T00:00:00+05:30\",\"2022-11-18T00:00:00+05:30\",\"2022-11-21T00:00:00+05:30\",\"2022-11-22T00:00:00+05:30\",\"2022-11-23T00:00:00+05:30\",\"2022-11-24T00:00:00+05:30\",\"2022-11-25T00:00:00+05:30\",\"2022-11-28T00:00:00+05:30\",\"2022-11-29T00:00:00+05:30\",\"2022-11-30T00:00:00+05:30\",\"2022-12-01T00:00:00+05:30\",\"2022-12-02T00:00:00+05:30\",\"2022-12-05T00:00:00+05:30\",\"2022-12-06T00:00:00+05:30\",\"2022-12-07T00:00:00+05:30\",\"2022-12-08T00:00:00+05:30\",\"2022-12-09T00:00:00+05:30\",\"2022-12-12T00:00:00+05:30\",\"2022-12-13T00:00:00+05:30\",\"2022-12-14T00:00:00+05:30\",\"2022-12-15T00:00:00+05:30\",\"2022-12-16T00:00:00+05:30\",\"2022-12-19T00:00:00+05:30\",\"2022-12-20T00:00:00+05:30\",\"2022-12-21T00:00:00+05:30\",\"2022-12-22T00:00:00+05:30\",\"2022-12-23T00:00:00+05:30\",\"2022-12-26T00:00:00+05:30\",\"2022-12-27T00:00:00+05:30\",\"2022-12-28T00:00:00+05:30\",\"2022-12-29T00:00:00+05:30\",\"2022-12-30T00:00:00+05:30\",\"2023-01-02T00:00:00+05:30\",\"2023-01-03T00:00:00+05:30\",\"2023-01-04T00:00:00+05:30\",\"2023-01-05T00:00:00+05:30\",\"2023-01-06T00:00:00+05:30\",\"2023-01-09T00:00:00+05:30\",\"2023-01-10T00:00:00+05:30\",\"2023-01-11T00:00:00+05:30\",\"2023-01-12T00:00:00+05:30\",\"2023-01-13T00:00:00+05:30\",\"2023-01-16T00:00:00+05:30\",\"2023-01-17T00:00:00+05:30\",\"2023-01-18T00:00:00+05:30\",\"2023-01-19T00:00:00+05:30\",\"2023-01-20T00:00:00+05:30\",\"2023-01-23T00:00:00+05:30\",\"2023-01-24T00:00:00+05:30\",\"2023-01-25T00:00:00+05:30\",\"2023-01-27T00:00:00+05:30\",\"2023-01-30T00:00:00+05:30\",\"2023-01-31T00:00:00+05:30\",\"2023-02-01T00:00:00+05:30\",\"2023-02-02T00:00:00+05:30\",\"2023-02-03T00:00:00+05:30\",\"2023-02-06T00:00:00+05:30\",\"2023-02-07T00:00:00+05:30\",\"2023-02-08T00:00:00+05:30\",\"2023-02-09T00:00:00+05:30\",\"2023-02-10T00:00:00+05:30\",\"2023-02-13T00:00:00+05:30\",\"2023-02-14T00:00:00+05:30\",\"2023-02-15T00:00:00+05:30\",\"2023-02-16T00:00:00+05:30\",\"2023-02-17T00:00:00+05:30\",\"2023-02-20T00:00:00+05:30\",\"2023-02-21T00:00:00+05:30\",\"2023-02-22T00:00:00+05:30\",\"2023-02-23T00:00:00+05:30\",\"2023-02-24T00:00:00+05:30\",\"2023-02-27T00:00:00+05:30\",\"2023-02-28T00:00:00+05:30\",\"2023-03-01T00:00:00+05:30\",\"2023-03-02T00:00:00+05:30\",\"2023-03-03T00:00:00+05:30\",\"2023-03-06T00:00:00+05:30\",\"2023-03-08T00:00:00+05:30\",\"2023-03-09T00:00:00+05:30\",\"2023-03-10T00:00:00+05:30\",\"2023-03-13T00:00:00+05:30\",\"2023-03-14T00:00:00+05:30\",\"2023-03-15T00:00:00+05:30\",\"2023-03-16T00:00:00+05:30\",\"2023-03-17T00:00:00+05:30\",\"2023-03-20T00:00:00+05:30\",\"2023-03-21T00:00:00+05:30\",\"2023-03-22T00:00:00+05:30\",\"2023-03-23T00:00:00+05:30\",\"2023-03-24T00:00:00+05:30\",\"2023-03-27T00:00:00+05:30\",\"2023-03-28T00:00:00+05:30\",\"2023-03-29T00:00:00+05:30\",\"2023-03-31T00:00:00+05:30\",\"2023-04-03T00:00:00+05:30\",\"2023-04-05T00:00:00+05:30\",\"2023-04-06T00:00:00+05:30\",\"2023-04-10T00:00:00+05:30\",\"2023-04-11T00:00:00+05:30\",\"2023-04-12T00:00:00+05:30\",\"2023-04-13T00:00:00+05:30\",\"2023-04-17T00:00:00+05:30\",\"2023-04-18T00:00:00+05:30\",\"2023-04-19T00:00:00+05:30\",\"2023-04-20T00:00:00+05:30\",\"2023-04-21T00:00:00+05:30\",\"2023-04-24T00:00:00+05:30\",\"2023-04-25T00:00:00+05:30\",\"2023-04-26T00:00:00+05:30\",\"2023-04-27T00:00:00+05:30\",\"2023-04-28T00:00:00+05:30\",\"2023-05-02T00:00:00+05:30\",\"2023-05-03T00:00:00+05:30\",\"2023-05-04T00:00:00+05:30\",\"2023-05-05T00:00:00+05:30\",\"2023-05-08T00:00:00+05:30\",\"2023-05-09T00:00:00+05:30\",\"2023-05-10T00:00:00+05:30\",\"2023-05-11T00:00:00+05:30\",\"2023-05-12T00:00:00+05:30\",\"2023-05-15T00:00:00+05:30\",\"2023-05-16T00:00:00+05:30\",\"2023-05-17T00:00:00+05:30\",\"2023-05-18T00:00:00+05:30\",\"2023-05-19T00:00:00+05:30\",\"2023-05-22T00:00:00+05:30\",\"2023-05-23T00:00:00+05:30\",\"2023-05-24T00:00:00+05:30\",\"2023-05-25T00:00:00+05:30\",\"2023-05-26T00:00:00+05:30\",\"2023-05-29T00:00:00+05:30\",\"2023-05-30T00:00:00+05:30\",\"2023-05-31T00:00:00+05:30\",\"2023-06-01T00:00:00+05:30\",\"2023-06-02T00:00:00+05:30\",\"2023-06-05T00:00:00+05:30\",\"2023-06-06T00:00:00+05:30\",\"2023-06-07T00:00:00+05:30\",\"2023-06-08T00:00:00+05:30\",\"2023-06-09T00:00:00+05:30\",\"2023-06-12T00:00:00+05:30\",\"2023-06-13T00:00:00+05:30\",\"2023-06-14T00:00:00+05:30\",\"2023-06-15T00:00:00+05:30\",\"2023-06-16T00:00:00+05:30\",\"2023-06-19T00:00:00+05:30\",\"2023-06-20T00:00:00+05:30\",\"2023-06-21T00:00:00+05:30\",\"2023-06-22T00:00:00+05:30\",\"2023-06-23T00:00:00+05:30\",\"2023-06-26T00:00:00+05:30\",\"2023-06-27T00:00:00+05:30\",\"2023-06-28T00:00:00+05:30\",\"2023-06-30T00:00:00+05:30\",\"2023-07-03T00:00:00+05:30\",\"2023-07-04T00:00:00+05:30\",\"2023-07-05T00:00:00+05:30\",\"2023-07-06T00:00:00+05:30\",\"2023-07-07T00:00:00+05:30\",\"2023-07-10T00:00:00+05:30\",\"2023-07-11T00:00:00+05:30\",\"2023-07-12T00:00:00+05:30\",\"2023-07-13T00:00:00+05:30\",\"2023-07-14T00:00:00+05:30\",\"2023-07-17T00:00:00+05:30\",\"2023-07-18T00:00:00+05:30\",\"2023-07-19T00:00:00+05:30\",\"2023-07-20T00:00:00+05:30\",\"2023-07-21T00:00:00+05:30\",\"2023-07-24T00:00:00+05:30\",\"2023-07-25T00:00:00+05:30\",\"2023-07-26T00:00:00+05:30\",\"2023-07-27T00:00:00+05:30\",\"2023-07-28T00:00:00+05:30\",\"2023-07-31T00:00:00+05:30\",\"2023-08-01T00:00:00+05:30\",\"2023-08-02T00:00:00+05:30\",\"2023-08-03T00:00:00+05:30\",\"2023-08-04T00:00:00+05:30\",\"2023-08-07T00:00:00+05:30\",\"2023-08-08T00:00:00+05:30\",\"2023-08-09T00:00:00+05:30\",\"2023-08-10T00:00:00+05:30\",\"2023-08-11T00:00:00+05:30\",\"2023-08-14T00:00:00+05:30\",\"2023-08-16T00:00:00+05:30\",\"2023-08-17T00:00:00+05:30\",\"2023-08-18T00:00:00+05:30\",\"2023-08-21T00:00:00+05:30\",\"2023-08-22T00:00:00+05:30\",\"2023-08-23T00:00:00+05:30\",\"2023-08-24T00:00:00+05:30\",\"2023-08-25T00:00:00+05:30\",\"2023-08-28T00:00:00+05:30\",\"2023-08-29T00:00:00+05:30\",\"2023-08-30T00:00:00+05:30\",\"2023-08-31T00:00:00+05:30\",\"2023-09-01T00:00:00+05:30\",\"2023-09-04T00:00:00+05:30\",\"2023-09-05T00:00:00+05:30\",\"2023-09-06T00:00:00+05:30\",\"2023-09-07T00:00:00+05:30\",\"2023-09-08T00:00:00+05:30\",\"2023-09-11T00:00:00+05:30\",\"2023-09-12T00:00:00+05:30\",\"2023-09-13T00:00:00+05:30\",\"2023-09-14T00:00:00+05:30\",\"2023-09-15T00:00:00+05:30\",\"2023-09-18T00:00:00+05:30\",\"2023-09-20T00:00:00+05:30\",\"2023-09-21T00:00:00+05:30\",\"2023-09-22T00:00:00+05:30\",\"2023-09-25T00:00:00+05:30\",\"2023-09-26T00:00:00+05:30\",\"2023-09-27T00:00:00+05:30\",\"2023-09-28T00:00:00+05:30\",\"2023-09-29T00:00:00+05:30\",\"2023-10-03T00:00:00+05:30\",\"2023-10-04T00:00:00+05:30\",\"2023-10-05T00:00:00+05:30\",\"2023-10-06T00:00:00+05:30\",\"2023-10-09T00:00:00+05:30\",\"2023-10-10T00:00:00+05:30\",\"2023-10-11T00:00:00+05:30\",\"2023-10-12T00:00:00+05:30\",\"2023-10-13T00:00:00+05:30\",\"2023-10-16T00:00:00+05:30\",\"2023-10-17T00:00:00+05:30\",\"2023-10-18T00:00:00+05:30\",\"2023-10-19T00:00:00+05:30\",\"2023-10-20T00:00:00+05:30\",\"2023-10-23T00:00:00+05:30\",\"2023-10-25T00:00:00+05:30\",\"2023-10-26T00:00:00+05:30\",\"2023-10-27T00:00:00+05:30\",\"2023-10-30T00:00:00+05:30\",\"2023-10-31T00:00:00+05:30\",\"2023-11-01T00:00:00+05:30\",\"2023-11-02T00:00:00+05:30\",\"2023-11-03T00:00:00+05:30\",\"2023-11-06T00:00:00+05:30\",\"2023-11-07T00:00:00+05:30\",\"2023-11-08T00:00:00+05:30\",\"2023-11-09T00:00:00+05:30\",\"2023-11-10T00:00:00+05:30\",\"2023-11-13T00:00:00+05:30\",\"2023-11-15T00:00:00+05:30\",\"2023-11-16T00:00:00+05:30\",\"2023-11-17T00:00:00+05:30\",\"2023-11-20T00:00:00+05:30\",\"2023-11-21T00:00:00+05:30\",\"2023-11-22T00:00:00+05:30\",\"2023-11-23T00:00:00+05:30\",\"2023-11-24T00:00:00+05:30\",\"2023-11-28T00:00:00+05:30\",\"2023-11-29T00:00:00+05:30\",\"2023-11-30T00:00:00+05:30\",\"2023-12-01T00:00:00+05:30\",\"2023-12-04T00:00:00+05:30\",\"2023-12-05T00:00:00+05:30\",\"2023-12-06T00:00:00+05:30\",\"2023-12-07T00:00:00+05:30\",\"2023-12-08T00:00:00+05:30\",\"2023-12-11T00:00:00+05:30\",\"2023-12-12T00:00:00+05:30\",\"2023-12-13T00:00:00+05:30\",\"2023-12-14T00:00:00+05:30\",\"2023-12-15T00:00:00+05:30\",\"2023-12-18T00:00:00+05:30\",\"2023-12-19T00:00:00+05:30\",\"2023-12-20T00:00:00+05:30\",\"2023-12-21T00:00:00+05:30\",\"2023-12-22T00:00:00+05:30\",\"2023-12-26T00:00:00+05:30\",\"2023-12-27T00:00:00+05:30\",\"2023-12-28T00:00:00+05:30\",\"2023-12-29T00:00:00+05:30\",\"2024-01-01T00:00:00+05:30\",\"2024-01-02T00:00:00+05:30\",\"2024-01-03T00:00:00+05:30\",\"2024-01-04T00:00:00+05:30\",\"2024-01-05T00:00:00+05:30\",\"2024-01-08T00:00:00+05:30\",\"2024-01-09T00:00:00+05:30\",\"2024-01-10T00:00:00+05:30\",\"2024-01-11T00:00:00+05:30\",\"2024-01-12T00:00:00+05:30\",\"2024-01-15T00:00:00+05:30\",\"2024-01-16T00:00:00+05:30\",\"2024-01-17T00:00:00+05:30\",\"2024-01-18T00:00:00+05:30\",\"2024-01-19T00:00:00+05:30\",\"2024-01-23T00:00:00+05:30\",\"2024-01-24T00:00:00+05:30\",\"2024-01-25T00:00:00+05:30\",\"2024-01-29T00:00:00+05:30\",\"2024-01-30T00:00:00+05:30\",\"2024-01-31T00:00:00+05:30\",\"2024-02-01T00:00:00+05:30\",\"2024-02-02T00:00:00+05:30\",\"2024-02-05T00:00:00+05:30\",\"2024-02-06T00:00:00+05:30\",\"2024-02-07T00:00:00+05:30\",\"2024-02-08T00:00:00+05:30\",\"2024-02-09T00:00:00+05:30\",\"2024-02-12T00:00:00+05:30\",\"2024-02-13T00:00:00+05:30\",\"2024-02-14T00:00:00+05:30\",\"2024-02-15T00:00:00+05:30\",\"2024-02-16T00:00:00+05:30\",\"2024-02-19T00:00:00+05:30\",\"2024-02-20T00:00:00+05:30\",\"2024-02-21T00:00:00+05:30\",\"2024-02-22T00:00:00+05:30\",\"2024-02-23T00:00:00+05:30\",\"2024-02-26T00:00:00+05:30\",\"2024-02-27T00:00:00+05:30\",\"2024-02-28T00:00:00+05:30\",\"2024-02-29T00:00:00+05:30\",\"2024-03-01T00:00:00+05:30\",\"2024-03-04T00:00:00+05:30\",\"2024-03-05T00:00:00+05:30\",\"2024-03-06T00:00:00+05:30\",\"2024-03-07T00:00:00+05:30\",\"2024-03-11T00:00:00+05:30\",\"2024-03-12T00:00:00+05:30\",\"2024-03-13T00:00:00+05:30\",\"2024-03-14T00:00:00+05:30\",\"2024-03-15T00:00:00+05:30\",\"2024-03-18T00:00:00+05:30\",\"2024-03-19T00:00:00+05:30\",\"2024-03-20T00:00:00+05:30\",\"2024-03-21T00:00:00+05:30\",\"2024-03-22T00:00:00+05:30\",\"2024-03-26T00:00:00+05:30\",\"2024-03-27T00:00:00+05:30\",\"2024-03-28T00:00:00+05:30\",\"2024-04-01T00:00:00+05:30\",\"2024-04-02T00:00:00+05:30\",\"2024-04-03T00:00:00+05:30\",\"2024-04-04T00:00:00+05:30\",\"2024-04-05T00:00:00+05:30\",\"2024-04-08T00:00:00+05:30\",\"2024-04-09T00:00:00+05:30\",\"2024-04-10T00:00:00+05:30\",\"2024-04-12T00:00:00+05:30\",\"2024-04-15T00:00:00+05:30\",\"2024-04-16T00:00:00+05:30\",\"2024-04-18T00:00:00+05:30\",\"2024-04-19T00:00:00+05:30\",\"2024-04-22T00:00:00+05:30\",\"2024-04-23T00:00:00+05:30\",\"2024-04-24T00:00:00+05:30\",\"2024-04-25T00:00:00+05:30\",\"2024-04-26T00:00:00+05:30\",\"2024-04-29T00:00:00+05:30\",\"2024-04-30T00:00:00+05:30\",\"2024-05-02T00:00:00+05:30\",\"2024-05-03T00:00:00+05:30\",\"2024-05-06T00:00:00+05:30\",\"2024-05-07T00:00:00+05:30\",\"2024-05-08T00:00:00+05:30\",\"2024-05-09T00:00:00+05:30\",\"2024-05-10T00:00:00+05:30\",\"2024-05-13T00:00:00+05:30\",\"2024-05-14T00:00:00+05:30\",\"2024-05-15T00:00:00+05:30\",\"2024-05-16T00:00:00+05:30\",\"2024-05-17T00:00:00+05:30\",\"2024-05-21T00:00:00+05:30\",\"2024-05-22T00:00:00+05:30\",\"2024-05-23T00:00:00+05:30\",\"2024-05-24T00:00:00+05:30\",\"2024-05-27T00:00:00+05:30\",\"2024-05-28T00:00:00+05:30\",\"2024-05-29T00:00:00+05:30\",\"2024-05-30T00:00:00+05:30\",\"2024-05-31T00:00:00+05:30\",\"2024-06-03T00:00:00+05:30\",\"2024-06-04T00:00:00+05:30\",\"2024-06-05T00:00:00+05:30\",\"2024-06-06T00:00:00+05:30\",\"2024-06-07T00:00:00+05:30\",\"2024-06-10T00:00:00+05:30\",\"2024-06-11T00:00:00+05:30\",\"2024-06-12T00:00:00+05:30\",\"2024-06-13T00:00:00+05:30\",\"2024-06-14T00:00:00+05:30\",\"2024-06-18T00:00:00+05:30\",\"2024-06-19T00:00:00+05:30\",\"2024-06-20T00:00:00+05:30\",\"2024-06-21T00:00:00+05:30\",\"2024-06-24T00:00:00+05:30\",\"2024-06-25T00:00:00+05:30\",\"2024-06-26T00:00:00+05:30\",\"2024-06-27T00:00:00+05:30\",\"2024-06-28T00:00:00+05:30\",\"2024-07-01T00:00:00+05:30\",\"2024-07-02T00:00:00+05:30\",\"2024-07-03T00:00:00+05:30\",\"2024-07-04T00:00:00+05:30\",\"2024-07-05T00:00:00+05:30\",\"2024-07-08T00:00:00+05:30\",\"2024-07-09T00:00:00+05:30\",\"2024-07-10T00:00:00+05:30\",\"2024-07-11T00:00:00+05:30\",\"2024-07-12T00:00:00+05:30\",\"2024-07-15T00:00:00+05:30\",\"2024-07-16T00:00:00+05:30\",\"2024-07-18T00:00:00+05:30\",\"2024-07-19T00:00:00+05:30\",\"2024-07-22T00:00:00+05:30\",\"2024-07-23T00:00:00+05:30\",\"2024-07-24T00:00:00+05:30\",\"2024-07-25T00:00:00+05:30\",\"2024-07-26T00:00:00+05:30\",\"2024-07-29T00:00:00+05:30\",\"2024-07-30T00:00:00+05:30\",\"2024-07-31T00:00:00+05:30\",\"2024-08-01T00:00:00+05:30\",\"2024-08-02T00:00:00+05:30\",\"2024-08-05T00:00:00+05:30\",\"2024-08-06T00:00:00+05:30\",\"2024-08-07T00:00:00+05:30\",\"2024-08-08T00:00:00+05:30\",\"2024-08-09T00:00:00+05:30\",\"2024-08-12T00:00:00+05:30\",\"2024-08-13T00:00:00+05:30\",\"2024-08-14T00:00:00+05:30\",\"2024-08-16T00:00:00+05:30\",\"2024-08-19T00:00:00+05:30\",\"2024-08-20T00:00:00+05:30\",\"2024-08-21T00:00:00+05:30\",\"2024-08-22T00:00:00+05:30\",\"2024-08-23T00:00:00+05:30\",\"2024-08-26T00:00:00+05:30\",\"2024-08-27T00:00:00+05:30\",\"2024-08-28T00:00:00+05:30\",\"2024-08-29T00:00:00+05:30\",\"2024-08-30T00:00:00+05:30\",\"2024-09-02T00:00:00+05:30\",\"2024-09-03T00:00:00+05:30\",\"2024-09-04T00:00:00+05:30\",\"2024-09-05T00:00:00+05:30\",\"2024-09-06T00:00:00+05:30\",\"2024-09-09T00:00:00+05:30\",\"2024-09-10T00:00:00+05:30\",\"2024-09-11T00:00:00+05:30\",\"2024-09-12T00:00:00+05:30\",\"2024-09-13T00:00:00+05:30\",\"2024-09-16T00:00:00+05:30\",\"2024-09-17T00:00:00+05:30\",\"2024-09-18T00:00:00+05:30\",\"2024-09-19T00:00:00+05:30\",\"2024-09-20T00:00:00+05:30\"],\"type\":\"candlestick\"}],                        {\"template\":{\"data\":{\"histogram2dcontour\":[{\"type\":\"histogram2dcontour\",\"colorbar\":{\"outlinewidth\":0,\"ticks\":\"\"},\"colorscale\":[[0.0,\"#0d0887\"],[0.1111111111111111,\"#46039f\"],[0.2222222222222222,\"#7201a8\"],[0.3333333333333333,\"#9c179e\"],[0.4444444444444444,\"#bd3786\"],[0.5555555555555556,\"#d8576b\"],[0.6666666666666666,\"#ed7953\"],[0.7777777777777778,\"#fb9f3a\"],[0.8888888888888888,\"#fdca26\"],[1.0,\"#f0f921\"]]}],\"choropleth\":[{\"type\":\"choropleth\",\"colorbar\":{\"outlinewidth\":0,\"ticks\":\"\"}}],\"histogram2d\":[{\"type\":\"histogram2d\",\"colorbar\":{\"outlinewidth\":0,\"ticks\":\"\"},\"colorscale\":[[0.0,\"#0d0887\"],[0.1111111111111111,\"#46039f\"],[0.2222222222222222,\"#7201a8\"],[0.3333333333333333,\"#9c179e\"],[0.4444444444444444,\"#bd3786\"],[0.5555555555555556,\"#d8576b\"],[0.6666666666666666,\"#ed7953\"],[0.7777777777777778,\"#fb9f3a\"],[0.8888888888888888,\"#fdca26\"],[1.0,\"#f0f921\"]]}],\"heatmap\":[{\"type\":\"heatmap\",\"colorbar\":{\"outlinewidth\":0,\"ticks\":\"\"},\"colorscale\":[[0.0,\"#0d0887\"],[0.1111111111111111,\"#46039f\"],[0.2222222222222222,\"#7201a8\"],[0.3333333333333333,\"#9c179e\"],[0.4444444444444444,\"#bd3786\"],[0.5555555555555556,\"#d8576b\"],[0.6666666666666666,\"#ed7953\"],[0.7777777777777778,\"#fb9f3a\"],[0.8888888888888888,\"#fdca26\"],[1.0,\"#f0f921\"]]}],\"heatmapgl\":[{\"type\":\"heatmapgl\",\"colorbar\":{\"outlinewidth\":0,\"ticks\":\"\"},\"colorscale\":[[0.0,\"#0d0887\"],[0.1111111111111111,\"#46039f\"],[0.2222222222222222,\"#7201a8\"],[0.3333333333333333,\"#9c179e\"],[0.4444444444444444,\"#bd3786\"],[0.5555555555555556,\"#d8576b\"],[0.6666666666666666,\"#ed7953\"],[0.7777777777777778,\"#fb9f3a\"],[0.8888888888888888,\"#fdca26\"],[1.0,\"#f0f921\"]]}],\"contourcarpet\":[{\"type\":\"contourcarpet\",\"colorbar\":{\"outlinewidth\":0,\"ticks\":\"\"}}],\"contour\":[{\"type\":\"contour\",\"colorbar\":{\"outlinewidth\":0,\"ticks\":\"\"},\"colorscale\":[[0.0,\"#0d0887\"],[0.1111111111111111,\"#46039f\"],[0.2222222222222222,\"#7201a8\"],[0.3333333333333333,\"#9c179e\"],[0.4444444444444444,\"#bd3786\"],[0.5555555555555556,\"#d8576b\"],[0.6666666666666666,\"#ed7953\"],[0.7777777777777778,\"#fb9f3a\"],[0.8888888888888888,\"#fdca26\"],[1.0,\"#f0f921\"]]}],\"surface\":[{\"type\":\"surface\",\"colorbar\":{\"outlinewidth\":0,\"ticks\":\"\"},\"colorscale\":[[0.0,\"#0d0887\"],[0.1111111111111111,\"#46039f\"],[0.2222222222222222,\"#7201a8\"],[0.3333333333333333,\"#9c179e\"],[0.4444444444444444,\"#bd3786\"],[0.5555555555555556,\"#d8576b\"],[0.6666666666666666,\"#ed7953\"],[0.7777777777777778,\"#fb9f3a\"],[0.8888888888888888,\"#fdca26\"],[1.0,\"#f0f921\"]]}],\"mesh3d\":[{\"type\":\"mesh3d\",\"colorbar\":{\"outlinewidth\":0,\"ticks\":\"\"}}],\"scatter\":[{\"fillpattern\":{\"fillmode\":\"overlay\",\"size\":10,\"solidity\":0.2},\"type\":\"scatter\"}],\"parcoords\":[{\"type\":\"parcoords\",\"line\":{\"colorbar\":{\"outlinewidth\":0,\"ticks\":\"\"}}}],\"scatterpolargl\":[{\"type\":\"scatterpolargl\",\"marker\":{\"colorbar\":{\"outlinewidth\":0,\"ticks\":\"\"}}}],\"bar\":[{\"error_x\":{\"color\":\"#2a3f5f\"},\"error_y\":{\"color\":\"#2a3f5f\"},\"marker\":{\"line\":{\"color\":\"#E5ECF6\",\"width\":0.5},\"pattern\":{\"fillmode\":\"overlay\",\"size\":10,\"solidity\":0.2}},\"type\":\"bar\"}],\"scattergeo\":[{\"type\":\"scattergeo\",\"marker\":{\"colorbar\":{\"outlinewidth\":0,\"ticks\":\"\"}}}],\"scatterpolar\":[{\"type\":\"scatterpolar\",\"marker\":{\"colorbar\":{\"outlinewidth\":0,\"ticks\":\"\"}}}],\"histogram\":[{\"marker\":{\"pattern\":{\"fillmode\":\"overlay\",\"size\":10,\"solidity\":0.2}},\"type\":\"histogram\"}],\"scattergl\":[{\"type\":\"scattergl\",\"marker\":{\"colorbar\":{\"outlinewidth\":0,\"ticks\":\"\"}}}],\"scatter3d\":[{\"type\":\"scatter3d\",\"line\":{\"colorbar\":{\"outlinewidth\":0,\"ticks\":\"\"}},\"marker\":{\"colorbar\":{\"outlinewidth\":0,\"ticks\":\"\"}}}],\"scattermapbox\":[{\"type\":\"scattermapbox\",\"marker\":{\"colorbar\":{\"outlinewidth\":0,\"ticks\":\"\"}}}],\"scatterternary\":[{\"type\":\"scatterternary\",\"marker\":{\"colorbar\":{\"outlinewidth\":0,\"ticks\":\"\"}}}],\"scattercarpet\":[{\"type\":\"scattercarpet\",\"marker\":{\"colorbar\":{\"outlinewidth\":0,\"ticks\":\"\"}}}],\"carpet\":[{\"aaxis\":{\"endlinecolor\":\"#2a3f5f\",\"gridcolor\":\"white\",\"linecolor\":\"white\",\"minorgridcolor\":\"white\",\"startlinecolor\":\"#2a3f5f\"},\"baxis\":{\"endlinecolor\":\"#2a3f5f\",\"gridcolor\":\"white\",\"linecolor\":\"white\",\"minorgridcolor\":\"white\",\"startlinecolor\":\"#2a3f5f\"},\"type\":\"carpet\"}],\"table\":[{\"cells\":{\"fill\":{\"color\":\"#EBF0F8\"},\"line\":{\"color\":\"white\"}},\"header\":{\"fill\":{\"color\":\"#C8D4E3\"},\"line\":{\"color\":\"white\"}},\"type\":\"table\"}],\"barpolar\":[{\"marker\":{\"line\":{\"color\":\"#E5ECF6\",\"width\":0.5},\"pattern\":{\"fillmode\":\"overlay\",\"size\":10,\"solidity\":0.2}},\"type\":\"barpolar\"}],\"pie\":[{\"automargin\":true,\"type\":\"pie\"}]},\"layout\":{\"autotypenumbers\":\"strict\",\"colorway\":[\"#636efa\",\"#EF553B\",\"#00cc96\",\"#ab63fa\",\"#FFA15A\",\"#19d3f3\",\"#FF6692\",\"#B6E880\",\"#FF97FF\",\"#FECB52\"],\"font\":{\"color\":\"#2a3f5f\"},\"hovermode\":\"closest\",\"hoverlabel\":{\"align\":\"left\"},\"paper_bgcolor\":\"white\",\"plot_bgcolor\":\"#E5ECF6\",\"polar\":{\"bgcolor\":\"#E5ECF6\",\"angularaxis\":{\"gridcolor\":\"white\",\"linecolor\":\"white\",\"ticks\":\"\"},\"radialaxis\":{\"gridcolor\":\"white\",\"linecolor\":\"white\",\"ticks\":\"\"}},\"ternary\":{\"bgcolor\":\"#E5ECF6\",\"aaxis\":{\"gridcolor\":\"white\",\"linecolor\":\"white\",\"ticks\":\"\"},\"baxis\":{\"gridcolor\":\"white\",\"linecolor\":\"white\",\"ticks\":\"\"},\"caxis\":{\"gridcolor\":\"white\",\"linecolor\":\"white\",\"ticks\":\"\"}},\"coloraxis\":{\"colorbar\":{\"outlinewidth\":0,\"ticks\":\"\"}},\"colorscale\":{\"sequential\":[[0.0,\"#0d0887\"],[0.1111111111111111,\"#46039f\"],[0.2222222222222222,\"#7201a8\"],[0.3333333333333333,\"#9c179e\"],[0.4444444444444444,\"#bd3786\"],[0.5555555555555556,\"#d8576b\"],[0.6666666666666666,\"#ed7953\"],[0.7777777777777778,\"#fb9f3a\"],[0.8888888888888888,\"#fdca26\"],[1.0,\"#f0f921\"]],\"sequentialminus\":[[0.0,\"#0d0887\"],[0.1111111111111111,\"#46039f\"],[0.2222222222222222,\"#7201a8\"],[0.3333333333333333,\"#9c179e\"],[0.4444444444444444,\"#bd3786\"],[0.5555555555555556,\"#d8576b\"],[0.6666666666666666,\"#ed7953\"],[0.7777777777777778,\"#fb9f3a\"],[0.8888888888888888,\"#fdca26\"],[1.0,\"#f0f921\"]],\"diverging\":[[0,\"#8e0152\"],[0.1,\"#c51b7d\"],[0.2,\"#de77ae\"],[0.3,\"#f1b6da\"],[0.4,\"#fde0ef\"],[0.5,\"#f7f7f7\"],[0.6,\"#e6f5d0\"],[0.7,\"#b8e186\"],[0.8,\"#7fbc41\"],[0.9,\"#4d9221\"],[1,\"#276419\"]]},\"xaxis\":{\"gridcolor\":\"white\",\"linecolor\":\"white\",\"ticks\":\"\",\"title\":{\"standoff\":15},\"zerolinecolor\":\"white\",\"automargin\":true,\"zerolinewidth\":2},\"yaxis\":{\"gridcolor\":\"white\",\"linecolor\":\"white\",\"ticks\":\"\",\"title\":{\"standoff\":15},\"zerolinecolor\":\"white\",\"automargin\":true,\"zerolinewidth\":2},\"scene\":{\"xaxis\":{\"backgroundcolor\":\"#E5ECF6\",\"gridcolor\":\"white\",\"linecolor\":\"white\",\"showbackground\":true,\"ticks\":\"\",\"zerolinecolor\":\"white\",\"gridwidth\":2},\"yaxis\":{\"backgroundcolor\":\"#E5ECF6\",\"gridcolor\":\"white\",\"linecolor\":\"white\",\"showbackground\":true,\"ticks\":\"\",\"zerolinecolor\":\"white\",\"gridwidth\":2},\"zaxis\":{\"backgroundcolor\":\"#E5ECF6\",\"gridcolor\":\"white\",\"linecolor\":\"white\",\"showbackground\":true,\"ticks\":\"\",\"zerolinecolor\":\"white\",\"gridwidth\":2}},\"shapedefaults\":{\"line\":{\"color\":\"#2a3f5f\"}},\"annotationdefaults\":{\"arrowcolor\":\"#2a3f5f\",\"arrowhead\":0,\"arrowwidth\":1},\"geo\":{\"bgcolor\":\"white\",\"landcolor\":\"#E5ECF6\",\"subunitcolor\":\"white\",\"showland\":true,\"showlakes\":true,\"lakecolor\":\"white\"},\"title\":{\"x\":0.05},\"mapbox\":{\"style\":\"light\"}}}},                        {\"responsive\": true}                    ).then(function(){\n",
              "                            \n",
              "var gd = document.getElementById('c800534b-7d33-409f-a04c-c4fe59e5c7c5');\n",
              "var x = new MutationObserver(function (mutations, observer) {{\n",
              "        var display = window.getComputedStyle(gd).display;\n",
              "        if (!display || display === 'none') {{\n",
              "            console.log([gd, 'removed!']);\n",
              "            Plotly.purge(gd);\n",
              "            observer.disconnect();\n",
              "        }}\n",
              "}});\n",
              "\n",
              "// Listen for the removal of the full notebook cells\n",
              "var notebookContainer = gd.closest('#notebook-container');\n",
              "if (notebookContainer) {{\n",
              "    x.observe(notebookContainer, {childList: true});\n",
              "}}\n",
              "\n",
              "// Listen for the clearing of the current output cell\n",
              "var outputEl = gd.closest('.output');\n",
              "if (outputEl) {{\n",
              "    x.observe(outputEl, {childList: true});\n",
              "}}\n",
              "\n",
              "                        })                };                            </script>        </div>\n",
              "</body>\n",
              "</html>"
            ]
          },
          "metadata": {}
        }
      ],
      "source": [
        "display_candlestick_chart(data)"
      ]
    },
    {
      "cell_type": "markdown",
      "source": [
        "## Instantiating Cerebro\n",
        "**Cerebro** is the cornerstone of backtrader because it serves as a central point for:\n",
        "\n",
        "- Gathering all inputs (Data Feeds),\n",
        "- Gathering actors (Stratgegies),\n",
        "- Gathering critics (Analyzers)\n",
        "- Execute the backtesting/or live data feeding/trading\n",
        "- Returning the results"
      ],
      "metadata": {
        "id": "eWhTtQvoESe2"
      }
    },
    {
      "cell_type": "markdown",
      "metadata": {
        "id": "fjlOA1D4I7vW"
      },
      "source": [
        "## Understanding BackTrader Strategy"
      ]
    },
    {
      "cell_type": "markdown",
      "source": [
        "### Base Strategy"
      ],
      "metadata": {
        "id": "ggTEJjunGXE_"
      }
    },
    {
      "cell_type": "code",
      "execution_count": 14,
      "metadata": {
        "id": "xdL9oBTOxQJG"
      },
      "outputs": [],
      "source": [
        "class BaseStrategy(bt.Strategy):\n",
        "    def __init__(self):\n",
        "        super().__init__()\n",
        "        self.order = None\n",
        "\n",
        "    def log(self, txt, dt=None):\n",
        "        \"\"\"Logging function for strategy\"\"\"\n",
        "        dt = dt or self.data.datetime.datetime(0)\n",
        "        print(f'{dt.isoformat()}: {txt}')\n",
        "\n",
        "\n",
        "    def notify_order(self, order):\n",
        "        if order.status in [order.Submitted, order.Accepted]:\n",
        "            # Buy/Sell order submitted/accepted to/by broker - Nothing to do\n",
        "            return\n",
        "\n",
        "        # Check if an order has been completed\n",
        "        if order.status in [order.Completed]:\n",
        "            if order.isbuy():\n",
        "                self.log(f'BUY  Executed, {order.executed.price:.2f}')\n",
        "                pass\n",
        "            elif order.issell():\n",
        "                self.log(f'SELL Executed, {order.executed.price:.2f}')\n",
        "                pass\n",
        "            self.bar_executed = len(self)\n",
        "\n",
        "        elif order.status in [order.Canceled, order.Margin, order.Rejected]:\n",
        "            self.log(f'Order failed({order.getstatusname()})')\n",
        "\n",
        "        # Write down: no pending order\n",
        "        self.order = None\n",
        "\n",
        "    def notify_trade(self, trade):\n",
        "        if not trade.isclosed:\n",
        "            return\n",
        "        self.log(\"Trade Summary, gross: %.2f, net: %.2f, duration: %d\\n\" % (trade.pnl, trade.pnlcomm, trade.barlen))\n",
        "        # self.log(\"Trade Summary, gross: %.2f, duration: %d\\n\" % (trade.pnl, trade.barlen))"
      ]
    },
    {
      "cell_type": "markdown",
      "source": [
        "### Log Close Price Strategy"
      ],
      "metadata": {
        "id": "1rJm0o-wGcfW"
      }
    },
    {
      "cell_type": "code",
      "execution_count": 15,
      "metadata": {
        "id": "EnUExjm_zYIJ"
      },
      "outputs": [],
      "source": [
        "class LogCloseStrategy(BaseStrategy):\n",
        "    def next(self):\n",
        "        # Simply log the closing price\n",
        "        self.log('Close, %.2f' % self.data.close[0])"
      ]
    },
    {
      "cell_type": "markdown",
      "source": [
        "### Simple Buy Strategy\n",
        "\n",
        "The Simple Buy Strategy buys a stock when its price falls for three consecutive sessions."
      ],
      "metadata": {
        "id": "S4JN6rs1Gf9Y"
      }
    },
    {
      "cell_type": "code",
      "execution_count": 16,
      "metadata": {
        "id": "GH0jIvI34KnJ"
      },
      "outputs": [],
      "source": [
        "class SimpleBuyStrategy(BaseStrategy):\n",
        "    def next(self):\n",
        "        self.log('Close, %.2f' % self.data.close[0])\n",
        "\n",
        "        if self.data.close[0] < self.data.close[-1]:\n",
        "            if self.data.close[-1] < self.data.close[-2]:\n",
        "                # price has been falling 3 sessions in a row\n",
        "                self.log('BUY Triggered, %.2f' % self.data.close[0])\n",
        "                self.buy()"
      ]
    },
    {
      "cell_type": "markdown",
      "source": [
        "### Simple Trade Strategy\n",
        "\n",
        "The Simple Trade Strategy buys a stock when its price falls for three consecutive sessions and sells it after holding for n sessions."
      ],
      "metadata": {
        "id": "7-fsPYznGjNS"
      }
    },
    {
      "cell_type": "code",
      "execution_count": 17,
      "metadata": {
        "id": "s5Mp9gmgAvMo"
      },
      "outputs": [],
      "source": [
        "class SimpleTradeStrategy(BaseStrategy):\n",
        "    params = (('exitbars', 5),)\n",
        "\n",
        "    def next(self):\n",
        "        # self.log('Close, %.2f' % self.data.close[0])\n",
        "\n",
        "        if not self.position:\n",
        "            if self.data.close[0] < self.data.close[-1]:\n",
        "                if self.data.close[-1] < self.data.close[-2]:\n",
        "                    # price has been falling 3 sessions in a row\n",
        "                    self.buy()\n",
        "        else:\n",
        "            if len(self) >= (self.bar_executed + self.params.exitbars):\n",
        "                self.sell()"
      ]
    },
    {
      "cell_type": "code",
      "source": [
        "# Initialize Engine\n",
        "cerebro = bt.Cerebro()\n",
        "\n",
        "# Initialize Broker Configs\n",
        "cerebro.broker.setcash(100000.0)  # Starting with 1 Lakh cash\n",
        "cerebro.broker.setcommission(0.0003)  # 0.03% Brokerage\n",
        "\n",
        "\n",
        "# Feed Data\n",
        "data0 = bt.feeds.PandasData(dataname=data, tz=pytz.timezone('Asia/Kolkata'))\n",
        "cerebro.adddata(data0)\n",
        "\n",
        "# Add Strategy\n",
        "cerebro.addstrategy(SimpleTradeStrategy, exitbars=3)\n",
        "\n",
        "# Add Trade Analyzer\n",
        "cerebro.addanalyzer(bt.analyzers.TradeAnalyzer, _name = \"ta\")\n",
        "\n",
        "# Backtest\n",
        "print('Starting Portfolio Value: %.2f' % cerebro.broker.getvalue())\n",
        "result = cerebro.run()\n",
        "print('Final Portfolio Value: %.2f' % cerebro.broker.getvalue())"
      ],
      "metadata": {
        "colab": {
          "base_uri": "https://localhost:8080/"
        },
        "id": "7rZQCcjulQl-",
        "outputId": "17fd3f2c-0381-4c5f-d441-a4c05f1b4745"
      },
      "execution_count": 18,
      "outputs": [
        {
          "output_type": "stream",
          "name": "stdout",
          "text": [
            "Starting Portfolio Value: 100000.00\n",
            "2019-09-26T00:00:00: BUY  Executed, 11469.85\n",
            "2019-10-03T00:00:00: SELL Executed, 11322.25\n",
            "2019-10-03T00:00:00: Trade Summary, gross: -147.60, net: -154.44, duration: 4\n",
            "\n",
            "2019-10-04T00:00:00: BUY  Executed, 11388.45\n",
            "2019-10-11T00:00:00: SELL Executed, 11257.70\n",
            "2019-10-11T00:00:00: Trade Summary, gross: -130.75, net: -137.54, duration: 4\n",
            "\n",
            "2019-11-25T00:00:00: BUY  Executed, 11922.45\n",
            "2019-11-29T00:00:00: SELL Executed, 12146.20\n",
            "2019-11-29T00:00:00: Trade Summary, gross: 223.75, net: 216.53, duration: 4\n",
            "\n",
            "2019-12-03T00:00:00: BUY  Executed, 12067.65\n",
            "2019-12-09T00:00:00: SELL Executed, 11939.10\n",
            "2019-12-09T00:00:00: Trade Summary, gross: -128.55, net: -135.75, duration: 4\n",
            "\n",
            "2019-12-26T00:00:00: BUY  Executed, 12211.85\n",
            "2020-01-01T00:00:00: SELL Executed, 12202.15\n",
            "2020-01-01T00:00:00: Trade Summary, gross: -9.70, net: -17.02, duration: 4\n",
            "\n",
            "2020-01-07T00:00:00: BUY  Executed, 12079.10\n",
            "2020-01-13T00:00:00: SELL Executed, 12296.70\n",
            "2020-01-13T00:00:00: Trade Summary, gross: 217.60, net: 210.29, duration: 4\n",
            "\n",
            "2020-01-21T00:00:00: BUY  Executed, 12195.30\n",
            "2020-01-27T00:00:00: SELL Executed, 12197.10\n",
            "2020-01-27T00:00:00: Trade Summary, gross: 1.80, net: -5.52, duration: 4\n",
            "\n",
            "2020-01-29T00:00:00: BUY  Executed, 12114.90\n",
            "2020-02-04T00:00:00: SELL Executed, 11786.25\n",
            "2020-02-04T00:00:00: Trade Summary, gross: -328.65, net: -335.82, duration: 4\n",
            "\n",
            "2020-02-11T00:00:00: BUY  Executed, 12108.40\n",
            "2020-02-17T00:00:00: SELL Executed, 12131.80\n",
            "2020-02-17T00:00:00: Trade Summary, gross: 23.40, net: 16.13, duration: 4\n",
            "\n",
            "2020-02-18T00:00:00: BUY  Executed, 12028.25\n",
            "2020-02-25T00:00:00: SELL Executed, 11877.50\n",
            "2020-02-25T00:00:00: Trade Summary, gross: -150.75, net: -157.92, duration: 4\n",
            "\n",
            "2020-02-26T00:00:00: BUY  Executed, 11738.55\n",
            "2020-03-03T00:00:00: SELL Executed, 11217.55\n",
            "2020-03-03T00:00:00: Trade Summary, gross: -521.00, net: -527.89, duration: 4\n",
            "\n",
            "2020-03-11T00:00:00: BUY  Executed, 10334.30\n",
            "2020-03-17T00:00:00: SELL Executed, 9285.40\n",
            "2020-03-17T00:00:00: Trade Summary, gross: -1048.90, net: -1054.79, duration: 4\n",
            "\n",
            "2020-03-18T00:00:00: BUY  Executed, 9088.45\n",
            "2020-03-24T00:00:00: SELL Executed, 7848.30\n",
            "2020-03-24T00:00:00: Trade Summary, gross: -1240.15, net: -1245.23, duration: 4\n",
            "\n",
            "2020-04-07T00:00:00: BUY  Executed, 8446.30\n",
            "2020-04-15T00:00:00: SELL Executed, 9196.40\n",
            "2020-04-15T00:00:00: Trade Summary, gross: 750.10, net: 744.81, duration: 4\n",
            "\n",
            "2020-04-16T00:00:00: BUY  Executed, 8851.25\n",
            "2020-04-22T00:00:00: SELL Executed, 9026.75\n",
            "2020-04-22T00:00:00: Trade Summary, gross: 175.50, net: 170.14, duration: 4\n",
            "\n",
            "2020-05-06T00:00:00: BUY  Executed, 9226.80\n",
            "2020-05-12T00:00:00: SELL Executed, 9168.85\n",
            "2020-05-12T00:00:00: Trade Summary, gross: -57.95, net: -63.47, duration: 4\n",
            "\n",
            "2020-05-13T00:00:00: BUY  Executed, 9584.20\n",
            "2020-05-19T00:00:00: SELL Executed, 8961.70\n",
            "2020-05-19T00:00:00: Trade Summary, gross: -622.50, net: -628.06, duration: 4\n",
            "\n",
            "2020-05-27T00:00:00: BUY  Executed, 9082.20\n",
            "2020-06-02T00:00:00: SELL Executed, 9880.85\n",
            "2020-06-02T00:00:00: Trade Summary, gross: 798.65, net: 792.96, duration: 4\n",
            "\n",
            "2020-06-26T00:00:00: BUY  Executed, 10378.90\n",
            "2020-07-02T00:00:00: SELL Executed, 10493.05\n",
            "2020-07-02T00:00:00: Trade Summary, gross: 114.15, net: 107.89, duration: 4\n",
            "\n",
            "2020-07-28T00:00:00: BUY  Executed, 11154.10\n",
            "2020-08-03T00:00:00: SELL Executed, 11057.55\n",
            "2020-08-03T00:00:00: Trade Summary, gross: -96.55, net: -103.21, duration: 4\n",
            "\n",
            "2020-08-04T00:00:00: BUY  Executed, 10946.65\n",
            "2020-08-10T00:00:00: SELL Executed, 11270.25\n",
            "2020-08-10T00:00:00: Trade Summary, gross: 323.60, net: 316.93, duration: 4\n",
            "\n",
            "2020-08-14T00:00:00: BUY  Executed, 11353.30\n",
            "2020-08-20T00:00:00: SELL Executed, 11317.45\n",
            "2020-08-20T00:00:00: Trade Summary, gross: -35.85, net: -42.65, duration: 4\n",
            "\n",
            "2020-09-07T00:00:00: BUY  Executed, 11359.60\n",
            "2020-09-11T00:00:00: SELL Executed, 11447.80\n",
            "2020-09-11T00:00:00: Trade Summary, gross: 88.20, net: 81.36, duration: 4\n",
            "\n",
            "2020-09-21T00:00:00: BUY  Executed, 11503.80\n",
            "2020-09-25T00:00:00: SELL Executed, 10910.40\n",
            "2020-09-25T00:00:00: Trade Summary, gross: -593.40, net: -600.12, duration: 4\n",
            "\n",
            "2020-10-30T00:00:00: BUY  Executed, 11678.45\n",
            "2020-11-05T00:00:00: SELL Executed, 12062.40\n",
            "2020-11-05T00:00:00: Trade Summary, gross: 383.95, net: 376.83, duration: 4\n",
            "\n",
            "2021-01-08T00:00:00: BUY  Executed, 14258.40\n",
            "2021-01-14T00:00:00: SELL Executed, 14550.05\n",
            "2021-01-14T00:00:00: Trade Summary, gross: 291.65, net: 283.01, duration: 4\n",
            "\n",
            "2021-01-19T00:00:00: BUY  Executed, 14371.65\n",
            "2021-01-25T00:00:00: SELL Executed, 14477.80\n",
            "2021-01-25T00:00:00: Trade Summary, gross: 106.15, net: 97.50, duration: 4\n",
            "\n",
            "2021-01-27T00:00:00: BUY  Executed, 14237.95\n",
            "2021-02-02T00:00:00: SELL Executed, 14481.10\n",
            "2021-02-02T00:00:00: Trade Summary, gross: 243.15, net: 234.53, duration: 4\n",
            "\n",
            "2021-02-11T00:00:00: BUY  Executed, 15073.25\n",
            "2021-02-17T00:00:00: SELL Executed, 15279.90\n",
            "2021-02-17T00:00:00: Trade Summary, gross: 206.65, net: 197.54, duration: 4\n",
            "\n",
            "2021-02-18T00:00:00: BUY  Executed, 15238.70\n",
            "2021-02-24T00:00:00: SELL Executed, 14729.15\n",
            "2021-02-24T00:00:00: Trade Summary, gross: -509.55, net: -518.54, duration: 4\n",
            "\n",
            "2021-03-08T00:00:00: BUY  Executed, 15002.45\n",
            "2021-03-15T00:00:00: SELL Executed, 15048.40\n",
            "2021-03-15T00:00:00: Trade Summary, gross: 45.95, net: 36.93, duration: 4\n",
            "\n",
            "2021-03-16T00:00:00: BUY  Executed, 14996.10\n",
            "2021-03-22T00:00:00: SELL Executed, 14736.30\n",
            "2021-03-22T00:00:00: Trade Summary, gross: -259.80, net: -268.72, duration: 4\n",
            "\n",
            "2021-03-26T00:00:00: BUY  Executed, 14506.30\n",
            "2021-04-05T00:00:00: SELL Executed, 14837.70\n",
            "2021-04-05T00:00:00: Trade Summary, gross: 331.40, net: 322.60, duration: 4\n",
            "\n",
            "2021-04-13T00:00:00: BUY  Executed, 14364.90\n",
            "2021-04-20T00:00:00: SELL Executed, 14526.70\n",
            "2021-04-20T00:00:00: Trade Summary, gross: 161.80, net: 153.13, duration: 4\n",
            "\n",
            "2021-04-22T00:00:00: BUY  Executed, 14219.15\n",
            "2021-04-28T00:00:00: SELL Executed, 14710.50\n",
            "2021-04-28T00:00:00: Trade Summary, gross: 491.35, net: 482.67, duration: 4\n",
            "\n",
            "2021-05-14T00:00:00: BUY  Executed, 14749.40\n",
            "2021-05-20T00:00:00: SELL Executed, 15042.60\n",
            "2021-05-20T00:00:00: Trade Summary, gross: 293.20, net: 284.26, duration: 4\n",
            "\n",
            "2021-05-21T00:00:00: BUY  Executed, 14987.80\n",
            "2021-05-27T00:00:00: SELL Executed, 15323.95\n",
            "2021-05-27T00:00:00: Trade Summary, gross: 336.15, net: 327.06, duration: 4\n",
            "\n",
            "2021-06-10T00:00:00: BUY  Executed, 15692.10\n",
            "2021-06-16T00:00:00: SELL Executed, 15847.50\n",
            "2021-06-16T00:00:00: Trade Summary, gross: 155.40, net: 145.94, duration: 4\n",
            "\n",
            "2021-06-18T00:00:00: BUY  Executed, 15756.50\n",
            "2021-06-24T00:00:00: SELL Executed, 15737.30\n",
            "2021-06-24T00:00:00: Trade Summary, gross: -19.20, net: -28.65, duration: 4\n",
            "\n",
            "2021-06-30T00:00:00: BUY  Executed, 15776.90\n",
            "2021-07-06T00:00:00: SELL Executed, 15813.75\n",
            "2021-07-06T00:00:00: Trade Summary, gross: 36.85, net: 27.37, duration: 4\n",
            "\n",
            "2021-07-12T00:00:00: BUY  Executed, 15766.80\n",
            "2021-07-16T00:00:00: SELL Executed, 15958.35\n",
            "2021-07-16T00:00:00: Trade Summary, gross: 191.55, net: 182.03, duration: 4\n",
            "\n",
            "2021-07-20T00:00:00: BUY  Executed, 15703.95\n",
            "2021-07-27T00:00:00: SELL Executed, 15860.50\n",
            "2021-07-27T00:00:00: Trade Summary, gross: 156.55, net: 147.08, duration: 4\n",
            "\n",
            "2021-07-28T00:00:00: BUY  Executed, 15761.55\n",
            "2021-08-03T00:00:00: SELL Executed, 15951.55\n",
            "2021-08-03T00:00:00: Trade Summary, gross: 190.00, net: 180.49, duration: 4\n",
            "\n",
            "2021-08-23T00:00:00: BUY  Executed, 16592.25\n",
            "2021-08-27T00:00:00: SELL Executed, 16642.55\n",
            "2021-08-27T00:00:00: Trade Summary, gross: 50.30, net: 40.33, duration: 4\n",
            "\n",
            "2021-09-09T00:00:00: BUY  Executed, 17312.85\n",
            "2021-09-16T00:00:00: SELL Executed, 17539.20\n",
            "2021-09-16T00:00:00: Trade Summary, gross: 226.35, net: 215.89, duration: 4\n",
            "\n",
            "2021-09-21T00:00:00: BUY  Executed, 17450.50\n",
            "2021-09-27T00:00:00: SELL Executed, 17932.20\n",
            "2021-09-27T00:00:00: Trade Summary, gross: 481.70, net: 471.09, duration: 4\n",
            "\n",
            "2021-09-30T00:00:00: BUY  Executed, 17718.90\n",
            "2021-10-06T00:00:00: SELL Executed, 17861.50\n",
            "2021-10-06T00:00:00: Trade Summary, gross: 142.60, net: 131.93, duration: 4\n",
            "\n",
            "2021-10-21T00:00:00: BUY  Executed, 18382.70\n",
            "2021-10-27T00:00:00: SELL Executed, 18295.85\n",
            "2021-10-27T00:00:00: Trade Summary, gross: -86.85, net: -97.85, duration: 4\n",
            "\n",
            "2021-10-29T00:00:00: BUY  Executed, 17833.05\n",
            "2021-11-04T00:00:00: SELL Executed, 17935.05\n",
            "2021-11-04T00:00:00: Trade Summary, gross: 102.00, net: 91.27, duration: 4\n",
            "\n",
            "2021-11-11T00:00:00: BUY  Executed, 17967.45\n",
            "2021-11-17T00:00:00: SELL Executed, 17939.35\n",
            "2021-11-17T00:00:00: Trade Summary, gross: -28.10, net: -38.87, duration: 4\n",
            "\n",
            "2021-11-18T00:00:00: BUY  Executed, 17890.55\n",
            "2021-11-25T00:00:00: SELL Executed, 17417.30\n",
            "2021-11-25T00:00:00: Trade Summary, gross: -473.25, net: -483.84, duration: 4\n",
            "\n",
            "2021-12-07T00:00:00: BUY  Executed, 17044.10\n",
            "2021-12-13T00:00:00: SELL Executed, 17619.10\n",
            "2021-12-13T00:00:00: Trade Summary, gross: 575.00, net: 564.60, duration: 4\n",
            "\n",
            "2021-12-14T00:00:00: BUY  Executed, 17283.20\n",
            "2021-12-20T00:00:00: SELL Executed, 16824.25\n",
            "2021-12-20T00:00:00: Trade Summary, gross: -458.95, net: -469.18, duration: 4\n",
            "\n",
            "2021-12-21T00:00:00: BUY  Executed, 16773.15\n",
            "2021-12-27T00:00:00: SELL Executed, 16937.75\n",
            "2021-12-27T00:00:00: Trade Summary, gross: 164.60, net: 154.49, duration: 4\n",
            "\n",
            "2021-12-31T00:00:00: BUY  Executed, 17244.50\n",
            "2022-01-06T00:00:00: SELL Executed, 17768.50\n",
            "2022-01-06T00:00:00: Trade Summary, gross: 524.00, net: 513.50, duration: 4\n",
            "\n",
            "2022-01-20T00:00:00: BUY  Executed, 17921.00\n",
            "2022-01-27T00:00:00: SELL Executed, 17062.00\n",
            "2022-01-27T00:00:00: Trade Summary, gross: -859.00, net: -869.49, duration: 4\n",
            "\n",
            "2022-01-31T00:00:00: BUY  Executed, 17301.05\n",
            "2022-02-04T00:00:00: SELL Executed, 17590.20\n",
            "2022-02-04T00:00:00: Trade Summary, gross: 289.15, net: 278.68, duration: 4\n",
            "\n",
            "2022-02-07T00:00:00: BUY  Executed, 17456.30\n",
            "2022-02-11T00:00:00: SELL Executed, 17451.00\n",
            "2022-02-11T00:00:00: Trade Summary, gross: -5.30, net: -15.77, duration: 4\n",
            "\n",
            "2022-02-15T00:00:00: BUY  Executed, 16933.25\n",
            "2022-02-21T00:00:00: SELL Executed, 17192.25\n",
            "2022-02-21T00:00:00: Trade Summary, gross: 259.00, net: 248.76, duration: 4\n",
            "\n",
            "2022-02-22T00:00:00: BUY  Executed, 16847.95\n",
            "2022-02-28T00:00:00: SELL Executed, 16481.60\n",
            "2022-02-28T00:00:00: Trade Summary, gross: -366.35, net: -376.35, duration: 4\n",
            "\n",
            "2022-03-04T00:00:00: BUY  Executed, 16339.45\n",
            "2022-03-10T00:00:00: SELL Executed, 16757.10\n",
            "2022-03-10T00:00:00: Trade Summary, gross: 417.65, net: 407.72, duration: 4\n",
            "\n",
            "2022-03-25T00:00:00: BUY  Executed, 17289.00\n",
            "2022-03-31T00:00:00: SELL Executed, 17519.20\n",
            "2022-03-31T00:00:00: Trade Summary, gross: 230.20, net: 219.76, duration: 4\n",
            "\n",
            "2022-04-07T00:00:00: BUY  Executed, 17723.30\n",
            "2022-04-13T00:00:00: SELL Executed, 17599.90\n",
            "2022-04-13T00:00:00: Trade Summary, gross: -123.40, net: -134.00, duration: 4\n",
            "\n",
            "2022-04-18T00:00:00: BUY  Executed, 17183.45\n",
            "2022-04-22T00:00:00: SELL Executed, 17242.75\n",
            "2022-04-22T00:00:00: Trade Summary, gross: 59.30, net: 48.97, duration: 4\n",
            "\n",
            "2022-04-26T00:00:00: BUY  Executed, 17121.30\n",
            "2022-05-02T00:00:00: SELL Executed, 16924.45\n",
            "2022-05-02T00:00:00: Trade Summary, gross: -196.85, net: -207.06, duration: 4\n",
            "\n",
            "2022-05-04T00:00:00: BUY  Executed, 17096.60\n",
            "2022-05-10T00:00:00: SELL Executed, 16248.90\n",
            "2022-05-10T00:00:00: Trade Summary, gross: -847.70, net: -857.70, duration: 4\n",
            "\n",
            "2022-05-11T00:00:00: BUY  Executed, 16270.05\n",
            "2022-05-17T00:00:00: SELL Executed, 15912.60\n",
            "2022-05-17T00:00:00: Trade Summary, gross: -357.45, net: -367.10, duration: 4\n",
            "\n",
            "2022-05-20T00:00:00: BUY  Executed, 16043.80\n",
            "2022-05-26T00:00:00: SELL Executed, 16105.00\n",
            "2022-05-26T00:00:00: Trade Summary, gross: 61.20, net: 51.56, duration: 4\n",
            "\n",
            "2022-06-02T00:00:00: BUY  Executed, 16481.65\n",
            "2022-06-08T00:00:00: SELL Executed, 16474.95\n",
            "2022-06-08T00:00:00: Trade Summary, gross: -6.70, net: -16.59, duration: 4\n",
            "\n",
            "2022-06-09T00:00:00: BUY  Executed, 16263.85\n",
            "2022-06-15T00:00:00: SELL Executed, 15729.25\n",
            "2022-06-15T00:00:00: Trade Summary, gross: -534.60, net: -544.20, duration: 4\n",
            "\n",
            "2022-06-16T00:00:00: BUY  Executed, 15832.25\n",
            "2022-06-22T00:00:00: SELL Executed, 15545.65\n",
            "2022-06-22T00:00:00: Trade Summary, gross: -286.60, net: -296.01, duration: 4\n",
            "\n",
            "2022-07-01T00:00:00: BUY  Executed, 15703.70\n",
            "2022-07-07T00:00:00: SELL Executed, 16113.75\n",
            "2022-07-07T00:00:00: Trade Summary, gross: 410.05, net: 400.50, duration: 4\n",
            "\n",
            "2022-07-13T00:00:00: BUY  Executed, 16128.20\n",
            "2022-07-19T00:00:00: SELL Executed, 16187.05\n",
            "2022-07-19T00:00:00: Trade Summary, gross: 58.85, net: 49.16, duration: 4\n",
            "\n",
            "2022-07-27T00:00:00: BUY  Executed, 16475.35\n",
            "2022-08-02T00:00:00: SELL Executed, 17310.15\n",
            "2022-08-02T00:00:00: Trade Summary, gross: 834.80, net: 824.66, duration: 4\n",
            "\n",
            "2022-08-23T00:00:00: BUY  Executed, 17357.35\n",
            "2022-08-29T00:00:00: SELL Executed, 17188.65\n",
            "2022-08-29T00:00:00: Trade Summary, gross: -168.70, net: -179.06, duration: 4\n",
            "\n",
            "2022-09-05T00:00:00: BUY  Executed, 17546.45\n",
            "2022-09-09T00:00:00: SELL Executed, 17923.35\n",
            "2022-09-09T00:00:00: Trade Summary, gross: 376.90, net: 366.26, duration: 4\n",
            "\n",
            "2022-09-16T00:00:00: BUY  Executed, 17796.80\n",
            "2022-09-22T00:00:00: SELL Executed, 17609.65\n",
            "2022-09-22T00:00:00: Trade Summary, gross: -187.15, net: -197.77, duration: 4\n",
            "\n",
            "2022-09-23T00:00:00: BUY  Executed, 17593.85\n",
            "2022-09-29T00:00:00: SELL Executed, 16993.60\n",
            "2022-09-29T00:00:00: Trade Summary, gross: -600.25, net: -610.63, duration: 4\n",
            "\n",
            "2022-09-30T00:00:00: BUY  Executed, 16798.05\n",
            "2022-10-07T00:00:00: SELL Executed, 17287.20\n",
            "2022-10-07T00:00:00: Trade Summary, gross: 489.15, net: 478.92, duration: 4\n",
            "\n",
            "2022-10-11T00:00:00: BUY  Executed, 17256.05\n",
            "2022-10-17T00:00:00: SELL Executed, 17144.80\n",
            "2022-10-17T00:00:00: Trade Summary, gross: -111.25, net: -121.57, duration: 4\n",
            "\n",
            "2022-11-04T00:00:00: BUY  Executed, 18053.40\n",
            "2022-11-11T00:00:00: SELL Executed, 18272.35\n",
            "2022-11-11T00:00:00: Trade Summary, gross: 218.95, net: 208.05, duration: 4\n",
            "\n",
            "2022-11-21T00:00:00: BUY  Executed, 18246.40\n",
            "2022-11-25T00:00:00: SELL Executed, 18528.45\n",
            "2022-11-25T00:00:00: Trade Summary, gross: 282.05, net: 271.02, duration: 4\n",
            "\n",
            "2022-12-08T00:00:00: BUY  Executed, 18570.85\n",
            "2022-12-14T00:00:00: SELL Executed, 18671.25\n",
            "2022-12-14T00:00:00: Trade Summary, gross: 100.40, net: 89.23, duration: 4\n",
            "\n",
            "2022-12-19T00:00:00: BUY  Executed, 18288.10\n",
            "2022-12-23T00:00:00: SELL Executed, 17977.65\n",
            "2022-12-23T00:00:00: Trade Summary, gross: -310.45, net: -321.33, duration: 4\n",
            "\n",
            "2022-12-26T00:00:00: BUY  Executed, 17830.40\n",
            "2022-12-30T00:00:00: SELL Executed, 18259.10\n",
            "2022-12-30T00:00:00: Trade Summary, gross: 428.70, net: 417.87, duration: 4\n",
            "\n",
            "2023-01-06T00:00:00: BUY  Executed, 18008.05\n",
            "2023-01-12T00:00:00: SELL Executed, 17920.85\n",
            "2023-01-12T00:00:00: Trade Summary, gross: -87.20, net: -97.98, duration: 4\n",
            "\n",
            "2023-01-13T00:00:00: BUY  Executed, 17867.50\n",
            "2023-01-19T00:00:00: SELL Executed, 18119.80\n",
            "2023-01-19T00:00:00: Trade Summary, gross: 252.30, net: 241.50, duration: 4\n",
            "\n",
            "2023-01-23T00:00:00: BUY  Executed, 18118.45\n",
            "2023-01-30T00:00:00: SELL Executed, 17541.95\n",
            "2023-01-30T00:00:00: Trade Summary, gross: -576.50, net: -587.20, duration: 4\n",
            "\n",
            "2023-02-03T00:00:00: BUY  Executed, 17721.75\n",
            "2023-02-09T00:00:00: SELL Executed, 17885.50\n",
            "2023-02-09T00:00:00: Trade Summary, gross: 163.75, net: 153.07, duration: 4\n",
            "\n",
            "2023-02-14T00:00:00: BUY  Executed, 17840.35\n",
            "2023-02-20T00:00:00: SELL Executed, 17965.55\n",
            "2023-02-20T00:00:00: Trade Summary, gross: 125.20, net: 114.46, duration: 4\n",
            "\n",
            "2023-02-21T00:00:00: BUY  Executed, 17905.80\n",
            "2023-02-27T00:00:00: SELL Executed, 17428.60\n",
            "2023-02-27T00:00:00: Trade Summary, gross: -477.20, net: -487.80, duration: 4\n",
            "\n",
            "2023-02-28T00:00:00: BUY  Executed, 17383.25\n",
            "2023-03-06T00:00:00: SELL Executed, 17680.35\n",
            "2023-03-06T00:00:00: Trade Summary, gross: 297.10, net: 286.58, duration: 4\n",
            "\n",
            "2023-03-13T00:00:00: BUY  Executed, 17421.90\n",
            "2023-03-17T00:00:00: SELL Executed, 17111.80\n",
            "2023-03-17T00:00:00: Trade Summary, gross: -310.10, net: -320.46, duration: 4\n",
            "\n",
            "2023-03-27T00:00:00: BUY  Executed, 16984.30\n",
            "2023-04-03T00:00:00: SELL Executed, 17427.95\n",
            "2023-04-03T00:00:00: Trade Summary, gross: 443.65, net: 433.33, duration: 4\n",
            "\n",
            "2023-04-19T00:00:00: BUY  Executed, 17653.35\n",
            "2023-04-25T00:00:00: SELL Executed, 17761.55\n",
            "2023-04-25T00:00:00: Trade Summary, gross: 108.20, net: 97.58, duration: 4\n",
            "\n",
            "2023-05-18T00:00:00: BUY  Executed, 18287.50\n",
            "2023-05-24T00:00:00: SELL Executed, 18294.80\n",
            "2023-05-24T00:00:00: Trade Summary, gross: 7.30, net: -3.67, duration: 4\n",
            "\n",
            "2023-06-02T00:00:00: BUY  Executed, 18550.85\n",
            "2023-06-08T00:00:00: SELL Executed, 18725.35\n",
            "2023-06-08T00:00:00: Trade Summary, gross: 174.50, net: 163.32, duration: 4\n",
            "\n",
            "2023-06-12T00:00:00: BUY  Executed, 18595.05\n",
            "2023-06-16T00:00:00: SELL Executed, 18723.30\n",
            "2023-06-16T00:00:00: Trade Summary, gross: 128.25, net: 117.05, duration: 4\n",
            "\n",
            "2023-06-26T00:00:00: BUY  Executed, 18682.35\n",
            "2023-07-03T00:00:00: SELL Executed, 19246.50\n",
            "2023-07-03T00:00:00: Trade Summary, gross: 564.15, net: 552.77, duration: 4\n",
            "\n",
            "2023-07-25T00:00:00: BUY  Executed, 19729.35\n",
            "2023-07-31T00:00:00: SELL Executed, 19666.35\n",
            "2023-07-31T00:00:00: Trade Summary, gross: -63.00, net: -74.82, duration: 4\n",
            "\n",
            "2023-08-03T00:00:00: BUY  Executed, 19463.75\n",
            "2023-08-09T00:00:00: SELL Executed, 19578.80\n",
            "2023-08-09T00:00:00: Trade Summary, gross: 115.05, net: 103.34, duration: 4\n",
            "\n",
            "2023-08-14T00:00:00: BUY  Executed, 19383.95\n",
            "2023-08-21T00:00:00: SELL Executed, 19320.65\n",
            "2023-08-21T00:00:00: Trade Summary, gross: -63.30, net: -74.91, duration: 4\n",
            "\n",
            "2023-08-28T00:00:00: BUY  Executed, 19298.35\n",
            "2023-09-01T00:00:00: SELL Executed, 19258.15\n",
            "2023-09-01T00:00:00: Trade Summary, gross: -40.20, net: -51.77, duration: 4\n",
            "\n",
            "2023-09-21T00:00:00: BUY  Executed, 19840.55\n",
            "2023-09-27T00:00:00: SELL Executed, 19637.05\n",
            "2023-09-27T00:00:00: Trade Summary, gross: -203.50, net: -215.34, duration: 4\n",
            "\n",
            "2023-10-05T00:00:00: BUY  Executed, 19521.85\n",
            "2023-10-11T00:00:00: SELL Executed, 19767.00\n",
            "2023-10-11T00:00:00: Trade Summary, gross: 245.15, net: 233.36, duration: 4\n",
            "\n",
            "2023-10-16T00:00:00: BUY  Executed, 19737.25\n",
            "2023-10-20T00:00:00: SELL Executed, 19542.15\n",
            "2023-10-20T00:00:00: Trade Summary, gross: -195.10, net: -206.88, duration: 4\n",
            "\n",
            "2023-10-23T00:00:00: BUY  Executed, 19521.60\n",
            "2023-10-30T00:00:00: SELL Executed, 19053.40\n",
            "2023-10-30T00:00:00: Trade Summary, gross: -468.20, net: -479.77, duration: 4\n",
            "\n",
            "2023-11-02T00:00:00: BUY  Executed, 19120.00\n",
            "2023-11-08T00:00:00: SELL Executed, 19449.60\n",
            "2023-11-08T00:00:00: Trade Summary, gross: 329.60, net: 318.03, duration: 4\n",
            "\n",
            "2023-11-21T00:00:00: BUY  Executed, 19770.90\n",
            "2023-11-28T00:00:00: SELL Executed, 19844.65\n",
            "2023-11-28T00:00:00: Trade Summary, gross: 73.75, net: 61.87, duration: 4\n",
            "\n",
            "2024-01-04T00:00:00: BUY  Executed, 21605.80\n",
            "2024-01-10T00:00:00: SELL Executed, 21529.30\n",
            "2024-01-10T00:00:00: Trade Summary, gross: -76.50, net: -89.44, duration: 4\n",
            "\n",
            "2024-01-18T00:00:00: BUY  Executed, 21414.20\n",
            "2024-01-25T00:00:00: SELL Executed, 21454.60\n",
            "2024-01-25T00:00:00: Trade Summary, gross: 40.40, net: 27.54, duration: 4\n",
            "\n",
            "2024-02-27T00:00:00: BUY  Executed, 22090.20\n",
            "2024-03-04T00:00:00: SELL Executed, 22403.50\n",
            "2024-03-04T00:00:00: Trade Summary, gross: 313.30, net: 299.95, duration: 4\n",
            "\n",
            "2024-04-04T00:00:00: BUY  Executed, 22592.10\n",
            "2024-04-10T00:00:00: SELL Executed, 22720.25\n",
            "2024-04-10T00:00:00: Trade Summary, gross: 128.15, net: 114.56, duration: 4\n",
            "\n",
            "2024-04-16T00:00:00: BUY  Executed, 22125.30\n",
            "2024-04-23T00:00:00: SELL Executed, 22447.05\n",
            "2024-04-23T00:00:00: Trade Summary, gross: 321.75, net: 308.38, duration: 4\n",
            "\n",
            "2024-05-07T00:00:00: BUY  Executed, 22489.75\n",
            "2024-05-13T00:00:00: SELL Executed, 22027.95\n",
            "2024-05-13T00:00:00: Trade Summary, gross: -461.80, net: -475.16, duration: 4\n",
            "\n",
            "2024-05-28T00:00:00: BUY  Executed, 22977.15\n",
            "2024-06-03T00:00:00: SELL Executed, 23337.90\n",
            "2024-06-03T00:00:00: Trade Summary, gross: 360.75, net: 346.86, duration: 4\n",
            "\n",
            "2024-07-12T00:00:00: BUY  Executed, 24387.95\n",
            "2024-07-19T00:00:00: SELL Executed, 24853.80\n",
            "2024-07-19T00:00:00: Trade Summary, gross: 465.85, net: 451.08, duration: 4\n",
            "\n",
            "2024-07-23T00:00:00: BUY  Executed, 24568.90\n",
            "2024-07-29T00:00:00: SELL Executed, 24943.30\n",
            "2024-07-29T00:00:00: Trade Summary, gross: 374.40, net: 359.55, duration: 4\n",
            "\n",
            "2024-08-06T00:00:00: BUY  Executed, 24189.85\n",
            "2024-08-12T00:00:00: SELL Executed, 24320.05\n",
            "2024-08-12T00:00:00: Trade Summary, gross: 130.20, net: 115.65, duration: 4\n",
            "\n",
            "2024-08-14T00:00:00: BUY  Executed, 24184.40\n",
            "2024-08-21T00:00:00: SELL Executed, 24680.55\n",
            "2024-08-21T00:00:00: Trade Summary, gross: 496.15, net: 481.49, duration: 4\n",
            "\n",
            "2024-09-06T00:00:00: BUY  Executed, 25093.70\n",
            "2024-09-12T00:00:00: SELL Executed, 25059.65\n",
            "2024-09-12T00:00:00: Trade Summary, gross: -34.05, net: -49.10, duration: 4\n",
            "\n",
            "Final Portfolio Value: 102617.47\n"
          ]
        }
      ]
    },
    {
      "cell_type": "markdown",
      "metadata": {
        "id": "TR58tvBBM9YM"
      },
      "source": [
        "## Analyze Trading Strategy"
      ]
    },
    {
      "cell_type": "code",
      "source": [
        "def display_trade_analysis(stats):\n",
        "    \"\"\"\n",
        "    Displays a summary of trade analysis based on Backtrader's Analyzer results.\n",
        "\n",
        "    This function prints out key statistics such as the number of open trades, closed trades, win/loss ratio,\n",
        "    longest winning/losing streak, and overall net profit/loss. It also calculates and displays the strike rate\n",
        "    (percentage of won trades out of total closed trades).\n",
        "\n",
        "    :param stats: Backtrader's TradeAnalyzer object that holds trade performance metrics.\n",
        "    \"\"\"\n",
        "    try:\n",
        "        # Retrieve key metrics from the trade statistics\n",
        "        total_open = stats.total.open       # Number of trades still open\n",
        "        total_closed = stats.total.closed   # Number of trades that have been closed\n",
        "        total_won = stats.won.total         # Total number of winning trades\n",
        "        total_lost = stats.lost.total       # Total number of losing trades\n",
        "        win_streak = stats.streak.won.longest   # Longest winning streak\n",
        "        lost_streak = stats.streak.lost.longest # Longest losing streak\n",
        "        pnl_net = round(stats.pnl.net.total, 2) # Net profit/loss, rounded to 2 decimal places\n",
        "\n",
        "        # Calculate strike rate (percentage of closed trades that were winners)\n",
        "        strike_rate = round((total_won / total_closed) * 100, 2) if total_closed > 0 else 0\n",
        "\n",
        "        # Define headers and values for display\n",
        "        headers_1 = [\"Total Open\", \"Total Closed\", \"Total Won\", \"Total Lost\"]\n",
        "        headers_2 = [\"Strike Rate(%)\", \"Win Streak\", \"Loss Streak\", \"Net PnL\"]\n",
        "        row_1 = [total_open, total_closed, total_won, total_lost]\n",
        "        row_2 = [strike_rate, win_streak, lost_streak, pnl_net]\n",
        "\n",
        "        # Determine the longest header length for formatting consistency\n",
        "        max_header_length = max(len(headers_1), len(headers_2))\n",
        "\n",
        "        # Prepare rows for display\n",
        "        rows_to_display = [headers_1, row_1, headers_2, row_2]\n",
        "\n",
        "        # Define the formatting for the display (20 characters width for each column)\n",
        "        row_format = \"{:<20}\" * (max_header_length + 1)\n",
        "\n",
        "        # Display the results\n",
        "        print(\"\\nTrade Analysis Results:\")\n",
        "        print(\"-\" * 100)\n",
        "        for row in rows_to_display:\n",
        "            print(row_format.format(\"\", *row))\n",
        "        print(\"-\" * 100)\n",
        "\n",
        "    except (KeyError, AttributeError) as e:\n",
        "        # Handle cases where no trade data is available or stats fields are missing\n",
        "        print(\"No trade analysis available. It seems no trades have been taken or the stats are incomplete.\")\n",
        "        print(f\"Error details: {e}\")\n"
      ],
      "metadata": {
        "id": "OFIfnARgbZRu"
      },
      "execution_count": 19,
      "outputs": []
    },
    {
      "cell_type": "markdown",
      "source": [
        "### Display Analysis Result"
      ],
      "metadata": {
        "id": "bqytuoYJ_YvN"
      }
    },
    {
      "cell_type": "code",
      "source": [
        "# To print the full analysis (raw data)\n",
        "# result[0].analyzers.ta.print()\n",
        "\n",
        "# To display a clean, summarized format of the analysis\n",
        "display_trade_analysis(result[0].analyzers.ta.get_analysis())"
      ],
      "metadata": {
        "colab": {
          "base_uri": "https://localhost:8080/"
        },
        "id": "m9bKgUVXgLIC",
        "outputId": "1daf79c1-b0db-4585-9b21-3bf47579c053"
      },
      "execution_count": 21,
      "outputs": [
        {
          "output_type": "stream",
          "name": "stdout",
          "text": [
            "\n",
            "Trade Analysis Results:\n",
            "----------------------------------------------------------------------------------------------------\n",
            "                    Total Open          Total Closed        Total Won           Total Lost          \n",
            "                    0                   121                 70                  51                  \n",
            "                    Strike Rate(%)      Win Streak          Loss Streak         Net PnL             \n",
            "                    57.85               8                   4                   2617.47             \n",
            "----------------------------------------------------------------------------------------------------\n"
          ]
        }
      ]
    },
    {
      "cell_type": "markdown",
      "metadata": {
        "id": "4ubRbO0vSl3P"
      },
      "source": [
        "## Implementing Practical Trade Strategies"
      ]
    },
    {
      "cell_type": "markdown",
      "metadata": {
        "id": "zdoXWfPgJ4NI"
      },
      "source": [
        "### Simple Moving Average Crossover Strategy\n",
        "\n",
        "Traders often use moving averages to identify trends and potential entry/exit points. A basic moving average strategy might involve buying when the price moves above a moving average and selling when it falls below\n",
        "\n",
        "\n",
        "A moving average crossover system is an improvisation over the plain vanilla moving average system. Instead of the usual single moving average in a MA crossover system, the trader combines two moving averages.\n",
        "\n",
        "The entry and exit rules for the crossover system is as stated below:\n",
        "\n",
        "1. Buy (fresh long) when the short term moving averages turns greater than the long term moving average. Stay in the trade as long as this condition is satisfied\n",
        "\n",
        "2. Exit the long position (square off) when the short term moving average turns lesser than the longer-term moving average"
      ]
    },
    {
      "cell_type": "code",
      "source": [
        "class SmaCross(BaseStrategy):\n",
        "    # list of parameters which are configurable for the strategy\n",
        "    params = dict(\n",
        "        pfast=10,  # period for the fast moving average\n",
        "        pslow=30   # period for the slow moving average\n",
        "    )\n",
        "\n",
        "    def __init__(self):\n",
        "        sma1 = bt.ind.SMA(period=self.params.pfast)  # fast moving average\n",
        "        sma2 = bt.ind.SMA(period=self.params.pslow)  # slow moving average\n",
        "        self.crossover = bt.ind.CrossOver(sma1, sma2)  # crossover signal\n",
        "\n",
        "    def next(self):\n",
        "        if not self.position:  # not in the market\n",
        "            if self.crossover > 0:  # if fast crosses slow to the upside\n",
        "                self.log(f'Buy : %.2f' % (self.data[0]))\n",
        "                self.buy()  # enter long\n",
        "\n",
        "        elif self.crossover < 0:  # in the market & cross to the downside\n",
        "            self.log(f'Sell: %.2f' % (self.data[0]))\n",
        "            self.close()  # close long position"
      ],
      "metadata": {
        "id": "uHy4VIiFiwGu"
      },
      "execution_count": 22,
      "outputs": []
    },
    {
      "cell_type": "markdown",
      "source": [
        "### Exponential Moving Average Crossover Strategy\n",
        "\n",
        "An exponential moving average (EMA) scales the data according to its newness. Recent data gets the maximum weightage, and the oldest gets the least weightage.\n",
        "\n",
        "In a crossover system, the price chart is overlaid with two EMAs. The shorter EMA is faster to react, while the longer EMA is slower to react.\n",
        "\n",
        "The outlook turns bullish when the faster EMA crosses and is above the slower EMA. Hence one should look at buying the stock. The trade lasts upto a point where the faster EMA starts going below, the slower EMA"
      ],
      "metadata": {
        "id": "vzBkSfLYqXSB"
      }
    },
    {
      "cell_type": "code",
      "source": [
        "class EmaCross(BaseStrategy):\n",
        "    # list of parameters which are configurable for the strategy\n",
        "    params = dict(\n",
        "        pfast=7,  # period for the fast moving average\n",
        "        pslow=21   # period for the slow moving average\n",
        "    )\n",
        "\n",
        "    def __init__(self):\n",
        "        ema1 = bt.ind.EMA(period=self.params.pfast)  # fast moving average\n",
        "        ema2 = bt.ind.EMA(period=self.params.pslow)  # slow moving average\n",
        "        self.crossover = bt.ind.CrossOver(ema1, ema2)  # crossover signal\n",
        "\n",
        "    def next(self):\n",
        "        if not self.position:  # not in the market\n",
        "            if self.crossover > 0:  # if fast crosses slow to the upside\n",
        "                self.log(f'Buy : %.2f' % (self.data[0]))\n",
        "                self.buy()  # enter long\n",
        "\n",
        "        elif self.crossover < 0:  # in the market & cross to the downside\n",
        "            self.log(f'Sell: %.2f' % (self.data[0]))\n",
        "            self.close()  # close long position"
      ],
      "metadata": {
        "id": "HokFASc5l9Lp"
      },
      "execution_count": 23,
      "outputs": []
    },
    {
      "cell_type": "markdown",
      "source": [
        "### Relative strength Index Strategy\n",
        "Relative strength Index or just RSI is the most popular leading indicator, which gives out the strongest signals during the periods of sideways and non-trending ranges.\n",
        "\n",
        "RSI is a momentum oscillator which oscillates between 0 and 100 level.\n",
        "\n",
        "A value between 0 and 30 is considered oversold. Hence the trader should look at buying opportunities.\n",
        "\n",
        "A value between 70 and 100 is considered overbought. Hence the trader should look at selling opportunities."
      ],
      "metadata": {
        "id": "0ABbtK06tV_x"
      }
    },
    {
      "cell_type": "code",
      "source": [
        "class RSI(BaseStrategy):\n",
        "    # List of parameters which are configurable for the strategy\n",
        "    params = dict(\n",
        "        period=14,            # Period for the RSI calculation\n",
        "        rsi_overbought=60,    # Upper threshold for RSI (overbought)\n",
        "        rsi_oversold=40       # Lower threshold for RSI (oversold)\n",
        "    )\n",
        "\n",
        "    def __init__(self):\n",
        "        # Initialize the RSI indicator\n",
        "        self.rsi = bt.ind.RSI(period=self.params.period)\n",
        "\n",
        "    def next(self):\n",
        "        # self.log(self.rsi[0])\n",
        "        if not self.position:\n",
        "            if self.rsi[0] < self.params.rsi_oversold:\n",
        "                self.log(f'Buy : %.2f' % (self.data[0]))\n",
        "                self.buy()  # enter long\n",
        "        elif self.rsi[0] > self.params.rsi_overbought:\n",
        "            self.log(f'Sell: %.2f' % (self.data[0]))\n",
        "            self.close()  # close long position"
      ],
      "metadata": {
        "id": "yTUmFxYhtXnQ"
      },
      "execution_count": 24,
      "outputs": []
    },
    {
      "cell_type": "code",
      "source": [
        "# Initialize Engine\n",
        "cerebro = bt.Cerebro()\n",
        "\n",
        "# Initialize Broker Configs\n",
        "cerebro.broker.setcash(1000000.0)  # Starting with 1 Lakh cash\n",
        "# cerebro.broker.setcommission(0.0003)  # 0.03% Brokerage\n",
        "\n",
        "\n",
        "# Feed Data\n",
        "data0 = bt.feeds.PandasData(dataname=data, tz=pytz.timezone('Asia/Kolkata'))\n",
        "cerebro.adddata(data0)\n",
        "\n",
        "# Add Strategy\n",
        "cerebro.addstrategy(RSI)\n",
        "\n",
        "# Add Trade Analyzer\n",
        "cerebro.addanalyzer(bt.analyzers.TradeAnalyzer, _name = \"ta\")\n",
        "\n",
        "# Backtest\n",
        "print('Starting Portfolio Value: %.2f' % cerebro.broker.getvalue())\n",
        "result = cerebro.run()\n",
        "print('Final Portfolio Value: %.2f' % cerebro.broker.getvalue())"
      ],
      "metadata": {
        "colab": {
          "base_uri": "https://localhost:8080/"
        },
        "id": "Mhl0aq0HJlct",
        "outputId": "daa29672-035d-47af-dfbd-459f1d67d35e"
      },
      "execution_count": 25,
      "outputs": [
        {
          "output_type": "stream",
          "name": "stdout",
          "text": [
            "Starting Portfolio Value: 1000000.00\n",
            "2020-01-31T00:00:00: Buy : 11962.10\n",
            "2020-02-03T00:00:00: BUY  Executed, 11627.45\n",
            "2020-06-01T00:00:00: Sell: 9826.15\n",
            "2020-06-02T00:00:00: SELL Executed, 9880.85\n",
            "2020-06-02T00:00:00: Trade Summary, gross: -1746.60, net: -1746.60, duration: 78\n",
            "\n",
            "2020-09-23T00:00:00: Buy : 11131.85\n",
            "2020-09-24T00:00:00: BUY  Executed, 11011.00\n",
            "2020-10-06T00:00:00: Sell: 11662.40\n",
            "2020-10-07T00:00:00: SELL Executed, 11679.25\n",
            "2020-10-07T00:00:00: Trade Summary, gross: 668.25, net: 668.25, duration: 8\n",
            "\n",
            "2021-01-29T00:00:00: Buy : 13634.60\n",
            "2021-02-01T00:00:00: BUY  Executed, 13758.60\n",
            "2021-02-02T00:00:00: Sell: 14647.85\n",
            "2021-02-03T00:00:00: SELL Executed, 14754.90\n",
            "2021-02-03T00:00:00: Trade Summary, gross: 996.30, net: 996.30, duration: 2\n",
            "\n",
            "2021-03-25T00:00:00: Buy : 14324.90\n",
            "2021-03-26T00:00:00: BUY  Executed, 14506.30\n",
            "2021-05-18T00:00:00: Sell: 15108.10\n",
            "2021-05-19T00:00:00: SELL Executed, 15058.60\n",
            "2021-05-19T00:00:00: Trade Summary, gross: 552.30, net: 552.30, duration: 33\n",
            "\n",
            "2021-11-22T00:00:00: Buy : 17416.55\n",
            "2021-11-23T00:00:00: BUY  Executed, 17281.75\n",
            "2022-01-04T00:00:00: Sell: 17805.25\n",
            "2022-01-05T00:00:00: SELL Executed, 17820.10\n",
            "2022-01-05T00:00:00: Trade Summary, gross: 538.35, net: 538.35, duration: 31\n",
            "\n",
            "2022-01-24T00:00:00: Buy : 17149.10\n",
            "2022-01-25T00:00:00: BUY  Executed, 17001.55\n",
            "2022-04-01T00:00:00: Sell: 17670.45\n",
            "2022-04-04T00:00:00: SELL Executed, 17809.10\n",
            "2022-04-04T00:00:00: Trade Summary, gross: 807.55, net: 807.55, duration: 46\n",
            "\n",
            "2022-05-04T00:00:00: Buy : 16677.60\n",
            "2022-05-05T00:00:00: BUY  Executed, 16854.75\n",
            "2022-07-19T00:00:00: Sell: 16340.55\n",
            "2022-07-20T00:00:00: SELL Executed, 16562.80\n",
            "2022-07-20T00:00:00: Trade Summary, gross: -291.95, net: -291.95, duration: 54\n",
            "\n",
            "2022-09-26T00:00:00: Buy : 17016.30\n",
            "2022-09-27T00:00:00: BUY  Executed, 17110.90\n",
            "2022-10-24T00:00:00: Sell: 17730.75\n",
            "2022-10-25T00:00:00: SELL Executed, 17808.30\n",
            "2022-10-25T00:00:00: Trade Summary, gross: 697.40, net: 697.40, duration: 19\n",
            "\n",
            "2022-12-23T00:00:00: Buy : 17806.80\n",
            "2022-12-26T00:00:00: BUY  Executed, 17830.40\n",
            "2023-04-10T00:00:00: Sell: 17624.05\n",
            "2023-04-11T00:00:00: SELL Executed, 17704.80\n",
            "2023-04-11T00:00:00: Trade Summary, gross: -125.60, net: -125.60, duration: 71\n",
            "\n",
            "2023-10-23T00:00:00: Buy : 19281.75\n",
            "2023-10-25T00:00:00: BUY  Executed, 19286.45\n",
            "2023-11-16T00:00:00: Sell: 19765.20\n",
            "2023-11-17T00:00:00: SELL Executed, 19674.75\n",
            "2023-11-17T00:00:00: Trade Summary, gross: 388.30, net: 388.30, duration: 16\n",
            "\n",
            "2024-05-09T00:00:00: Buy : 21957.50\n",
            "2024-05-10T00:00:00: BUY  Executed, 21990.95\n",
            "2024-05-23T00:00:00: Sell: 22967.65\n",
            "2024-05-24T00:00:00: SELL Executed, 22930.75\n",
            "2024-05-24T00:00:00: Trade Summary, gross: 939.80, net: 939.80, duration: 9\n",
            "\n",
            "Final Portfolio Value: 1003424.10\n"
          ]
        }
      ]
    },
    {
      "cell_type": "markdown",
      "source": [
        "## Strategy with Target and StopLoss"
      ],
      "metadata": {
        "id": "rmfflN80_nJk"
      }
    },
    {
      "cell_type": "markdown",
      "source": [
        "### MaruBozu Strategy\n",
        "\n",
        "Marubozu is a candlestick with no upper and lower shadow.\n",
        "\n",
        "- A bullish marubozu indicates bullishness.\n",
        "    - Buy around the closing price of a bullish marubozu\n",
        "    - Keep the low of the marubozu as the stoploss\n",
        "- A bearish marubozu indicates bearishness.\n",
        "    - Sell around the closing price of a bearish marubozu\n",
        "    - Keep the high of the marubozu as the stoploss"
      ],
      "metadata": {
        "id": "qzIam04dKtT_"
      }
    },
    {
      "cell_type": "code",
      "source": [
        "class MarubozuStrategy(BaseStrategy):\n",
        "    params = dict(\n",
        "        rrr=2,  # risk reward ratio\n",
        "    )\n",
        "\n",
        "    def __init__(self):\n",
        "        super().__init__()\n",
        "        self.orefs = []\n",
        "\n",
        "        # Marubozu indicator\n",
        "        self.marubozu = bt.talib.CDLMARUBOZU(self.data.open, self.data.high, self.data.low, self.data.close)\n",
        "\n",
        "    def notify_order(self, order):\n",
        "        if not order.alive() and order.ref in self.orefs:\n",
        "            self.orefs.remove(order.ref)\n",
        "\n",
        "    def next(self):\n",
        "        if self.orefs:\n",
        "            return  # pending orders do nothing\n",
        "\n",
        "        # Check if we are in the market\n",
        "        if not self.position:\n",
        "            # We are not in the market, look for a signal to OPEN trades\n",
        "            if self.marubozu[0] == 100:\n",
        "                # strong buy momentum, open long position\n",
        "                stoploss = self.data.low[0]  # Low of marubozu will act as stoploss\n",
        "                target = (self.params.rrr * (self.data.close[0] - stoploss)) + self.data[0]\n",
        "                self.log(f'Long : %.2f, Target: %.2f, Stoploss: %.2f' % (self.data[0], target, stoploss))\n",
        "                os = self.buy_bracket(price=self.data[0], limitprice=target, stopprice=stoploss)\n",
        "                self.orefs = [o.ref for o in os]\n",
        "            elif self.marubozu[0] == -100:\n",
        "                # strong sell momentum, open short position\n",
        "                stoploss = self.data_high[0]  # High of marubozu will act as stoploss\n",
        "                target = self.data[0] - (self.params.rrr * (stoploss - self.data[0]))\n",
        "                self.log(f'Short: %.2f, Target: %.2f, Stoploss: %.2f' % (self.data[0], target, stoploss))\n",
        "                os = self.sell_bracket(price=self.data[0], limitprice=target, stopprice=stoploss)\n",
        "                self.orefs = [o.ref for o in os]\n"
      ],
      "metadata": {
        "id": "mLIoBvHiLSOa"
      },
      "execution_count": 26,
      "outputs": []
    },
    {
      "cell_type": "markdown",
      "metadata": {
        "id": "YnuChnJ0EWPw"
      },
      "source": [
        "## Appendix"
      ]
    },
    {
      "cell_type": "markdown",
      "metadata": {
        "id": "bCcsDNgvEZSH"
      },
      "source": [
        "### Logging DateTime with Timezone Support in Backtrader\n",
        "When analyzing intraday trades, having accurate timestamps with timezone support can be crucial for understanding when trades occur in relation to market hours. Backtrader supports timezone handling, allowing you to log the exact datetime of each event during strategy execution.\n",
        "\n"
      ]
    },
    {
      "cell_type": "code",
      "execution_count": 27,
      "metadata": {
        "id": "Rv66efiZEXbV"
      },
      "outputs": [],
      "source": [
        "import pytz\n",
        "\n",
        "class BaseStrategy(bt.Strategy):\n",
        "\n",
        "    def log(self, txt, dt=None):\n",
        "        \"\"\"Logging function for strategy\"\"\"\n",
        "        dt = dt or self.data.datetime.datetime(0)\n",
        "        print(f'{dt.isoformat()}: {txt}')\n",
        "\n",
        "# When feeding your data into Backtrader,\n",
        "# you can specify the timezone using the tz parameter.\n",
        "data0 = bt.feeds.PandasData(dataname=data, tz=pytz.timezone('Asia/Kolkata'))"
      ]
    },
    {
      "cell_type": "markdown",
      "source": [
        "### Simulating Broker Commision\n",
        "\n",
        "Within the regular cerebro creation/set-up process, just add a call to setcommission over the broker member attribute."
      ],
      "metadata": {
        "id": "MYRxmetf1CFW"
      }
    },
    {
      "cell_type": "code",
      "source": [
        "# cerebro.broker.setcommission(0.0003)  # 0.03% Brokerage"
      ],
      "metadata": {
        "id": "WIGsZTLB4bMo"
      },
      "execution_count": 28,
      "outputs": []
    },
    {
      "cell_type": "markdown",
      "source": [
        "To Log the commision related info use following:"
      ],
      "metadata": {
        "id": "yx4wKG5Z470a"
      }
    },
    {
      "cell_type": "code",
      "source": [
        "# self.log(\"Trade Summary, gross: %.2f, net: %.2f, duration: %d\\n\" % (trade.pnl, trade.pnlcomm, trade.barlen))\n",
        "# self.log(\"BUY EXECUTED, price: %.2f, commision: %.2f\" % (order.executed.price, order.executed.comm))"
      ],
      "metadata": {
        "id": "n66ZAWjl47Lh"
      },
      "execution_count": 29,
      "outputs": []
    },
    {
      "cell_type": "markdown",
      "source": [
        "### Customize Order Size"
      ],
      "metadata": {
        "id": "snJIdpSC1Pb0"
      }
    },
    {
      "cell_type": "code",
      "source": [
        "# cerebro.addsizer(bt.sizers.AllInSizerInt)\n",
        "# cerebro.addsizer(bt.sizers.FixedSize, stake=10)"
      ],
      "metadata": {
        "id": "HsuYdiJX1Gb1"
      },
      "execution_count": 30,
      "outputs": []
    }
  ],
  "metadata": {
    "colab": {
      "toc_visible": true,
      "provenance": [],
      "include_colab_link": true
    },
    "kernelspec": {
      "display_name": "Python 3",
      "name": "python3"
    },
    "language_info": {
      "name": "python"
    }
  },
  "nbformat": 4,
  "nbformat_minor": 0
}